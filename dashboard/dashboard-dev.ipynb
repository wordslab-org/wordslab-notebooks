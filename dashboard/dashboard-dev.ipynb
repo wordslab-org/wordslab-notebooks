{
 "cells": [
  {
   "cell_type": "code",
   "execution_count": 1,
   "id": "e5740a11-acd7-4f1d-b044-cca849912fd6",
   "metadata": {
    "execution": {
     "iopub.execute_input": "2025-01-28T19:59:22.149936Z",
     "iopub.status.busy": "2025-01-28T19:59:22.149737Z",
     "iopub.status.idle": "2025-01-28T19:59:22.154965Z",
     "shell.execute_reply": "2025-01-28T19:59:22.154422Z",
     "shell.execute_reply.started": "2025-01-28T19:59:22.149922Z"
    }
   },
   "outputs": [
    {
     "data": {
      "text/plain": [
       "'WindowsSubsystemForLinux'"
      ]
     },
     "execution_count": 1,
     "metadata": {},
     "output_type": "execute_result"
    }
   ],
   "source": [
    "import os\n",
    "import subprocess\n",
    "from pathlib import Path\n",
    "\n",
    "platform = os.getenv('WORDSLAB_PLATFORM', 'UnknownLinux')\n",
    "platform"
   ]
  },
  {
   "cell_type": "code",
   "execution_count": 3,
   "id": "0ece60b2-ab69-458f-91a5-924403ea258a",
   "metadata": {
    "execution": {
     "iopub.execute_input": "2025-01-28T19:59:36.695115Z",
     "iopub.status.busy": "2025-01-28T19:59:36.694918Z",
     "iopub.status.idle": "2025-01-28T19:59:36.700140Z",
     "shell.execute_reply": "2025-01-28T19:59:36.699613Z",
     "shell.execute_reply.started": "2025-01-28T19:59:36.695102Z"
    }
   },
   "outputs": [
    {
     "data": {
      "text/plain": [
       "'Ubuntu 24.04.1 LTS'"
      ]
     },
     "execution_count": 3,
     "metadata": {},
     "output_type": "execute_result"
    }
   ],
   "source": [
    "# Get Ubuntu version\n",
    "try:\n",
    "    # Try reading from /etc/os-release first\n",
    "    with open('/etc/os-release', 'r') as f:\n",
    "        for line in f:\n",
    "            if line.startswith('PRETTY_NAME='):\n",
    "                os_version = line.split('=')[1].strip().strip('\"')\n",
    "                break\n",
    "except:\n",
    "    try:\n",
    "        # Fallback to reading from /etc/issue\n",
    "        with open('/etc/issue', 'r') as f:\n",
    "            os_version = f.read().strip().split('\\\\')[0].strip()\n",
    "    except:\n",
    "        os_version = \"Unknown\"\n",
    "\n",
    "os_version"
   ]
  },
  {
   "cell_type": "code",
   "execution_count": 4,
   "id": "eec8fa41-dbec-4023-81aa-0dab72db77fd",
   "metadata": {
    "execution": {
     "iopub.execute_input": "2025-01-28T19:59:55.051779Z",
     "iopub.status.busy": "2025-01-28T19:59:55.051599Z",
     "iopub.status.idle": "2025-01-28T19:59:55.056151Z",
     "shell.execute_reply": "2025-01-28T19:59:55.055495Z",
     "shell.execute_reply.started": "2025-01-28T19:59:55.051768Z"
    }
   },
   "outputs": [
    {
     "data": {
      "text/plain": [
       "'2025-01'"
      ]
     },
     "execution_count": 4,
     "metadata": {},
     "output_type": "execute_result"
    }
   ],
   "source": [
    "wordslab_version = os.getenv('WORDSLAB_VERSION', 'Unknown')\n",
    "wordslab_version"
   ]
  },
  {
   "cell_type": "code",
   "execution_count": 5,
   "id": "3b3998cb-8d4f-491f-986d-45b67a2c63ff",
   "metadata": {
    "execution": {
     "iopub.execute_input": "2025-01-28T20:01:04.404317Z",
     "iopub.status.busy": "2025-01-28T20:01:04.404102Z",
     "iopub.status.idle": "2025-01-28T20:01:05.928431Z",
     "shell.execute_reply": "2025-01-28T20:01:05.927932Z",
     "shell.execute_reply.started": "2025-01-28T20:01:04.404302Z"
    }
   },
   "outputs": [
    {
     "data": {
      "text/plain": [
       "{'pytorch': '2.5.1', 'python cuda': '12.4', 'gpu cuda': '12.7'}"
      ]
     },
     "execution_count": 5,
     "metadata": {},
     "output_type": "execute_result"
    }
   ],
   "source": [
    "from importlib.metadata import version\n",
    "import torch\n",
    "import pynvml\n",
    "\n",
    "apps_versions = { 'pytorch': version('torch') }\n",
    "\n",
    "cpu_only_file = Path(os.getenv('WORDSLAB_NOTEBOOKS_ENV', '')) / '.cpu-only'\n",
    "if not cpu_only_file.exists():\n",
    "    try:\n",
    "        if torch.cuda.is_available():\n",
    "            apps_versions['python cuda'] = torch.version.cuda\n",
    "    except:\n",
    "        pass\n",
    "    try:\n",
    "        pynvml.nvmlInit()\n",
    "        handle = pynvml.nvmlDeviceGetHandleByIndex(0)\n",
    "        driver_cuda_version = pynvml.nvmlSystemGetCudaDriverVersion_v2()\n",
    "        apps_versions['gpu cuda'] = f\"{driver_cuda_version//1000}.{(driver_cuda_version%1000)//10}\"\n",
    "        pynvml.nvmlShutdown()\n",
    "    except:\n",
    "        pass\n",
    "\n",
    "apps_versions"
   ]
  },
  {
   "cell_type": "markdown",
   "id": "ba1bf023-cec1-4716-a7ad-56fef43eb4d4",
   "metadata": {},
   "source": [
    "### Get URL - Windows Subsystem for Linux\n",
    "\n",
    "```\n",
    "User req as a route parameter\n",
    "=> req.url\n",
    "\n",
    "Append port : 8880 - 8888\n",
    "```"
   ]
  },
  {
   "cell_type": "markdown",
   "id": "6916e046-92a7-4127-9d7d-699c834756b5",
   "metadata": {
    "execution": {
     "iopub.execute_input": "2025-01-28T20:44:30.129566Z",
     "iopub.status.busy": "2025-01-28T20:44:30.128534Z",
     "iopub.status.idle": "2025-01-28T20:44:30.139607Z",
     "shell.execute_reply": "2025-01-28T20:44:30.138498Z",
     "shell.execute_reply.started": "2025-01-28T20:44:30.129494Z"
    }
   },
   "source": [
    "### Get URL - Jarvislabs\n",
    "\n",
    "```\n",
    "MACHINE_NAME=test-install2 (UI)\n",
    "MACHINE_ID=261560 (API)\n",
    "\n",
    "HOSTNAME=98708c9cbe44 (?)\n",
    "\n",
    "reserved ports: 6006,7007\n",
    "\n",
    "Native JUPYTERLAB\n",
    "internal port: 8889\n",
    "https://98708c261555.notebooks.jarvislabs.net/lab\n",
    "\n",
    "APIs\n",
    "https://98708c2615551.notebooks.jarvislabs.net/ => 6006\n",
    "https://98708c2615552.notebooks.jarvislabs.net/ => Jupyterlab:8880\n",
    "https://98708c2615553.notebooks.jarvislabs.net/ => VsCode:8881\n",
    "https://98708c2615553.notebooks.jarvislabs.net/ => Ollama:8882\n",
    "...\n",
    "https://98708c26155510.notebooks.jarvislabs.net/ => Dashboard:8888\n",
    "```"
   ]
  },
  {
   "cell_type": "markdown",
   "id": "2737286a-c8ed-4ec0-8689-a9864ed7ae6d",
   "metadata": {},
   "source": [
    "### Get URL - Runpod\n",
    "\n",
    "```\n",
    "RUNPOD_POD_ID=ebkhet9vq5flt7 (UI + used for URLs)\n",
    "\n",
    "RUNPOD_PUBLIC_IP=69.30.85.49\n",
    "RUNPOD_TCP_PORT_22=22047\n",
    "\n",
    "RUNPOD_DC_ID=CA-MTL-1\n",
    "RUNPOD_POD_HOSTNAME=ebkhet9vq5flt7-644112e4\n",
    "\n",
    "HOSTNAME=5936ba7c007d (?)\n",
    "\n",
    "Native JUPYTERLAB\n",
    "internal port: 8888\n",
    "https://ebkhet9vq5flt7-8888.proxy.runpod.net/lab\n",
    "\n",
    "Http Services\n",
    "https://ebkhet9vq5flt7-8880.proxy.runpod.net/\n",
    "...\n",
    "https://ebkhet9vq5flt7-8888.proxy.runpod.net/\n",
    "```"
   ]
  },
  {
   "cell_type": "markdown",
   "id": "57da3144-5a8a-48ff-a8ce-02b479d69cc3",
   "metadata": {},
   "source": [
    "### Get URL - Vast.ai\n",
    "\n",
    "```\n",
    "CONTAINER_ID=16855978 (UI)\n",
    "\n",
    "HOSTNAME=9e254447c27d\n",
    "\n",
    "PUBLIC_IPADDR=142.115.158.140\n",
    "VAST_TCP_PORT_22=42790\n",
    "VAST_TCP_PORT_8080=42702\n",
    "\n",
    "Native JUPYTERLAB\n",
    "internal port: 8080\n",
    "https://142.115.158.140:42702/tree\n",
    "\n",
    "Open ports\n",
    "VAST_TCP_PORT_8880=42777\n",
    "VAST_TCP_PORT_8881=42791\n",
    "VAST_TCP_PORT_8882=42623\n",
    "VAST_TCP_PORT_8883=42779\n",
    "VAST_TCP_PORT_8884=42668\n",
    "VAST_TCP_PORT_8885=42663\n",
    "VAST_TCP_PORT_8886=42729\n",
    "VAST_TCP_PORT_8887=42736\n",
    "```"
   ]
  },
  {
   "cell_type": "code",
   "execution_count": 42,
   "id": "00f23db4-3adb-4b5e-848a-b5c5c56fe23c",
   "metadata": {
    "execution": {
     "iopub.execute_input": "2025-01-28T22:57:18.400167Z",
     "iopub.status.busy": "2025-01-28T22:57:18.399453Z",
     "iopub.status.idle": "2025-01-28T22:57:18.404082Z",
     "shell.execute_reply": "2025-01-28T22:57:18.403371Z",
     "shell.execute_reply.started": "2025-01-28T22:57:18.400152Z"
    }
   },
   "outputs": [],
   "source": [
    "def get_root_urls(platform, req):\n",
    "\n",
    "    if platform==\"WindowsSubsystemForLinux\" or platform==\"UnknownLinux\":\n",
    "        \n",
    "        dashboard_root_url = f\"{req.url.scheme}://{req.url.host}\"\n",
    "        return [f\"{dashboard_root_url}:{port}\" for port in range(8880,8889)]\n",
    "    \n",
    "    elif platform==\"Jarvislabs.ai\":\n",
    "\n",
    "        url_prefix, url_suffix = req.url.host.split('.', 1)\n",
    "        return [f\"{req.url.scheme}://{url_prefix}{i}.{url_suffix}\" for i in range(2,11)]\n",
    "\n",
    "    elif platform==\"Runpod.io\": \n",
    "\n",
    "        pod_id = os.getenv('RUNPOD_POD_ID')\n",
    "        _, domain = req.url.host.split('.', 1)    \n",
    "        return [f\"{req.url.scheme}://{pod_id}-{port}.{domain}\" for port in range(8880,8889)]\n",
    "\n",
    "    elif platform==\"Vast.ai\": \n",
    "\n",
    "        public_ip = os.getenv('PUBLIC_IPADDR')\n",
    "        external_ports = [os.getenv(f'VAST_TCP_PORT_{port}') for port in range(8880,8889)]\n",
    "        return [f\"{req.url.scheme}://{public_ip}:{ext_port}\" for ext_port in external_ports]"
   ]
  },
  {
   "cell_type": "code",
   "execution_count": 47,
   "id": "8ce9424e-7402-461d-bd0f-74822ecbd6ae",
   "metadata": {
    "execution": {
     "iopub.execute_input": "2025-01-28T22:59:22.272323Z",
     "iopub.status.busy": "2025-01-28T22:59:22.271749Z",
     "iopub.status.idle": "2025-01-28T22:59:22.277136Z",
     "shell.execute_reply": "2025-01-28T22:59:22.276568Z",
     "shell.execute_reply.started": "2025-01-28T22:59:22.272307Z"
    }
   },
   "outputs": [],
   "source": [
    "from types import SimpleNamespace\n",
    "\n",
    "reqWSL = lambda: None\n",
    "reqWSL.url = lambda: None\n",
    "reqWSL.url.scheme = \"http\"\n",
    "reqWSL.url.host = \"127.0.0.1\"\n",
    "\n",
    "reqJarvis = lambda: None\n",
    "reqJarvis.url = lambda: None\n",
    "reqJarvis.url.scheme = \"https\"\n",
    "reqJarvis.url.host = \"98708c261555.notebooks.jarvislabs.net\"\n",
    "\n",
    "reqRunpod = lambda: None\n",
    "reqRunpod.url = lambda: None\n",
    "reqRunpod.url.scheme = \"https\"\n",
    "reqRunpod.url.host = \"ebkhet9vq5flt7-8888.proxy.runpod.net\"\n",
    "\n",
    "os.environ[\"RUNPOD_POD_ID\"] = \"ebkhet9vq5flt7\"\n",
    "\n",
    "reqVast = lambda: None\n",
    "reqVast.url = lambda: None\n",
    "reqVast.url.scheme = \"https\"\n",
    "reqVast.url.host = \"142.115.158.140\"\n",
    "\n",
    "os.environ[\"PUBLIC_IPADDR\"] = \"142.115.158.140\"\n",
    "os.environ[\"VAST_TCP_PORT_8880\"] = \"42777\"\n",
    "os.environ[\"VAST_TCP_PORT_8881\"] = \"42791\"\n",
    "os.environ[\"VAST_TCP_PORT_8882\"] = \"42623\"\n",
    "os.environ[\"VAST_TCP_PORT_8883\"] = \"42779\"\n",
    "os.environ[\"VAST_TCP_PORT_8884\"] = \"42668\"\n",
    "os.environ[\"VAST_TCP_PORT_8885\"] = \"42663\"\n",
    "os.environ[\"VAST_TCP_PORT_8886\"] = \"42729\"\n",
    "os.environ[\"VAST_TCP_PORT_8887\"] = \"42736\""
   ]
  },
  {
   "cell_type": "code",
   "execution_count": 27,
   "id": "c590e758-cd69-42b5-84ed-a7a55dff07a1",
   "metadata": {
    "execution": {
     "iopub.execute_input": "2025-01-28T22:53:43.169541Z",
     "iopub.status.busy": "2025-01-28T22:53:43.168895Z",
     "iopub.status.idle": "2025-01-28T22:53:43.173171Z",
     "shell.execute_reply": "2025-01-28T22:53:43.172522Z",
     "shell.execute_reply.started": "2025-01-28T22:53:43.169526Z"
    }
   },
   "outputs": [
    {
     "data": {
      "text/plain": [
       "['http://127.0.0.1:8880',\n",
       " 'http://127.0.0.1:8881',\n",
       " 'http://127.0.0.1:8882',\n",
       " 'http://127.0.0.1:8883',\n",
       " 'http://127.0.0.1:8884',\n",
       " 'http://127.0.0.1:8885',\n",
       " 'http://127.0.0.1:8886',\n",
       " 'http://127.0.0.1:8887',\n",
       " 'http://127.0.0.1:8888']"
      ]
     },
     "execution_count": 27,
     "metadata": {},
     "output_type": "execute_result"
    }
   ],
   "source": [
    "get_root_urls(\"WindowsSubsystemForLinux\", reqWSL)"
   ]
  },
  {
   "cell_type": "code",
   "execution_count": 31,
   "id": "828db6df-1009-457e-b10c-5325b2c32bfc",
   "metadata": {
    "execution": {
     "iopub.execute_input": "2025-01-28T22:54:44.819277Z",
     "iopub.status.busy": "2025-01-28T22:54:44.818791Z",
     "iopub.status.idle": "2025-01-28T22:54:44.825035Z",
     "shell.execute_reply": "2025-01-28T22:54:44.824337Z",
     "shell.execute_reply.started": "2025-01-28T22:54:44.819258Z"
    }
   },
   "outputs": [
    {
     "data": {
      "text/plain": [
       "['https://98708c2615552.notebooks.jarvislabs.net',\n",
       " 'https://98708c2615553.notebooks.jarvislabs.net',\n",
       " 'https://98708c2615554.notebooks.jarvislabs.net',\n",
       " 'https://98708c2615555.notebooks.jarvislabs.net',\n",
       " 'https://98708c2615556.notebooks.jarvislabs.net',\n",
       " 'https://98708c2615557.notebooks.jarvislabs.net',\n",
       " 'https://98708c2615558.notebooks.jarvislabs.net',\n",
       " 'https://98708c2615559.notebooks.jarvislabs.net',\n",
       " 'https://98708c26155510.notebooks.jarvislabs.net']"
      ]
     },
     "execution_count": 31,
     "metadata": {},
     "output_type": "execute_result"
    }
   ],
   "source": [
    "get_root_urls(\"Jarvislabs.ai\", reqJarvis)"
   ]
  },
  {
   "cell_type": "code",
   "execution_count": 40,
   "id": "5057e02b-2be9-41fa-a6be-ac3220cab583",
   "metadata": {
    "execution": {
     "iopub.execute_input": "2025-01-28T22:56:26.527104Z",
     "iopub.status.busy": "2025-01-28T22:56:26.526915Z",
     "iopub.status.idle": "2025-01-28T22:56:26.531254Z",
     "shell.execute_reply": "2025-01-28T22:56:26.530708Z",
     "shell.execute_reply.started": "2025-01-28T22:56:26.527091Z"
    }
   },
   "outputs": [
    {
     "data": {
      "text/plain": [
       "['https://ebkhet9vq5flt7-8880.proxy.runpod.net',\n",
       " 'https://ebkhet9vq5flt7-8881.proxy.runpod.net',\n",
       " 'https://ebkhet9vq5flt7-8882.proxy.runpod.net',\n",
       " 'https://ebkhet9vq5flt7-8883.proxy.runpod.net',\n",
       " 'https://ebkhet9vq5flt7-8884.proxy.runpod.net',\n",
       " 'https://ebkhet9vq5flt7-8885.proxy.runpod.net',\n",
       " 'https://ebkhet9vq5flt7-8886.proxy.runpod.net',\n",
       " 'https://ebkhet9vq5flt7-8887.proxy.runpod.net',\n",
       " 'https://ebkhet9vq5flt7-8888.proxy.runpod.net']"
      ]
     },
     "execution_count": 40,
     "metadata": {},
     "output_type": "execute_result"
    }
   ],
   "source": [
    "get_root_urls(\"Runpod.io\", reqRunpod)"
   ]
  },
  {
   "cell_type": "code",
   "execution_count": 48,
   "id": "17e13a99-4df8-49db-8b4a-c31a4585e3d1",
   "metadata": {
    "execution": {
     "iopub.execute_input": "2025-01-28T22:59:25.191529Z",
     "iopub.status.busy": "2025-01-28T22:59:25.191339Z",
     "iopub.status.idle": "2025-01-28T22:59:25.195241Z",
     "shell.execute_reply": "2025-01-28T22:59:25.194760Z",
     "shell.execute_reply.started": "2025-01-28T22:59:25.191516Z"
    }
   },
   "outputs": [
    {
     "data": {
      "text/plain": [
       "['https://142.115.158.140:42777',\n",
       " 'https://142.115.158.140:42791',\n",
       " 'https://142.115.158.140:42623',\n",
       " 'https://142.115.158.140:42779',\n",
       " 'https://142.115.158.140:42668',\n",
       " 'https://142.115.158.140:42663',\n",
       " 'https://142.115.158.140:42729',\n",
       " 'https://142.115.158.140:42736',\n",
       " 'https://142.115.158.140:None']"
      ]
     },
     "execution_count": 48,
     "metadata": {},
     "output_type": "execute_result"
    }
   ],
   "source": [
    "get_root_urls(\"Vast.ai\", reqVast)"
   ]
  },
  {
   "cell_type": "code",
   "execution_count": null,
   "id": "244e5394-bcfb-4ef5-b533-85a0c568ce44",
   "metadata": {},
   "outputs": [],
   "source": []
  }
 ],
 "metadata": {
  "kernelspec": {
   "display_name": "wordslab-notebooks-tutorials",
   "language": "python",
   "name": "wordslab-notebooks-tutorials"
  },
  "language_info": {
   "codemirror_mode": {
    "name": "ipython",
    "version": 3
   },
   "file_extension": ".py",
   "mimetype": "text/x-python",
   "name": "python",
   "nbconvert_exporter": "python",
   "pygments_lexer": "ipython3",
   "version": "3.12.8"
  }
 },
 "nbformat": 4,
 "nbformat_minor": 5
}
