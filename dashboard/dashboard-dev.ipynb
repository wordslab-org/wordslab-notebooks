{
 "cells": [
  {
   "cell_type": "code",
   "execution_count": 1,
   "id": "e5740a11-acd7-4f1d-b044-cca849912fd6",
   "metadata": {
    "execution": {
     "iopub.execute_input": "2025-02-08T20:50:36.127512Z",
     "iopub.status.busy": "2025-02-08T20:50:36.127109Z",
     "iopub.status.idle": "2025-02-08T20:50:36.138989Z",
     "shell.execute_reply": "2025-02-08T20:50:36.138461Z",
     "shell.execute_reply.started": "2025-02-08T20:50:36.127483Z"
    }
   },
   "outputs": [
    {
     "data": {
      "text/plain": [
       "'WindowsSubsystemForLinux'"
      ]
     },
     "execution_count": 1,
     "metadata": {},
     "output_type": "execute_result"
    }
   ],
   "source": [
    "import os\n",
    "import subprocess\n",
    "from pathlib import Path\n",
    "\n",
    "platform = os.getenv('WORDSLAB_PLATFORM', 'UnknownLinux')\n",
    "platform"
   ]
  },
  {
   "cell_type": "code",
   "execution_count": 2,
   "id": "0ece60b2-ab69-458f-91a5-924403ea258a",
   "metadata": {
    "execution": {
     "iopub.execute_input": "2025-02-08T20:50:37.225527Z",
     "iopub.status.busy": "2025-02-08T20:50:37.225041Z",
     "iopub.status.idle": "2025-02-08T20:50:37.231757Z",
     "shell.execute_reply": "2025-02-08T20:50:37.231366Z",
     "shell.execute_reply.started": "2025-02-08T20:50:37.225496Z"
    }
   },
   "outputs": [
    {
     "data": {
      "text/plain": [
       "'Ubuntu 24.04.1 LTS'"
      ]
     },
     "execution_count": 2,
     "metadata": {},
     "output_type": "execute_result"
    }
   ],
   "source": [
    "# Get Ubuntu version\n",
    "try:\n",
    "    # Try reading from /etc/os-release first\n",
    "    with open('/etc/os-release', 'r') as f:\n",
    "        for line in f:\n",
    "            if line.startswith('PRETTY_NAME='):\n",
    "                os_version = line.split('=')[1].strip().strip('\"')\n",
    "                break\n",
    "except:\n",
    "    try:\n",
    "        # Fallback to reading from /etc/issue\n",
    "        with open('/etc/issue', 'r') as f:\n",
    "            os_version = f.read().strip().split('\\\\')[0].strip()\n",
    "    except:\n",
    "        os_version = \"Unknown\"\n",
    "\n",
    "os_version"
   ]
  },
  {
   "cell_type": "code",
   "execution_count": 3,
   "id": "eec8fa41-dbec-4023-81aa-0dab72db77fd",
   "metadata": {
    "execution": {
     "iopub.execute_input": "2025-02-08T20:50:38.427315Z",
     "iopub.status.busy": "2025-02-08T20:50:38.426826Z",
     "iopub.status.idle": "2025-02-08T20:50:38.435010Z",
     "shell.execute_reply": "2025-02-08T20:50:38.434285Z",
     "shell.execute_reply.started": "2025-02-08T20:50:38.427282Z"
    }
   },
   "outputs": [
    {
     "data": {
      "text/plain": [
       "'2025-01'"
      ]
     },
     "execution_count": 3,
     "metadata": {},
     "output_type": "execute_result"
    }
   ],
   "source": [
    "wordslab_version = os.getenv('WORDSLAB_VERSION', 'Unknown')\n",
    "wordslab_version"
   ]
  },
  {
   "cell_type": "code",
   "execution_count": 4,
   "id": "3b3998cb-8d4f-491f-986d-45b67a2c63ff",
   "metadata": {
    "execution": {
     "iopub.execute_input": "2025-02-08T20:50:39.233586Z",
     "iopub.status.busy": "2025-02-08T20:50:39.233161Z",
     "iopub.status.idle": "2025-02-08T20:50:40.662312Z",
     "shell.execute_reply": "2025-02-08T20:50:40.661938Z",
     "shell.execute_reply.started": "2025-02-08T20:50:39.233556Z"
    }
   },
   "outputs": [
    {
     "data": {
      "text/plain": [
       "{'pytorch': '2.5.1', 'python cuda': '12.4', 'gpu cuda': '12.8'}"
      ]
     },
     "execution_count": 4,
     "metadata": {},
     "output_type": "execute_result"
    }
   ],
   "source": [
    "from importlib.metadata import version\n",
    "import torch\n",
    "import pynvml\n",
    "\n",
    "apps_versions = { 'pytorch': version('torch') }\n",
    "\n",
    "cpu_only_file = Path(os.getenv('WORDSLAB_NOTEBOOKS_ENV', '')) / '.cpu-only'\n",
    "if not cpu_only_file.exists():\n",
    "    try:\n",
    "        if torch.cuda.is_available():\n",
    "            apps_versions['python cuda'] = torch.version.cuda\n",
    "    except:\n",
    "        pass\n",
    "    try:\n",
    "        pynvml.nvmlInit()\n",
    "        handle = pynvml.nvmlDeviceGetHandleByIndex(0)\n",
    "        driver_cuda_version = pynvml.nvmlSystemGetCudaDriverVersion_v2()\n",
    "        apps_versions['gpu cuda'] = f\"{driver_cuda_version//1000}.{(driver_cuda_version%1000)//10}\"\n",
    "        pynvml.nvmlShutdown()\n",
    "    except:\n",
    "        pass\n",
    "\n",
    "apps_versions"
   ]
  },
  {
   "cell_type": "markdown",
   "id": "ba1bf023-cec1-4716-a7ad-56fef43eb4d4",
   "metadata": {},
   "source": [
    "### Get URL - Windows Subsystem for Linux\n",
    "\n",
    "```\n",
    "User req as a route parameter\n",
    "=> req.url\n",
    "\n",
    "Append port : 8880 - 8888\n",
    "```"
   ]
  },
  {
   "cell_type": "markdown",
   "id": "6916e046-92a7-4127-9d7d-699c834756b5",
   "metadata": {
    "execution": {
     "iopub.execute_input": "2025-01-28T20:44:30.129566Z",
     "iopub.status.busy": "2025-01-28T20:44:30.128534Z",
     "iopub.status.idle": "2025-01-28T20:44:30.139607Z",
     "shell.execute_reply": "2025-01-28T20:44:30.138498Z",
     "shell.execute_reply.started": "2025-01-28T20:44:30.129494Z"
    }
   },
   "source": [
    "### Get URL - Jarvislabs\n",
    "\n",
    "```\n",
    "MACHINE_NAME=test-install2 (UI)\n",
    "MACHINE_ID=261560 (API)\n",
    "\n",
    "HOSTNAME=98708c9cbe44 (?)\n",
    "\n",
    "reserved ports: 6006,7007\n",
    "\n",
    "Native JUPYTERLAB\n",
    "internal port: 8889\n",
    "https://98708c261555.notebooks.jarvislabs.net/lab\n",
    "\n",
    "APIs\n",
    "https://98708c2615551.notebooks.jarvislabs.net/ => 6006\n",
    "https://98708c2615552.notebooks.jarvislabs.net/ => Jupyterlab:8880\n",
    "https://98708c2615553.notebooks.jarvislabs.net/ => VsCode:8881\n",
    "https://98708c2615553.notebooks.jarvislabs.net/ => Ollama:8882\n",
    "...\n",
    "https://98708c26155510.notebooks.jarvislabs.net/ => Dashboard:8888\n",
    "```"
   ]
  },
  {
   "cell_type": "markdown",
   "id": "2737286a-c8ed-4ec0-8689-a9864ed7ae6d",
   "metadata": {},
   "source": [
    "### Get URL - Runpod\n",
    "\n",
    "```\n",
    "RUNPOD_POD_ID=ebkhet9vq5flt7 (UI + used for URLs)\n",
    "\n",
    "RUNPOD_PUBLIC_IP=69.30.85.49\n",
    "RUNPOD_TCP_PORT_22=22047\n",
    "\n",
    "RUNPOD_DC_ID=CA-MTL-1\n",
    "RUNPOD_POD_HOSTNAME=ebkhet9vq5flt7-644112e4\n",
    "\n",
    "HOSTNAME=5936ba7c007d (?)\n",
    "\n",
    "Native JUPYTERLAB\n",
    "internal port: 8888\n",
    "https://ebkhet9vq5flt7-8888.proxy.runpod.net/lab\n",
    "\n",
    "Http Services\n",
    "https://ebkhet9vq5flt7-8880.proxy.runpod.net/\n",
    "...\n",
    "https://ebkhet9vq5flt7-8888.proxy.runpod.net/\n",
    "```"
   ]
  },
  {
   "cell_type": "markdown",
   "id": "57da3144-5a8a-48ff-a8ce-02b479d69cc3",
   "metadata": {},
   "source": [
    "### Get URL - Vast.ai\n",
    "\n",
    "```\n",
    "CONTAINER_ID=16855978 (UI)\n",
    "\n",
    "HOSTNAME=9e254447c27d\n",
    "\n",
    "PUBLIC_IPADDR=142.115.158.140\n",
    "VAST_TCP_PORT_22=42790\n",
    "VAST_TCP_PORT_8080=42702\n",
    "\n",
    "Native JUPYTERLAB\n",
    "internal port: 8080\n",
    "https://142.115.158.140:42702/tree\n",
    "\n",
    "Open ports\n",
    "VAST_TCP_PORT_8880=42777\n",
    "VAST_TCP_PORT_8881=42791\n",
    "VAST_TCP_PORT_8882=42623\n",
    "VAST_TCP_PORT_8883=42779\n",
    "VAST_TCP_PORT_8884=42668\n",
    "VAST_TCP_PORT_8885=42663\n",
    "VAST_TCP_PORT_8886=42729\n",
    "VAST_TCP_PORT_8887=42736\n",
    "```"
   ]
  },
  {
   "cell_type": "code",
   "execution_count": 5,
   "id": "00f23db4-3adb-4b5e-848a-b5c5c56fe23c",
   "metadata": {
    "execution": {
     "iopub.execute_input": "2025-02-08T20:50:45.473706Z",
     "iopub.status.busy": "2025-02-08T20:50:45.473112Z",
     "iopub.status.idle": "2025-02-08T20:50:45.477976Z",
     "shell.execute_reply": "2025-02-08T20:50:45.477299Z",
     "shell.execute_reply.started": "2025-02-08T20:50:45.473688Z"
    }
   },
   "outputs": [],
   "source": [
    "def get_root_urls(platform, req):\n",
    "\n",
    "    if platform==\"WindowsSubsystemForLinux\" or platform==\"UnknownLinux\":\n",
    "        \n",
    "        dashboard_root_url = f\"{req.url.scheme}://{req.url.host}\"\n",
    "        return [f\"{dashboard_root_url}:{port}\" for port in range(8880,8889)]\n",
    "    \n",
    "    elif platform==\"Jarvislabs.ai\":\n",
    "\n",
    "        url_prefix, url_suffix = req.url.host.split('.', 1)\n",
    "        return [f\"{req.url.scheme}://{url_prefix}{i}.{url_suffix}\" for i in range(2,11)]\n",
    "\n",
    "    elif platform==\"Runpod.io\": \n",
    "\n",
    "        pod_id = os.getenv('RUNPOD_POD_ID')\n",
    "        _, domain = req.url.host.split('.', 1)    \n",
    "        return [f\"{req.url.scheme}://{pod_id}-{port}.{domain}\" for port in range(8880,8889)]\n",
    "\n",
    "    elif platform==\"Vast.ai\": \n",
    "\n",
    "        public_ip = os.getenv('PUBLIC_IPADDR')\n",
    "        external_ports = [os.getenv(f'VAST_TCP_PORT_{port}') for port in range(8880,8889)]\n",
    "        return [f\"{req.url.scheme}://{public_ip}:{ext_port}\" for ext_port in external_ports]"
   ]
  },
  {
   "cell_type": "code",
   "execution_count": 6,
   "id": "8ce9424e-7402-461d-bd0f-74822ecbd6ae",
   "metadata": {
    "execution": {
     "iopub.execute_input": "2025-02-08T20:50:47.792706Z",
     "iopub.status.busy": "2025-02-08T20:50:47.791902Z",
     "iopub.status.idle": "2025-02-08T20:50:47.798650Z",
     "shell.execute_reply": "2025-02-08T20:50:47.798247Z",
     "shell.execute_reply.started": "2025-02-08T20:50:47.792672Z"
    }
   },
   "outputs": [],
   "source": [
    "from types import SimpleNamespace\n",
    "\n",
    "reqWSL = lambda: None\n",
    "reqWSL.url = lambda: None\n",
    "reqWSL.url.scheme = \"http\"\n",
    "reqWSL.url.host = \"127.0.0.1\"\n",
    "\n",
    "reqJarvis = lambda: None\n",
    "reqJarvis.url = lambda: None\n",
    "reqJarvis.url.scheme = \"https\"\n",
    "reqJarvis.url.host = \"98708c261555.notebooks.jarvislabs.net\"\n",
    "\n",
    "reqRunpod = lambda: None\n",
    "reqRunpod.url = lambda: None\n",
    "reqRunpod.url.scheme = \"https\"\n",
    "reqRunpod.url.host = \"ebkhet9vq5flt7-8888.proxy.runpod.net\"\n",
    "\n",
    "os.environ[\"RUNPOD_POD_ID\"] = \"ebkhet9vq5flt7\"\n",
    "\n",
    "reqVast = lambda: None\n",
    "reqVast.url = lambda: None\n",
    "reqVast.url.scheme = \"https\"\n",
    "reqVast.url.host = \"142.115.158.140\"\n",
    "\n",
    "os.environ[\"PUBLIC_IPADDR\"] = \"142.115.158.140\"\n",
    "os.environ[\"VAST_TCP_PORT_8880\"] = \"42777\"\n",
    "os.environ[\"VAST_TCP_PORT_8881\"] = \"42791\"\n",
    "os.environ[\"VAST_TCP_PORT_8882\"] = \"42623\"\n",
    "os.environ[\"VAST_TCP_PORT_8883\"] = \"42779\"\n",
    "os.environ[\"VAST_TCP_PORT_8884\"] = \"42668\"\n",
    "os.environ[\"VAST_TCP_PORT_8885\"] = \"42663\"\n",
    "os.environ[\"VAST_TCP_PORT_8886\"] = \"42729\"\n",
    "os.environ[\"VAST_TCP_PORT_8887\"] = \"42736\""
   ]
  },
  {
   "cell_type": "code",
   "execution_count": 7,
   "id": "c590e758-cd69-42b5-84ed-a7a55dff07a1",
   "metadata": {
    "execution": {
     "iopub.execute_input": "2025-02-08T20:50:48.625817Z",
     "iopub.status.busy": "2025-02-08T20:50:48.625240Z",
     "iopub.status.idle": "2025-02-08T20:50:48.629453Z",
     "shell.execute_reply": "2025-02-08T20:50:48.629107Z",
     "shell.execute_reply.started": "2025-02-08T20:50:48.625796Z"
    }
   },
   "outputs": [
    {
     "data": {
      "text/plain": [
       "['http://127.0.0.1:8880',\n",
       " 'http://127.0.0.1:8881',\n",
       " 'http://127.0.0.1:8882',\n",
       " 'http://127.0.0.1:8883',\n",
       " 'http://127.0.0.1:8884',\n",
       " 'http://127.0.0.1:8885',\n",
       " 'http://127.0.0.1:8886',\n",
       " 'http://127.0.0.1:8887',\n",
       " 'http://127.0.0.1:8888']"
      ]
     },
     "execution_count": 7,
     "metadata": {},
     "output_type": "execute_result"
    }
   ],
   "source": [
    "get_root_urls(\"WindowsSubsystemForLinux\", reqWSL)"
   ]
  },
  {
   "cell_type": "code",
   "execution_count": 8,
   "id": "828db6df-1009-457e-b10c-5325b2c32bfc",
   "metadata": {
    "execution": {
     "iopub.execute_input": "2025-02-08T20:50:49.097553Z",
     "iopub.status.busy": "2025-02-08T20:50:49.097081Z",
     "iopub.status.idle": "2025-02-08T20:50:49.105852Z",
     "shell.execute_reply": "2025-02-08T20:50:49.105011Z",
     "shell.execute_reply.started": "2025-02-08T20:50:49.097520Z"
    }
   },
   "outputs": [
    {
     "data": {
      "text/plain": [
       "['https://98708c2615552.notebooks.jarvislabs.net',\n",
       " 'https://98708c2615553.notebooks.jarvislabs.net',\n",
       " 'https://98708c2615554.notebooks.jarvislabs.net',\n",
       " 'https://98708c2615555.notebooks.jarvislabs.net',\n",
       " 'https://98708c2615556.notebooks.jarvislabs.net',\n",
       " 'https://98708c2615557.notebooks.jarvislabs.net',\n",
       " 'https://98708c2615558.notebooks.jarvislabs.net',\n",
       " 'https://98708c2615559.notebooks.jarvislabs.net',\n",
       " 'https://98708c26155510.notebooks.jarvislabs.net']"
      ]
     },
     "execution_count": 8,
     "metadata": {},
     "output_type": "execute_result"
    }
   ],
   "source": [
    "get_root_urls(\"Jarvislabs.ai\", reqJarvis)"
   ]
  },
  {
   "cell_type": "code",
   "execution_count": 9,
   "id": "5057e02b-2be9-41fa-a6be-ac3220cab583",
   "metadata": {
    "execution": {
     "iopub.execute_input": "2025-02-08T20:50:49.418813Z",
     "iopub.status.busy": "2025-02-08T20:50:49.418344Z",
     "iopub.status.idle": "2025-02-08T20:50:49.426823Z",
     "shell.execute_reply": "2025-02-08T20:50:49.426102Z",
     "shell.execute_reply.started": "2025-02-08T20:50:49.418785Z"
    }
   },
   "outputs": [
    {
     "data": {
      "text/plain": [
       "['https://ebkhet9vq5flt7-8880.proxy.runpod.net',\n",
       " 'https://ebkhet9vq5flt7-8881.proxy.runpod.net',\n",
       " 'https://ebkhet9vq5flt7-8882.proxy.runpod.net',\n",
       " 'https://ebkhet9vq5flt7-8883.proxy.runpod.net',\n",
       " 'https://ebkhet9vq5flt7-8884.proxy.runpod.net',\n",
       " 'https://ebkhet9vq5flt7-8885.proxy.runpod.net',\n",
       " 'https://ebkhet9vq5flt7-8886.proxy.runpod.net',\n",
       " 'https://ebkhet9vq5flt7-8887.proxy.runpod.net',\n",
       " 'https://ebkhet9vq5flt7-8888.proxy.runpod.net']"
      ]
     },
     "execution_count": 9,
     "metadata": {},
     "output_type": "execute_result"
    }
   ],
   "source": [
    "get_root_urls(\"Runpod.io\", reqRunpod)"
   ]
  },
  {
   "cell_type": "code",
   "execution_count": 10,
   "id": "17e13a99-4df8-49db-8b4a-c31a4585e3d1",
   "metadata": {
    "execution": {
     "iopub.execute_input": "2025-02-08T20:50:49.985253Z",
     "iopub.status.busy": "2025-02-08T20:50:49.983739Z",
     "iopub.status.idle": "2025-02-08T20:50:49.992581Z",
     "shell.execute_reply": "2025-02-08T20:50:49.991608Z",
     "shell.execute_reply.started": "2025-02-08T20:50:49.985204Z"
    }
   },
   "outputs": [
    {
     "data": {
      "text/plain": [
       "['https://142.115.158.140:42777',\n",
       " 'https://142.115.158.140:42791',\n",
       " 'https://142.115.158.140:42623',\n",
       " 'https://142.115.158.140:42779',\n",
       " 'https://142.115.158.140:42668',\n",
       " 'https://142.115.158.140:42663',\n",
       " 'https://142.115.158.140:42729',\n",
       " 'https://142.115.158.140:42736',\n",
       " 'https://142.115.158.140:None']"
      ]
     },
     "execution_count": 10,
     "metadata": {},
     "output_type": "execute_result"
    }
   ],
   "source": [
    "get_root_urls(\"Vast.ai\", reqVast)"
   ]
  },
  {
   "cell_type": "code",
   "execution_count": 11,
   "id": "244e5394-bcfb-4ef5-b533-85a0c568ce44",
   "metadata": {
    "execution": {
     "iopub.execute_input": "2025-02-08T20:50:52.479988Z",
     "iopub.status.busy": "2025-02-08T20:50:52.479527Z",
     "iopub.status.idle": "2025-02-08T20:50:52.489205Z",
     "shell.execute_reply": "2025-02-08T20:50:52.488876Z",
     "shell.execute_reply.started": "2025-02-08T20:50:52.479961Z"
    }
   },
   "outputs": [],
   "source": [
    "import psutil\n",
    "import subprocess\n",
    "from dataclasses import dataclass\n",
    "\n",
    "@dataclass \n",
    "class CPUMetrics:\n",
    "    cpu_model: str\n",
    "    cpu_cores: int\n",
    "    cpu_usage: float\n",
    "    ram_total: float  # GB\n",
    "    ram_used: float   # GB\n",
    "\n",
    "def get_cpu_metrics() -> CPUMetrics:\n",
    "    # Get CPU model\n",
    "    try:\n",
    "        with open('/proc/cpuinfo', 'r') as f:\n",
    "            for line in f:\n",
    "                if line.startswith('model name'):\n",
    "                    cpu_model = line.split(':')[1].strip()\n",
    "                    break\n",
    "    except:\n",
    "        cpu_model = \"Unknown\"\n",
    "\n",
    "    cpu_frequency = int(round(psutil.cpu_freq().current, -2))\n",
    "    \n",
    "    # Get number of logical cores\n",
    "    cpu_cores = psutil.cpu_count(logical=True)\n",
    "    \n",
    "    # Get CPU usage percentage\n",
    "    cpu_usage = psutil.cpu_percent()\n",
    "    \n",
    "    # Get RAM info in GB\n",
    "    ram = psutil.virtual_memory()\n",
    "    ram_total = ram.total / (1024**3)  # Convert bytes to GB\n",
    "    ram_used = ram.used / (1024**3)    # Convert bytes to GB\n",
    "    \n",
    "    return CPUMetrics(\n",
    "        cpu_model=f\"{cpu_model} {cpu_frequency} MHz\",\n",
    "        cpu_cores=cpu_cores,\n",
    "        cpu_usage=cpu_usage,\n",
    "        ram_total=ram_total,\n",
    "        ram_used=ram_used\n",
    "    )"
   ]
  },
  {
   "cell_type": "code",
   "execution_count": 12,
   "id": "0092a07c-5d57-488e-bce7-20876c3005cf",
   "metadata": {
    "execution": {
     "iopub.execute_input": "2025-02-08T20:50:54.238027Z",
     "iopub.status.busy": "2025-02-08T20:50:54.237551Z",
     "iopub.status.idle": "2025-02-08T20:50:54.246721Z",
     "shell.execute_reply": "2025-02-08T20:50:54.246054Z",
     "shell.execute_reply.started": "2025-02-08T20:50:54.237994Z"
    }
   },
   "outputs": [
    {
     "data": {
      "text/plain": [
       "CPUMetrics(cpu_model='13th Gen Intel(R) Core(TM) i7-13700K 3400 MHz', cpu_cores=24, cpu_usage=0.8, ram_total=31.036624908447266, ram_used=1.8710403442382812)"
      ]
     },
     "execution_count": 12,
     "metadata": {},
     "output_type": "execute_result"
    }
   ],
   "source": [
    "get_cpu_metrics()"
   ]
  },
  {
   "cell_type": "code",
   "execution_count": 44,
   "id": "d2a75431-1d78-49a8-a102-801c4d76b6e1",
   "metadata": {
    "execution": {
     "iopub.execute_input": "2025-02-08T21:49:36.707543Z",
     "iopub.status.busy": "2025-02-08T21:49:36.707147Z",
     "iopub.status.idle": "2025-02-08T21:49:36.712898Z",
     "shell.execute_reply": "2025-02-08T21:49:36.712244Z",
     "shell.execute_reply.started": "2025-02-08T21:49:36.707530Z"
    }
   },
   "outputs": [
    {
     "name": "stdout",
     "output_type": "stream",
     "text": [
      "GPUMetrics(gpu_model='NVIDIA GeForce RTX 4090', gpu_usage=68, vram_total=23.98828125, vram_used=23.87488555908203)\n"
     ]
    }
   ],
   "source": [
    "from dataclasses import dataclass\n",
    "import pynvml\n",
    "\n",
    "@dataclass\n",
    "class GPUMetrics:\n",
    "    gpu_model: str\n",
    "    gpu_usage: float  # percentage\n",
    "    vram_total: float # GB\n",
    "    vram_used: float  # GB\n",
    "\n",
    "def get_gpu_metrics(gpu_id=0):\n",
    "    pynvml.nvmlInit()\n",
    "    handle = pynvml.nvmlDeviceGetHandleByIndex(gpu_id)\n",
    "\n",
    "    gpu_model = pynvml.nvmlDeviceGetName(handle)\n",
    "    utilization = pynvml.nvmlDeviceGetUtilizationRates(handle)\n",
    "    gpu_usage = utilization.gpu\n",
    "    vram_info = pynvml.nvmlDeviceGetMemoryInfo(handle)\n",
    "    vram_total = vram_info.total / 1024**3  # Convert bytes to GB\n",
    "    vram_used = vram_info.used / 1024**3   # Convert bytes to GB\n",
    "\n",
    "    pynvml.nvmlShutdown()\n",
    "    \n",
    "    metrics = GPUMetrics(\n",
    "        gpu_model=gpu_model,\n",
    "        gpu_usage=gpu_usage,\n",
    "        vram_total=vram_total,\n",
    "        vram_used=vram_used\n",
    "    )\n",
    "\n",
    "    return metrics\n",
    "\n",
    "# Example usage:\n",
    "metrics = get_gpu_metrics()\n",
    "print(metrics)"
   ]
  },
  {
   "cell_type": "code",
   "execution_count": 75,
   "id": "d7453f32-858c-4542-bf75-7c6da9b06831",
   "metadata": {
    "execution": {
     "iopub.execute_input": "2025-02-10T22:48:49.549217Z",
     "iopub.status.busy": "2025-02-10T22:48:49.548754Z",
     "iopub.status.idle": "2025-02-10T22:48:49.554748Z",
     "shell.execute_reply": "2025-02-10T22:48:49.554022Z",
     "shell.execute_reply.started": "2025-02-10T22:48:49.549187Z"
    }
   },
   "outputs": [],
   "source": [
    "import os\n",
    "\n",
    "wordslab_home = os.getenv('WORDSLAB_HOME')\n",
    "wordslab_workspace = os.getenv('WORDSLAB_WORKSPACE')\n",
    "wordslab_models = os.getenv('WORDSLAB_MODELS')\n",
    "wordslab_paths = { \"/\", wordslab_home, wordslab_workspace, wordslab_models }"
   ]
  },
  {
   "cell_type": "code",
   "execution_count": 76,
   "id": "5745329b-2749-4cf3-97a1-3a11046a53af",
   "metadata": {
    "execution": {
     "iopub.execute_input": "2025-02-10T22:48:50.019001Z",
     "iopub.status.busy": "2025-02-10T22:48:50.017299Z",
     "iopub.status.idle": "2025-02-10T22:48:50.025944Z",
     "shell.execute_reply": "2025-02-10T22:48:50.025203Z",
     "shell.execute_reply.started": "2025-02-10T22:48:50.018956Z"
    }
   },
   "outputs": [
    {
     "data": {
      "text/plain": [
       "{'/', '/home', '/home/models', '/home/workspace'}"
      ]
     },
     "execution_count": 76,
     "metadata": {},
     "output_type": "execute_result"
    }
   ],
   "source": [
    "wordslab_paths"
   ]
  },
  {
   "cell_type": "code",
   "execution_count": 106,
   "id": "2bb8e2ca-ddf3-4ad9-b963-279f3d58e585",
   "metadata": {
    "execution": {
     "iopub.execute_input": "2025-02-10T23:18:19.545558Z",
     "iopub.status.busy": "2025-02-10T23:18:19.545153Z",
     "iopub.status.idle": "2025-02-10T23:18:19.550819Z",
     "shell.execute_reply": "2025-02-10T23:18:19.549922Z",
     "shell.execute_reply.started": "2025-02-10T23:18:19.545530Z"
    }
   },
   "outputs": [],
   "source": [
    "import subprocess\n",
    "\n",
    "def get_directory_size(path):\n",
    "   # Use the 'du' command to get the total size of the directory\n",
    "    result = subprocess.run(['du', '-s', '--block-size=1', path], capture_output=True, text=True, check=True)\n",
    "    # The output is in the format: <size>\\t<path>\n",
    "    size = int(result.stdout.split('\\t')[0])\n",
    "    return size"
   ]
  },
  {
   "cell_type": "code",
   "execution_count": 125,
   "id": "0ac47706-7fb7-4f2d-a793-0996789f3809",
   "metadata": {
    "execution": {
     "iopub.execute_input": "2025-02-10T23:34:55.782890Z",
     "iopub.status.busy": "2025-02-10T23:34:55.782414Z",
     "iopub.status.idle": "2025-02-10T23:34:56.013196Z",
     "shell.execute_reply": "2025-02-10T23:34:56.012638Z",
     "shell.execute_reply.started": "2025-02-10T23:34:55.782861Z"
    }
   },
   "outputs": [],
   "source": [
    "worsdlab_paths_sizes = {path:get_directory_size(path) for path in [wordslab_home, wordslab_workspace, wordslab_models]}\n",
    "if wordslab_workspace.startswith(wordslab_home):\n",
    "    worsdlab_paths_sizes[wordslab_home] -= worsdlab_paths_sizes[wordslab_workspace]\n",
    "if wordslab_models.startswith(wordslab_home):\n",
    "    worsdlab_paths_sizes[wordslab_home] -= worsdlab_paths_sizes[wordslab_models]"
   ]
  },
  {
   "cell_type": "code",
   "execution_count": 126,
   "id": "7de890bd-2488-43fa-8b49-d8c1c9041c49",
   "metadata": {
    "execution": {
     "iopub.execute_input": "2025-02-10T23:34:57.891437Z",
     "iopub.status.busy": "2025-02-10T23:34:57.891034Z",
     "iopub.status.idle": "2025-02-10T23:34:57.898209Z",
     "shell.execute_reply": "2025-02-10T23:34:57.897639Z",
     "shell.execute_reply.started": "2025-02-10T23:34:57.891409Z"
    }
   },
   "outputs": [
    {
     "data": {
      "text/plain": [
       "{'/home': 20367511552,\n",
       " '/home/workspace': 2152120320,\n",
       " '/home/models': 413459570688}"
      ]
     },
     "execution_count": 126,
     "metadata": {},
     "output_type": "execute_result"
    }
   ],
   "source": [
    "worsdlab_paths_sizes"
   ]
  },
  {
   "cell_type": "code",
   "execution_count": 83,
   "id": "64b2936b-7030-4d6d-b227-e74acae7cc60",
   "metadata": {
    "execution": {
     "iopub.execute_input": "2025-02-10T22:55:18.821580Z",
     "iopub.status.busy": "2025-02-10T22:55:18.821185Z",
     "iopub.status.idle": "2025-02-10T22:55:18.827956Z",
     "shell.execute_reply": "2025-02-10T22:55:18.827182Z",
     "shell.execute_reply.started": "2025-02-10T22:55:18.821553Z"
    }
   },
   "outputs": [],
   "source": [
    "import psutil\n",
    "mountpoints = {part.mountpoint:part.device for part in set(psutil.disk_partitions(all=True)) if part.fstype in {'ext4','xfs','fuse','overlay'} and not any(substring in part.mountpoint for substring in [\"/mnt/\", \"nvidia\", \".so\"])}"
   ]
  },
  {
   "cell_type": "code",
   "execution_count": 84,
   "id": "ff07beec-30bb-4443-b853-2de0b0751f82",
   "metadata": {
    "execution": {
     "iopub.execute_input": "2025-02-10T22:55:19.171776Z",
     "iopub.status.busy": "2025-02-10T22:55:19.170334Z",
     "iopub.status.idle": "2025-02-10T22:55:19.178083Z",
     "shell.execute_reply": "2025-02-10T22:55:19.177328Z",
     "shell.execute_reply.started": "2025-02-10T22:55:19.171736Z"
    }
   },
   "outputs": [
    {
     "data": {
      "text/plain": [
       "{'/home/workspace': '/dev/sdc',\n",
       " '/home/models': '/dev/sde',\n",
       " '/var/lib/docker': '/dev/sdd',\n",
       " '/usr/lib/wsl/lib': '',\n",
       " '/usr/lib/modules/5.15.167.4-microsoft-standard-WSL2': '',\n",
       " '/': '/dev/sdd'}"
      ]
     },
     "execution_count": 84,
     "metadata": {},
     "output_type": "execute_result"
    }
   ],
   "source": [
    "mountpoints"
   ]
  },
  {
   "cell_type": "code",
   "execution_count": 91,
   "id": "9e36f914-b454-4e67-a575-0f2d10bc2a53",
   "metadata": {
    "execution": {
     "iopub.execute_input": "2025-02-10T23:04:40.270551Z",
     "iopub.status.busy": "2025-02-10T23:04:40.270099Z",
     "iopub.status.idle": "2025-02-10T23:04:40.276107Z",
     "shell.execute_reply": "2025-02-10T23:04:40.275564Z",
     "shell.execute_reply.started": "2025-02-10T23:04:40.270520Z"
    }
   },
   "outputs": [],
   "source": [
    "def map_paths_to_devices(wordslab_paths, mountpoints):\n",
    "    wordslab_paths_devices = {}\n",
    "    sorted_mountpoints = sorted(mountpoints.keys(), key=len, reverse=True)\n",
    "    for path in wordslab_paths:\n",
    "        for mountpoint in sorted_mountpoints:\n",
    "            if path.startswith(mountpoint):\n",
    "                device = mountpoints[mountpoint]\n",
    "                if device not in wordslab_paths_devices:\n",
    "                    wordslab_paths_devices[device] = [path]\n",
    "                else:\n",
    "                    wordslab_paths_devices[device].append(path)\n",
    "                break\n",
    "    return wordslab_paths_devices "
   ]
  },
  {
   "cell_type": "code",
   "execution_count": 92,
   "id": "e7086198-1fdf-4673-b497-2440b7af8fd3",
   "metadata": {
    "execution": {
     "iopub.execute_input": "2025-02-10T23:04:41.637451Z",
     "iopub.status.busy": "2025-02-10T23:04:41.637029Z",
     "iopub.status.idle": "2025-02-10T23:04:41.645708Z",
     "shell.execute_reply": "2025-02-10T23:04:41.644695Z",
     "shell.execute_reply.started": "2025-02-10T23:04:41.637423Z"
    }
   },
   "outputs": [
    {
     "data": {
      "text/plain": [
       "{'/dev/sdd': ['/', '/home'],\n",
       " '/dev/sdc': ['/home/workspace'],\n",
       " '/dev/sde': ['/home/models']}"
      ]
     },
     "execution_count": 92,
     "metadata": {},
     "output_type": "execute_result"
    }
   ],
   "source": [
    "wordslab_paths_devices = map_paths_to_devices(wordslab_paths, mountpoints)\n",
    "wordslab_paths_devices "
   ]
  },
  {
   "cell_type": "code",
   "execution_count": 104,
   "id": "745ca38b-82cd-4e9b-84db-71455a261ec9",
   "metadata": {
    "execution": {
     "iopub.execute_input": "2025-02-10T23:15:18.912644Z",
     "iopub.status.busy": "2025-02-10T23:15:18.912220Z",
     "iopub.status.idle": "2025-02-10T23:15:18.919365Z",
     "shell.execute_reply": "2025-02-10T23:15:18.918669Z",
     "shell.execute_reply.started": "2025-02-10T23:15:18.912615Z"
    }
   },
   "outputs": [],
   "source": [
    "wordslab_devices_usage = {item[0]:psutil.disk_usage(item[1][0]) for item in wordslab_paths_devices.items()}"
   ]
  },
  {
   "cell_type": "code",
   "execution_count": 105,
   "id": "eea55070-79a5-4578-a5da-cb40842226e2",
   "metadata": {
    "execution": {
     "iopub.execute_input": "2025-02-10T23:15:22.232206Z",
     "iopub.status.busy": "2025-02-10T23:15:22.231763Z",
     "iopub.status.idle": "2025-02-10T23:15:22.238524Z",
     "shell.execute_reply": "2025-02-10T23:15:22.238089Z",
     "shell.execute_reply.started": "2025-02-10T23:15:22.232177Z"
    }
   },
   "outputs": [
    {
     "data": {
      "text/plain": [
       "{'/dev/sdd': sdiskusage(total=1081101176832, used=26948464640, free=999160356864, percent=2.6),\n",
       " '/dev/sdc': sdiskusage(total=1081101176832, used=2160680960, free=1023948140544, percent=0.2),\n",
       " '/dev/sde': sdiskusage(total=1081101176832, used=413468131328, free=612640690176, percent=40.3)}"
      ]
     },
     "execution_count": 105,
     "metadata": {},
     "output_type": "execute_result"
    }
   ],
   "source": [
    "wordslab_devices_usage"
   ]
  },
  {
   "cell_type": "code",
   "execution_count": 147,
   "id": "5ff8bc6c-f8a1-4b63-a0c3-acbab2d07036",
   "metadata": {
    "execution": {
     "iopub.execute_input": "2025-02-10T23:58:58.800698Z",
     "iopub.status.busy": "2025-02-10T23:58:58.800445Z",
     "iopub.status.idle": "2025-02-10T23:58:58.803609Z",
     "shell.execute_reply": "2025-02-10T23:58:58.803263Z",
     "shell.execute_reply.started": "2025-02-10T23:58:58.800686Z"
    }
   },
   "outputs": [
    {
     "data": {
      "text/plain": [
       "6.128990173339844"
      ]
     },
     "execution_count": 147,
     "metadata": {},
     "output_type": "execute_result"
    }
   ],
   "source": [
    "root_size = 0\n",
    "for device in wordslab_paths_devices:\n",
    "    if '/' in wordslab_paths_devices[device]:\n",
    "        for path in wordslab_paths_devices[device]:\n",
    "            if path == '/':\n",
    "                root_size += wordslab_devices_usage[device].used\n",
    "            else:\n",
    "                root_size -= worsdlab_paths_sizes[path]\n",
    "root_size/1024**3"
   ]
  },
  {
   "cell_type": "code",
   "execution_count": 127,
   "id": "1e82ee9f-2921-477a-aece-fc38ba52d8b9",
   "metadata": {
    "execution": {
     "iopub.execute_input": "2025-02-10T23:37:11.782341Z",
     "iopub.status.busy": "2025-02-10T23:37:11.781950Z",
     "iopub.status.idle": "2025-02-10T23:37:11.803129Z",
     "shell.execute_reply": "2025-02-10T23:37:11.802724Z",
     "shell.execute_reply.started": "2025-02-10T23:37:11.782315Z"
    }
   },
   "outputs": [],
   "source": [
    "from pathlib import Path\n",
    "\n",
    "wordslab_windows_home = (Path(wordslab_home) / \".WORDSLAB_WINDOWS_HOME\").read_text().strip()\n",
    "wordslab_windows_workspace = (Path(wordslab_workspace) / \".WORDSLAB_WINDOWS_WORKSPACE\").read_text().strip()\n",
    "wordslab_windows_models = (Path(wordslab_models) / \".WORDSLAB_WINDOWS_MODELS\").read_text().strip()"
   ]
  },
  {
   "cell_type": "code",
   "execution_count": 128,
   "id": "2e9d163c-e35f-483d-9b49-c7dcbcb5849b",
   "metadata": {
    "execution": {
     "iopub.execute_input": "2025-02-10T23:37:12.421562Z",
     "iopub.status.busy": "2025-02-10T23:37:12.421112Z",
     "iopub.status.idle": "2025-02-10T23:37:12.427994Z",
     "shell.execute_reply": "2025-02-10T23:37:12.427556Z",
     "shell.execute_reply.started": "2025-02-10T23:37:12.421532Z"
    }
   },
   "outputs": [
    {
     "data": {
      "text/plain": [
       "('c:\\\\wordslab\\\\virtual-machines\\\\wordslab-notebooks',\n",
       " 'C:\\\\wordslab\\\\virtual-machines\\\\wordslab-workspace',\n",
       " 'd:\\\\wordslab\\\\virtual-machines\\\\wordslab-models')"
      ]
     },
     "execution_count": 128,
     "metadata": {},
     "output_type": "execute_result"
    }
   ],
   "source": [
    "wordslab_windows_home,wordslab_windows_workspace,wordslab_windows_models"
   ]
  },
  {
   "cell_type": "code",
   "execution_count": 137,
   "id": "aa4121c0-7696-4251-8903-ace264d36e70",
   "metadata": {
    "execution": {
     "iopub.execute_input": "2025-02-10T23:49:37.813861Z",
     "iopub.status.busy": "2025-02-10T23:49:37.813413Z",
     "iopub.status.idle": "2025-02-10T23:49:37.818404Z",
     "shell.execute_reply": "2025-02-10T23:49:37.817958Z",
     "shell.execute_reply.started": "2025-02-10T23:49:37.813835Z"
    }
   },
   "outputs": [],
   "source": [
    "def windows_path_to_linux_vm_file(windows_path):\n",
    "    # Replace backslashes with forward slashes\n",
    "    windows_path = windows_path.replace('\\\\', '/')\n",
    "    # Replace the drive letter with /mnt/<drive>\n",
    "    if len(windows_path) > 1 and windows_path[1] == ':':\n",
    "        drive_letter = windows_path[0].lower()\n",
    "        drive_path = f\"/mnt/{drive_letter}\"\n",
    "        linux_file = Path(f\"{drive_path}{windows_path[2:]}\") / \"ext4.vhdx\"\n",
    "    return (windows_path[:2], psutil.disk_usage(drive_path), f\"{windows_path}\\\\ext4.vhdx\", linux_file.stat().st_size) "
   ]
  },
  {
   "cell_type": "code",
   "execution_count": 138,
   "id": "984440f0-a36f-48f2-9083-74b198dbbb60",
   "metadata": {
    "execution": {
     "iopub.execute_input": "2025-02-10T23:49:38.280861Z",
     "iopub.status.busy": "2025-02-10T23:49:38.280559Z",
     "iopub.status.idle": "2025-02-10T23:49:38.299327Z",
     "shell.execute_reply": "2025-02-10T23:49:38.298938Z",
     "shell.execute_reply.started": "2025-02-10T23:49:38.280840Z"
    }
   },
   "outputs": [],
   "source": [
    "wordslab_windows_home_vm_file = windows_path_to_linux_vm_file(wordslab_windows_home)\n",
    "wordslab_windows_workspace_vm_file = windows_path_to_linux_vm_file(wordslab_windows_workspace)\n",
    "wordslab_windows_models_vm_file = windows_path_to_linux_vm_file(wordslab_windows_models)"
   ]
  },
  {
   "cell_type": "code",
   "execution_count": 139,
   "id": "e47cc624-d29a-4d8a-8e65-0a1e50aa0f2f",
   "metadata": {
    "execution": {
     "iopub.execute_input": "2025-02-10T23:49:55.336289Z",
     "iopub.status.busy": "2025-02-10T23:49:55.335879Z",
     "iopub.status.idle": "2025-02-10T23:49:55.341892Z",
     "shell.execute_reply": "2025-02-10T23:49:55.341567Z",
     "shell.execute_reply.started": "2025-02-10T23:49:55.336262Z"
    }
   },
   "outputs": [
    {
     "data": {
      "text/plain": [
       "(('c:',\n",
       "  sdiskusage(total=2047178960896, used=142562906112, free=1904616054784, percent=7.0),\n",
       "  'c:/wordslab/virtual-machines/wordslab-notebooks\\\\ext4.vhdx',\n",
       "  30211571712),\n",
       " ('C:',\n",
       "  sdiskusage(total=2047178960896, used=142562906112, free=1904616054784, percent=7.0),\n",
       "  'C:/wordslab/virtual-machines/wordslab-workspace\\\\ext4.vhdx',\n",
       "  2858418176),\n",
       " ('d:',\n",
       "  sdiskusage(total=4000768323584, used=1041897127936, free=2958871195648, percent=26.0),\n",
       "  'd:/wordslab/virtual-machines/wordslab-models\\\\ext4.vhdx',\n",
       "  413483925504))"
      ]
     },
     "execution_count": 139,
     "metadata": {},
     "output_type": "execute_result"
    }
   ],
   "source": [
    "wordslab_windows_home_vm_file, wordslab_windows_workspace_vm_file, wordslab_windows_models_vm_file"
   ]
  },
  {
   "cell_type": "markdown",
   "id": "18182e6f-a715-456b-b7a2-a3386e67b8d9",
   "metadata": {},
   "source": [
    "### Jarvislabs\n",
    "- / -> overlay size No\n",
    "- /home -> /dev/rdb0 size Yes\n",
    "\n",
    "import psutil\n",
    "{part.mountpoint:part.device for part in set(psutil.disk_partitions(all=True)) if part.fstype in {'ext4','xfs','fuse','overlay'} and not \"/mnt/\" in part.mountpoint and not \"nvidia\" in part.mountpoint and not \".so\" in part.mountpoint}\n",
    "\n",
    "{'/etc/hostname': '/dev/nvme0n1p3',\n",
    " '/etc/resolv.conf': '/dev/nvme0n1p3',\n",
    " '/home': '/dev/rbd0',\n",
    " '/usr/sbin/docker-init': '/dev/nvme0n1p3',\n",
    " '/': 'overlay',\n",
    " '/etc/hosts': '/dev/nvme0n1p3'}\n",
    "\n",
    "!df -h /\n",
    "\n",
    "Filesystem      Size  Used Avail Use% Mounted on\n",
    "overlay         1.9T  895G  886G  51% /\n",
    "\n",
    "!df -h /home\n",
    "\n",
    "Filesystem      Size  Used Avail Use% Mounted on\n",
    "/dev/rbd1        20G  177M   20G   1% /home\n",
    "\n",
    "!du -sh /* | sort -h\n",
    "\n",
    "0\t/bin\n",
    "0\t/dev\n",
    "0\t/lib\n",
    "0\t/lib32\n",
    "0\t/lib64\n",
    "0\t/libx32\n",
    "0\t/sbin\n",
    "0\t/sys\n",
    "4.0K\t/boot\n",
    "4.0K\t/docker-entrypoint.sh\n",
    "4.0K\t/media\n",
    "4.0K\t/mnt\n",
    "4.0K\t/srv\n",
    "4.0K\t/tmp\n",
    "4.0K\t/workspace\n",
    "8.0K\t/cuda-keyring_1.1-1_all.deb\n",
    "12K\t/proc\n",
    "20K\t/NGC-DL-CONTAINER-LICENSE\n",
    "92K\t/run\n",
    "2.0M\t/home\n",
    "2.3M\t/etc\n",
    "70M\t/var\n",
    "1.4G\t/opt\n",
    "6.4G\t/usr\n",
    "9.2G\t/root\n",
    "\n",
    "### Runpod\n",
    "- / -> overlay size ?\n",
    "- /workspace -> fuse size KO\n",
    "\n",
    "import psutil\n",
    "{part.mountpoint:part.device for part in set(psutil.disk_partitions(all=True)) if part.fstype in {'ext4','xfs','fuse','overlay'} and not \"/mnt/\" in part.mountpoint and not \"nvidia\" in part.mountpoint and not \".so\" in part.mountpoint}\n",
    "\n",
    "{'/usr/sbin/docker-init': '/dev/nvme3n1p3',\n",
    " '/workspace': 'mfs\\\\043eu-cz-1.runpod.net:9421',\n",
    " '/etc/hosts': '/dev/md0p1',\n",
    " '/etc/resolv.conf': '/dev/md0p1',\n",
    " '/etc/hostname': '/dev/md0p1',\n",
    " '/': 'overlay'}\n",
    "\n",
    "!df -h /workspace\n",
    "\n",
    "Filesystem                   Size  Used Avail Use% Mounted on\n",
    "mfs#eu-cz-1.runpod.net:9421  234T  110T  125T  47% /workspace\n",
    "\n",
    "!du -sh /* | sort -h\n",
    "\n",
    "0\t/bin\n",
    "0\t/boot\n",
    "0\t/dev\n",
    "0\t/home\n",
    "0\t/lib\n",
    "0\t/lib32\n",
    "0\t/lib64\n",
    "0\t/libx32\n",
    "0\t/media\n",
    "0\t/mnt\n",
    "0\t/sbin\n",
    "0\t/srv\n",
    "0\t/sys\n",
    "0\t/tmp\n",
    "4.0K\t/start.sh\n",
    "8.0K\t/cuda-keyring_1.0-1_all.deb\n",
    "8.0K\t/jupyter.log\n",
    "12K\t/proc\n",
    "16K\t/run\n",
    "20K\t/NGC-DL-CONTAINER-LICENSE\n",
    "999K\t/workspace\n",
    "1.9M\t/etc\n",
    "2.6M\t/get-pip.py\n",
    "15M\t/var\n",
    "44M\t/root\n",
    "918M\t/opt\n",
    "12G\t/usr\n",
    "\n",
    "\n",
    "### Vast\n",
    "- / -> overlay size OK\n",
    "\n",
    "{'/etc/hosts': '/dev/md127p1',\n",
    " '/': 'overlay',\n",
    " '/etc/resolv.conf': '/dev/md127p1',\n",
    " '/etc/hostname': '/dev/md127p1'}\n",
    "\n",
    "!du -sh /* | sort -h\n",
    "\n",
    "0\t/bin\n",
    "0\t/boot\n",
    "0\t/dev\n",
    "0\t/lib\n",
    "0\t/lib32\n",
    "0\t/lib64\n",
    "0\t/libx32\n",
    "0\t/media\n",
    "0\t/mnt\n",
    "0\t/sbin\n",
    "0\t/srv\n",
    "0\t/sys\n",
    "4.0K\t/Untitled.ipynb\n",
    "8.0K\t/cuda-keyring_1.0-1_all.deb\n",
    "12K\t/proc\n",
    "16K\t/workspace\n",
    "20K\t/NGC-DL-CONTAINER-LICENSE\n",
    "20K\t/run\n",
    "68K\t/home\n",
    "424K\t/tmp\n",
    "2.3M\t/etc\n",
    "21M\t/root\n",
    "108M\t/var\n",
    "1.8G\t/opt\n",
    "5.0G\t/venv\n",
    "12G\t/usr\n",
    "\n",
    "!df -h /\n",
    "\n",
    " Filesystem      Size  Used Avail Use% Mounted on\n",
    "overlay          16G  2.0M   16G   1% /"
   ]
  },
  {
   "cell_type": "code",
   "execution_count": 140,
   "id": "d367ca91-c213-419f-9248-fbc411fe4bb9",
   "metadata": {
    "execution": {
     "iopub.execute_input": "2025-02-10T23:51:57.740251Z",
     "iopub.status.busy": "2025-02-10T23:51:57.739900Z",
     "iopub.status.idle": "2025-02-10T23:51:57.746524Z",
     "shell.execute_reply": "2025-02-10T23:51:57.745543Z",
     "shell.execute_reply.started": "2025-02-10T23:51:57.740225Z"
    }
   },
   "outputs": [],
   "source": [
    "jarvislabs_mountpoints = {'/etc/hostname': '/dev/nvme0n1p3', '/etc/resolv.conf': '/dev/nvme0n1p3', '/home': '/dev/rbd0', '/usr/sbin/docker-init': '/dev/nvme0n1p3', '/': 'overlay', '/etc/hosts': '/dev/nvme0n1p3'}\n",
    "runpod_mountpoints = {'/usr/sbin/docker-init': '/dev/nvme3n1p3', '/workspace': 'mfs\\\\043eu-cz-1.runpod.net:9421', '/etc/hosts': '/dev/md0p1', '/etc/resolv.conf': '/dev/md0p1', '/etc/hostname': '/dev/md0p1', '/': 'overlay'}\n",
    "vast_mountpoints = {'/etc/hosts': '/dev/md127p1', '/': 'overlay', '/etc/resolv.conf': '/dev/md127p1', '/etc/hostname': '/dev/md127p1'}"
   ]
  },
  {
   "cell_type": "code",
   "execution_count": 141,
   "id": "e1d8ad32-fa14-4a23-bb28-87a0d2604bdc",
   "metadata": {
    "execution": {
     "iopub.execute_input": "2025-02-10T23:51:58.431962Z",
     "iopub.status.busy": "2025-02-10T23:51:58.431218Z",
     "iopub.status.idle": "2025-02-10T23:51:58.437349Z",
     "shell.execute_reply": "2025-02-10T23:51:58.436552Z",
     "shell.execute_reply.started": "2025-02-10T23:51:58.431929Z"
    }
   },
   "outputs": [],
   "source": [
    "def map_paths_to_devices(wordslab_paths, mountpoints):\n",
    "    wordslab_paths_devices = {}\n",
    "    sorted_mountpoints = sorted(mountpoints.keys(), key=len, reverse=True)\n",
    "    for path in wordslab_paths:\n",
    "        for mountpoint in sorted_mountpoints:\n",
    "            if path.startswith(mountpoint):\n",
    "                wordslab_paths_devices[path] = mountpoints[mountpoint]\n",
    "                break\n",
    "    return  wordslab_paths_devices   "
   ]
  },
  {
   "cell_type": "code",
   "execution_count": 142,
   "id": "2e26de15-eb74-4d66-a0d0-ac96aa828e03",
   "metadata": {
    "execution": {
     "iopub.execute_input": "2025-02-10T23:52:00.067146Z",
     "iopub.status.busy": "2025-02-10T23:52:00.066922Z",
     "iopub.status.idle": "2025-02-10T23:52:00.071375Z",
     "shell.execute_reply": "2025-02-10T23:52:00.070919Z",
     "shell.execute_reply.started": "2025-02-10T23:52:00.067132Z"
    }
   },
   "outputs": [
    {
     "data": {
      "text/plain": [
       "{'/': '/dev/sdd',\n",
       " '/home': '/dev/sdd',\n",
       " '/home/workspace': '/dev/sdc',\n",
       " '/home/models': '/dev/sde'}"
      ]
     },
     "execution_count": 142,
     "metadata": {},
     "output_type": "execute_result"
    }
   ],
   "source": [
    "map_paths_to_devices(wordslab_paths, wsl_mountpoints)"
   ]
  },
  {
   "cell_type": "code",
   "execution_count": 143,
   "id": "ed565115-274d-48b7-9a00-17442fee3ce6",
   "metadata": {
    "execution": {
     "iopub.execute_input": "2025-02-10T23:52:00.811367Z",
     "iopub.status.busy": "2025-02-10T23:52:00.810924Z",
     "iopub.status.idle": "2025-02-10T23:52:00.817247Z",
     "shell.execute_reply": "2025-02-10T23:52:00.816951Z",
     "shell.execute_reply.started": "2025-02-10T23:52:00.811338Z"
    }
   },
   "outputs": [
    {
     "data": {
      "text/plain": [
       "{'/': 'overlay',\n",
       " '/home': '/dev/rbd0',\n",
       " '/home/workspace': '/dev/rbd0',\n",
       " '/home/models': '/dev/rbd0'}"
      ]
     },
     "execution_count": 143,
     "metadata": {},
     "output_type": "execute_result"
    }
   ],
   "source": [
    "map_paths_to_devices(wordslab_paths, jarvislabs_mountpoints)"
   ]
  },
  {
   "cell_type": "code",
   "execution_count": 144,
   "id": "308bb357-4907-4a1e-9421-9ddc342d82e1",
   "metadata": {
    "execution": {
     "iopub.execute_input": "2025-02-10T23:52:01.382101Z",
     "iopub.status.busy": "2025-02-10T23:52:01.381713Z",
     "iopub.status.idle": "2025-02-10T23:52:01.391195Z",
     "shell.execute_reply": "2025-02-10T23:52:01.390734Z",
     "shell.execute_reply.started": "2025-02-10T23:52:01.382073Z"
    }
   },
   "outputs": [
    {
     "data": {
      "text/plain": [
       "{'/': 'overlay',\n",
       " '/workspace/workspace': 'mfs\\\\043eu-cz-1.runpod.net:9421',\n",
       " '/workspace': 'mfs\\\\043eu-cz-1.runpod.net:9421',\n",
       " '/workspace/models': 'mfs\\\\043eu-cz-1.runpod.net:9421'}"
      ]
     },
     "execution_count": 144,
     "metadata": {},
     "output_type": "execute_result"
    }
   ],
   "source": [
    "map_paths_to_devices({'/', '/workspace', '/workspace/models', '/workspace/workspace'}, runpod_mountpoints)"
   ]
  },
  {
   "cell_type": "code",
   "execution_count": 145,
   "id": "7ed90e7e-6a57-4c9f-adc3-d6e08d4aef77",
   "metadata": {
    "execution": {
     "iopub.execute_input": "2025-02-10T23:52:02.105812Z",
     "iopub.status.busy": "2025-02-10T23:52:02.105149Z",
     "iopub.status.idle": "2025-02-10T23:52:02.112310Z",
     "shell.execute_reply": "2025-02-10T23:52:02.111896Z",
     "shell.execute_reply.started": "2025-02-10T23:52:02.105780Z"
    }
   },
   "outputs": [
    {
     "data": {
      "text/plain": [
       "{'/': 'overlay',\n",
       " '/home': 'overlay',\n",
       " '/home/workspace': 'overlay',\n",
       " '/home/models': 'overlay'}"
      ]
     },
     "execution_count": 145,
     "metadata": {},
     "output_type": "execute_result"
    }
   ],
   "source": [
    "map_paths_to_devices(wordslab_paths, vast_mountpoints)"
   ]
  },
  {
   "cell_type": "code",
   "execution_count": null,
   "id": "529e2f70-9f94-464e-bc62-ab5b502a2f0d",
   "metadata": {},
   "outputs": [],
   "source": []
  }
 ],
 "metadata": {
  "kernelspec": {
   "display_name": "wordslab-notebooks-tutorials",
   "language": "python",
   "name": "wordslab-notebooks-tutorials"
  },
  "language_info": {
   "codemirror_mode": {
    "name": "ipython",
    "version": 3
   },
   "file_extension": ".py",
   "mimetype": "text/x-python",
   "name": "python",
   "nbconvert_exporter": "python",
   "pygments_lexer": "ipython3",
   "version": "3.12.8"
  }
 },
 "nbformat": 4,
 "nbformat_minor": 5
}
