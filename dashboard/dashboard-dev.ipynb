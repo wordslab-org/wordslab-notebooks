{
 "cells": [
  {
   "cell_type": "code",
   "execution_count": 1,
   "id": "e5740a11-acd7-4f1d-b044-cca849912fd6",
   "metadata": {
    "execution": {
     "iopub.execute_input": "2025-05-04T13:07:28.861428Z",
     "iopub.status.busy": "2025-05-04T13:07:28.860962Z",
     "iopub.status.idle": "2025-05-04T13:07:28.880315Z",
     "shell.execute_reply": "2025-05-04T13:07:28.879736Z",
     "shell.execute_reply.started": "2025-05-04T13:07:28.861414Z"
    }
   },
   "outputs": [
    {
     "data": {
      "text/plain": [
       "'WindowsSubsystemForLinux'"
      ]
     },
     "execution_count": 1,
     "metadata": {},
     "output_type": "execute_result"
    }
   ],
   "source": [
    "import os\n",
    "import subprocess\n",
    "from pathlib import Path\n",
    "\n",
    "platform = os.getenv('WORDSLAB_PLATFORM', 'UnknownLinux')\n",
    "platform"
   ]
  },
  {
   "cell_type": "code",
   "execution_count": 2,
   "id": "0ece60b2-ab69-458f-91a5-924403ea258a",
   "metadata": {
    "execution": {
     "iopub.execute_input": "2025-05-04T13:07:30.349251Z",
     "iopub.status.busy": "2025-05-04T13:07:30.349075Z",
     "iopub.status.idle": "2025-05-04T13:07:30.353950Z",
     "shell.execute_reply": "2025-05-04T13:07:30.353524Z",
     "shell.execute_reply.started": "2025-05-04T13:07:30.349240Z"
    }
   },
   "outputs": [
    {
     "data": {
      "text/plain": [
       "'Ubuntu 24.04.2 LTS'"
      ]
     },
     "execution_count": 2,
     "metadata": {},
     "output_type": "execute_result"
    }
   ],
   "source": [
    "# Get Ubuntu version\n",
    "try:\n",
    "    # Try reading from /etc/os-release first\n",
    "    with open('/etc/os-release', 'r') as f:\n",
    "        for line in f:\n",
    "            if line.startswith('PRETTY_NAME='):\n",
    "                os_version = line.split('=')[1].strip().strip('\"')\n",
    "                break\n",
    "except:\n",
    "    try:\n",
    "        # Fallback to reading from /etc/issue\n",
    "        with open('/etc/issue', 'r') as f:\n",
    "            os_version = f.read().strip().split('\\\\')[0].strip()\n",
    "    except:\n",
    "        os_version = \"Unknown\"\n",
    "\n",
    "os_version"
   ]
  },
  {
   "cell_type": "code",
   "execution_count": 3,
   "id": "eec8fa41-dbec-4023-81aa-0dab72db77fd",
   "metadata": {
    "execution": {
     "iopub.execute_input": "2025-05-04T13:07:32.973449Z",
     "iopub.status.busy": "2025-05-04T13:07:32.973053Z",
     "iopub.status.idle": "2025-05-04T13:07:32.980558Z",
     "shell.execute_reply": "2025-05-04T13:07:32.979956Z",
     "shell.execute_reply.started": "2025-05-04T13:07:32.973420Z"
    }
   },
   "outputs": [
    {
     "data": {
      "text/plain": [
       "'2025-04'"
      ]
     },
     "execution_count": 3,
     "metadata": {},
     "output_type": "execute_result"
    }
   ],
   "source": [
    "wordslab_version = os.getenv('WORDSLAB_VERSION', 'Unknown')\n",
    "wordslab_version"
   ]
  },
  {
   "cell_type": "code",
   "execution_count": 6,
   "id": "3b3998cb-8d4f-491f-986d-45b67a2c63ff",
   "metadata": {
    "execution": {
     "iopub.execute_input": "2025-05-04T13:08:41.541267Z",
     "iopub.status.busy": "2025-05-04T13:08:41.540973Z",
     "iopub.status.idle": "2025-05-04T13:08:41.629916Z",
     "shell.execute_reply": "2025-05-04T13:08:41.629537Z",
     "shell.execute_reply.started": "2025-05-04T13:08:41.541252Z"
    }
   },
   "outputs": [
    {
     "data": {
      "text/plain": [
       "'12.9'"
      ]
     },
     "execution_count": 6,
     "metadata": {},
     "output_type": "execute_result"
    }
   ],
   "source": [
    "from importlib.metadata import version\n",
    "import pynvml\n",
    "\n",
    "cpu_only_file = Path(os.getenv('WORDSLAB_WORKSPACE', '')) / '.cpu-only'\n",
    "if not cpu_only_file.exists():\n",
    "    try:\n",
    "        pynvml.nvmlInit()\n",
    "        handle = pynvml.nvmlDeviceGetHandleByIndex(0)\n",
    "        driver_cuda_version = pynvml.nvmlSystemGetCudaDriverVersion_v2()\n",
    "        cuda_version = f\"{driver_cuda_version//1000}.{(driver_cuda_version%1000)//10}\"\n",
    "        pynvml.nvmlShutdown()\n",
    "    except:\n",
    "        pass\n",
    "\n",
    "cuda_version"
   ]
  },
  {
   "cell_type": "markdown",
   "id": "ba1bf023-cec1-4716-a7ad-56fef43eb4d4",
   "metadata": {},
   "source": [
    "### Get URL - Windows Subsystem for Linux\n",
    "\n",
    "```\n",
    "- https if the file $WORDSLAB_WORKSPACE/.secrets/certificate.pem exists, http otherwise\n",
    "\n",
    "- windows machine IP address from the file $WORDSLAB_HOME/.WORDSLAB_WINDOWS_IP if it exists, else 127.0.0.1\n",
    "\n",
    "- environment variables for ports\n",
    "\n",
    "JUPYTERLAB_PORT=8880\n",
    "VSCODE_PORT=8881\n",
    "OPENWEBUI_PORT=8882\n",
    "\n",
    "USER_APP1_PORT=8883\n",
    "USER_APP2_PORT=8884\n",
    "USER_APP3_PORT=8885\n",
    "USER_APP4_PORT=8886\n",
    "USER_APP5_PORT=8887\n",
    "\n",
    "DASHBOARD_PORT=8888\n",
    "```"
   ]
  },
  {
   "cell_type": "markdown",
   "id": "6916e046-92a7-4127-9d7d-699c834756b5",
   "metadata": {
    "execution": {
     "iopub.execute_input": "2025-01-28T20:44:30.129566Z",
     "iopub.status.busy": "2025-01-28T20:44:30.128534Z",
     "iopub.status.idle": "2025-01-28T20:44:30.139607Z",
     "shell.execute_reply": "2025-01-28T20:44:30.138498Z",
     "shell.execute_reply.started": "2025-01-28T20:44:30.129494Z"
    }
   },
   "source": [
    "### Get URL - Jarvislabs\n",
    "\n",
    "```\n",
    "MACHINE_NAME=test-install2 (UI)\n",
    "MACHINE_ID=261560 (API)\n",
    "\n",
    "HOSTNAME=98708c9cbe44 (?)\n",
    "\n",
    "reserved ports: 6006,7007\n",
    "\n",
    "Native JUPYTERLAB\n",
    "internal port: 8889\n",
    "https://98708c261555.notebooks.jarvislabs.net/lab\n",
    "\n",
    "ENDPOINTS\n",
    "\n",
    "https://jarvislabs.ai/settings\n",
    "API Tokens\n",
    "[copy]\n",
    "\n",
    "pip install git+https://github.com/jarvislabsai/jlclient.git\n",
    "\n",
    "from jlclient import jarvisclient\n",
    "from jlclient.jarvisclient import *\n",
    "jarvisclient.token = 's7-bNTN1Jhh5XPSxnuVp74ypB8Fbi98jUX3rPRI_zoM'\n",
    "\n",
    "import os\n",
    "\n",
    "machine_id = os.getenv('MACHINE_ID')\n",
    "instance = User.get_instance(machine_id)\n",
    "instance.endpoints\n",
    "\n",
    "['https://1685202829581.notebooks.jarvislabs.net',\n",
    " 'https://1685202829582.notebooks.jarvislabs.net',\n",
    " 'https://1685202829583.notebooks.jarvislabs.net',\n",
    " 'https://1685202829584.notebooks.jarvislabs.net',\n",
    " 'https://1685202829585.notebooks.jarvislabs.net',\n",
    " 'https://1685202829586.notebooks.jarvislabs.net',\n",
    " 'https://1685202829587.notebooks.jarvislabs.net',\n",
    " 'https://1685202829588.notebooks.jarvislabs.net',\n",
    " 'https://1685202829589.notebooks.jarvislabs.net',\n",
    " 'https://16852028295810.notebooks.jarvislabs.net']\n",
    "```"
   ]
  },
  {
   "cell_type": "markdown",
   "id": "2737286a-c8ed-4ec0-8689-a9864ed7ae6d",
   "metadata": {},
   "source": [
    "### Get URL - Runpod\n",
    "\n",
    "```\n",
    "RUNPOD_POD_ID=ebkhet9vq5flt7 (UI + used for URLs)\n",
    "\n",
    "RUNPOD_PUBLIC_IP=69.30.85.49\n",
    "RUNPOD_TCP_PORT_22=22047\n",
    "\n",
    "RUNPOD_DC_ID=CA-MTL-1\n",
    "RUNPOD_POD_HOSTNAME=ebkhet9vq5flt7-644112e4\n",
    "\n",
    "HOSTNAME=5936ba7c007d (?)\n",
    "\n",
    "Native JUPYTERLAB\n",
    "internal port: 8888\n",
    "https://ebkhet9vq5flt7-8888.proxy.runpod.net/lab\n",
    "\n",
    "ENDPOINTS\n",
    "\n",
    "https://$(RUNPOD_POD_ID)-8880.proxy.runpod.net/\n",
    "...\n",
    "https://$(RUNPOD_POD_ID)-8888.proxy.runpod.net/\n",
    "```"
   ]
  },
  {
   "cell_type": "markdown",
   "id": "57da3144-5a8a-48ff-a8ce-02b479d69cc3",
   "metadata": {},
   "source": [
    "### Get URL - Vast.ai\n",
    "\n",
    "```\n",
    "CONTAINER_ID=16855978 (UI)\n",
    "\n",
    "HOSTNAME=9e254447c27d\n",
    "\n",
    "PUBLIC_IPADDR=142.115.158.140\n",
    "VAST_TCP_PORT_22=42790\n",
    "VAST_TCP_PORT_8080=42702\n",
    "\n",
    "Native JUPYTERLAB\n",
    "internal port: 8080\n",
    "https://142.115.158.140:42702/tree\n",
    "\n",
    "Open ports\n",
    "\n",
    "VAST_TCP_PORT_8880=42777\n",
    "VAST_TCP_PORT_8881=42791\n",
    "VAST_TCP_PORT_8882=42623\n",
    "VAST_TCP_PORT_8883=42779\n",
    "VAST_TCP_PORT_8884=42668\n",
    "VAST_TCP_PORT_8885=42663\n",
    "VAST_TCP_PORT_8886=42729\n",
    "VAST_TCP_PORT_8887=42736\n",
    "\n",
    "ENDPOINTS\n",
    "\n",
    "https://$(PUBLIC_IPADDR):$(VAST_TCP_PORT_8880)\n",
    "```"
   ]
  },
  {
   "cell_type": "code",
   "execution_count": 7,
   "id": "72f75fd3-656d-48ba-ba12-d3e2ced8c505",
   "metadata": {
    "execution": {
     "iopub.execute_input": "2025-05-04T13:08:51.735410Z",
     "iopub.status.busy": "2025-05-04T13:08:51.734995Z",
     "iopub.status.idle": "2025-05-04T13:08:51.738737Z",
     "shell.execute_reply": "2025-05-04T13:08:51.738415Z",
     "shell.execute_reply.started": "2025-05-04T13:08:51.735397Z"
    }
   },
   "outputs": [
    {
     "data": {
      "text/plain": [
       "['8880', '8881', '8882', '8883', '8884', '8885', '8886', '8887', '8888']"
      ]
     },
     "execution_count": 7,
     "metadata": {},
     "output_type": "execute_result"
    }
   ],
   "source": [
    "import os\n",
    "\n",
    "# Get wordslab container ports\n",
    "jupyterlab_port = os.getenv(\"JUPYTERLAB_PORT\")\n",
    "vscode_port = os.getenv(\"VSCODE_PORT\")\n",
    "openwebui_port = os.getenv(\"OPENWEBUI_PORT\")\n",
    "user_app1_port = os.getenv(\"USER_APP1_PORT\")\n",
    "user_app2_port = os.getenv(\"USER_APP2_PORT\")\n",
    "user_app3_port = os.getenv(\"USER_APP3_PORT\")\n",
    "user_app4_port = os.getenv(\"USER_APP4_PORT\")\n",
    "user_app5_port = os.getenv(\"USER_APP5_PORT\")\n",
    "dahsboard_port = os.getenv(\"DASHBOARD_PORT\")\n",
    "wordslab_ports = [jupyterlab_port, vscode_port, openwebui_port, user_app1_port, user_app2_port, user_app3_port, user_app4_port, user_app5_port, dahsboard_port]\n",
    "\n",
    "wordslab_ports"
   ]
  },
  {
   "cell_type": "code",
   "execution_count": 8,
   "id": "7b9cbcde-9e00-4a1f-90a3-2d427cf2edad",
   "metadata": {
    "execution": {
     "iopub.execute_input": "2025-05-04T13:08:56.279632Z",
     "iopub.status.busy": "2025-05-04T13:08:56.279331Z",
     "iopub.status.idle": "2025-05-04T13:08:56.282818Z",
     "shell.execute_reply": "2025-05-04T13:08:56.282399Z",
     "shell.execute_reply.started": "2025-05-04T13:08:56.279623Z"
    }
   },
   "outputs": [
    {
     "data": {
      "text/plain": [
       "'https://'"
      ]
     },
     "execution_count": 8,
     "metadata": {},
     "output_type": "execute_result"
    }
   ],
   "source": [
    "from pathlib import Path\n",
    "\n",
    "# Check if apps are exposed as https\n",
    "workspace_path = Path(os.getenv(\"WORDSLAB_WORKSPACE\"))\n",
    "use_https = (workspace_path / \".secrets/certificate.pem\").exists()\n",
    "url_scheme = \"https://\" if use_https else \"http://\"\n",
    "\n",
    "url_scheme"
   ]
  },
  {
   "cell_type": "markdown",
   "id": "ec5720c2-137f-4203-887d-0b740526c0c4",
   "metadata": {},
   "source": [
    "> pip install git+https://github.com/jarvislabsai/jlclient.git"
   ]
  },
  {
   "cell_type": "code",
   "execution_count": 9,
   "id": "00f23db4-3adb-4b5e-848a-b5c5c56fe23c",
   "metadata": {
    "execution": {
     "iopub.execute_input": "2025-05-04T13:09:20.837684Z",
     "iopub.status.busy": "2025-05-04T13:09:20.837438Z",
     "iopub.status.idle": "2025-05-04T13:09:20.853205Z",
     "shell.execute_reply": "2025-05-04T13:09:20.852773Z",
     "shell.execute_reply.started": "2025-05-04T13:09:20.837671Z"
    }
   },
   "outputs": [
    {
     "data": {
      "text/plain": [
       "['https://192.168.1.197:8880',\n",
       " 'https://192.168.1.197:8881',\n",
       " 'https://192.168.1.197:8882',\n",
       " 'https://192.168.1.197:8883',\n",
       " 'https://192.168.1.197:8884',\n",
       " 'https://192.168.1.197:8885',\n",
       " 'https://192.168.1.197:8886',\n",
       " 'https://192.168.1.197:8887',\n",
       " 'https://192.168.1.197:8888']"
      ]
     },
     "execution_count": 9,
     "metadata": {},
     "output_type": "execute_result"
    }
   ],
   "source": [
    "# Get platform and compute wordslab apps endpoints\n",
    "platform = os.getenv(\"WORDSLAB_PLATFORM\")\n",
    "\n",
    "if platform==\"WindowsSubsystemForLinux\":\n",
    "    home_path = Path(os.getenv(\"WORDSLAB_HOME\"))\n",
    "    windows_ip_address_file = home_path / \".WORDSLAB_WINDOWS_IP\"\n",
    "    if windows_ip_address_file.exists():\n",
    "        ip_address = windows_ip_address_file.read_text().strip()\n",
    "    else:\n",
    "        ip_address = \"127.0.0.1\"\n",
    "    endpoints = [f\"{url_scheme}{ip_address}:{port}\" for port in wordslab_ports]\n",
    "\n",
    "elif platform==\"Jarvislabs.ai\":\n",
    "    from jlclient import jarvisclient\n",
    "    from jlclient.jarvisclient import *\n",
    "    jarvislabs_api_token_file = workspace_path / \".secrets/api-token\"\n",
    "    jarvislabs_api_token = jarvislabs_api_token_file.read_text().strip()\n",
    "    jarvisclient.token = jarvislabs_api_token\n",
    "    machine_id = os.getenv(\"MACHINE_ID\")   \n",
    "    instance = User.get_instance(machine_id)\n",
    "    endpoints = instance.endpoints\n",
    "\n",
    "elif platform==\"Runpod.io\": \n",
    "    pod_id = os.getenv(\"RUNPOD_POD_ID\") \n",
    "    endpoints = [f\"{url_scheme}{pod_id}-{port}.proxy.runpod.net\" for port in wordslab_ports]\n",
    "\n",
    "elif platform==\"Vast.ai\": \n",
    "    public_ip = os.getenv(\"PUBLIC_IPADDR\")\n",
    "    public_ports = [os.getenv(f\"VAST_TCP_PORT_{port}\") for port in wordslab_ports]\n",
    "    endpoints = [f\"{url_scheme}{public_ip}:{public_port}\" for public_port in public_ports]\n",
    "\n",
    "elif platform==\"UnknownLinux\":\n",
    "    if use_https:\n",
    "        s = socket.socket(socket.AF_INET, socket.SOCK_DGRAM)\n",
    "        s.connect((\"8.8.8.8\", 80))\n",
    "        ip_address = s.getsockname()[0]\n",
    "        s.close()\n",
    "    else:\n",
    "        ip_address = \"127.0.0.1\"\n",
    "    endpoints = [f\"{url_scheme}{ip_address}:{port}\" for port in wordslab_ports]\n",
    "\n",
    "endpoints"
   ]
  },
  {
   "cell_type": "code",
   "execution_count": 10,
   "id": "b7984907-2833-41f4-8212-f91dcb594c8f",
   "metadata": {
    "execution": {
     "iopub.execute_input": "2025-05-04T13:09:24.746527Z",
     "iopub.status.busy": "2025-05-04T13:09:24.746243Z",
     "iopub.status.idle": "2025-05-04T13:09:24.749704Z",
     "shell.execute_reply": "2025-05-04T13:09:24.749204Z",
     "shell.execute_reply.started": "2025-05-04T13:09:24.746511Z"
    }
   },
   "outputs": [
    {
     "name": "stdout",
     "output_type": "stream",
     "text": [
      "export JUPYTERLAB_URL=https://192.168.1.197:8880\n",
      "export VSCODE_URL=https://192.168.1.197:8881\n",
      "export OPENWEBUI_URL=https://192.168.1.197:8882\n",
      "export USER_APP1_URL=https://192.168.1.197:8883\n",
      "export USER_APP2_URL=https://192.168.1.197:8884\n",
      "export USER_APP3_URL=https://192.168.1.197:8885\n",
      "export USER_APP4_URL=https://192.168.1.197:8886\n",
      "export USER_APP5_URL=https://192.168.1.197:8887\n",
      "export DASHBOARD_URL=https://192.168.1.197:8888\n"
     ]
    }
   ],
   "source": [
    "print(f\"export JUPYTERLAB_URL={endpoints[0]}\")\n",
    "print(f\"export VSCODE_URL={endpoints[1]}\")\n",
    "print(f\"export OPENWEBUI_URL={endpoints[2]}\")\n",
    "print(f\"export USER_APP1_URL={endpoints[3]}\")\n",
    "print(f\"export USER_APP2_URL={endpoints[4]}\")\n",
    "print(f\"export USER_APP3_URL={endpoints[5]}\")\n",
    "print(f\"export USER_APP4_URL={endpoints[6]}\")\n",
    "print(f\"export USER_APP5_URL={endpoints[7]}\")\n",
    "print(f\"export DASHBOARD_URL={endpoints[8]}\")"
   ]
  },
  {
   "cell_type": "code",
   "execution_count": 11,
   "id": "244e5394-bcfb-4ef5-b533-85a0c568ce44",
   "metadata": {
    "execution": {
     "iopub.execute_input": "2025-05-04T13:09:29.908514Z",
     "iopub.status.busy": "2025-05-04T13:09:29.908214Z",
     "iopub.status.idle": "2025-05-04T13:09:29.911713Z",
     "shell.execute_reply": "2025-05-04T13:09:29.911364Z",
     "shell.execute_reply.started": "2025-05-04T13:09:29.908504Z"
    }
   },
   "outputs": [],
   "source": [
    "import psutil\n",
    "import subprocess\n",
    "from dataclasses import dataclass\n",
    "\n",
    "@dataclass \n",
    "class CPUMetrics:\n",
    "    cpu_model: str\n",
    "    cpu_cores: int\n",
    "    cpu_usage: float\n",
    "    ram_total: float  # GB\n",
    "    ram_used: float   # GB\n",
    "\n",
    "def get_cpu_metrics() -> CPUMetrics:\n",
    "    # Get CPU model\n",
    "    try:\n",
    "        with open('/proc/cpuinfo', 'r') as f:\n",
    "            for line in f:\n",
    "                if line.startswith('model name'):\n",
    "                    cpu_model = line.split(':')[1].strip()\n",
    "                    break\n",
    "    except:\n",
    "        cpu_model = \"Unknown\"\n",
    "\n",
    "    cpu_frequency = int(round(psutil.cpu_freq().current, -2))\n",
    "    \n",
    "    # Get number of logical cores\n",
    "    cpu_cores = psutil.cpu_count(logical=True)\n",
    "    \n",
    "    # Get CPU usage percentage\n",
    "    cpu_usage = psutil.cpu_percent()\n",
    "    \n",
    "    # Get RAM info in GB\n",
    "    ram = psutil.virtual_memory()\n",
    "    ram_total = ram.total / (1024**3)  # Convert bytes to GB\n",
    "    ram_used = ram.used / (1024**3)    # Convert bytes to GB\n",
    "    \n",
    "    return CPUMetrics(\n",
    "        cpu_model=f\"{cpu_model} {cpu_frequency} MHz\",\n",
    "        cpu_cores=cpu_cores,\n",
    "        cpu_usage=cpu_usage,\n",
    "        ram_total=ram_total,\n",
    "        ram_used=ram_used\n",
    "    )"
   ]
  },
  {
   "cell_type": "code",
   "execution_count": 12,
   "id": "0092a07c-5d57-488e-bce7-20876c3005cf",
   "metadata": {
    "execution": {
     "iopub.execute_input": "2025-05-04T13:09:30.281130Z",
     "iopub.status.busy": "2025-05-04T13:09:30.280922Z",
     "iopub.status.idle": "2025-05-04T13:09:30.284607Z",
     "shell.execute_reply": "2025-05-04T13:09:30.284276Z",
     "shell.execute_reply.started": "2025-05-04T13:09:30.281119Z"
    }
   },
   "outputs": [
    {
     "data": {
      "text/plain": [
       "CPUMetrics(cpu_model='13th Gen Intel(R) Core(TM) i7-13700K 3400 MHz', cpu_cores=24, cpu_usage=2.7, ram_total=31.036624908447266, ram_used=4.351894378662109)"
      ]
     },
     "execution_count": 12,
     "metadata": {},
     "output_type": "execute_result"
    }
   ],
   "source": [
    "get_cpu_metrics()"
   ]
  },
  {
   "cell_type": "code",
   "execution_count": 13,
   "id": "d2a75431-1d78-49a8-a102-801c4d76b6e1",
   "metadata": {
    "execution": {
     "iopub.execute_input": "2025-05-04T13:09:37.884689Z",
     "iopub.status.busy": "2025-05-04T13:09:37.884543Z",
     "iopub.status.idle": "2025-05-04T13:09:37.902761Z",
     "shell.execute_reply": "2025-05-04T13:09:37.902228Z",
     "shell.execute_reply.started": "2025-05-04T13:09:37.884680Z"
    }
   },
   "outputs": [
    {
     "name": "stdout",
     "output_type": "stream",
     "text": [
      "GPUMetrics(gpu_model='NVIDIA GeForce RTX 4090', gpu_usage=68, vram_total=23.98828125, vram_used=6.340904235839844)\n"
     ]
    }
   ],
   "source": [
    "from dataclasses import dataclass\n",
    "import pynvml\n",
    "\n",
    "@dataclass\n",
    "class GPUMetrics:\n",
    "    gpu_model: str\n",
    "    gpu_usage: float  # percentage\n",
    "    vram_total: float # GB\n",
    "    vram_used: float  # GB\n",
    "\n",
    "def get_gpu_metrics(gpu_id=0):\n",
    "    pynvml.nvmlInit()\n",
    "    handle = pynvml.nvmlDeviceGetHandleByIndex(gpu_id)\n",
    "\n",
    "    gpu_model = pynvml.nvmlDeviceGetName(handle)\n",
    "    utilization = pynvml.nvmlDeviceGetUtilizationRates(handle)\n",
    "    gpu_usage = utilization.gpu\n",
    "    vram_info = pynvml.nvmlDeviceGetMemoryInfo(handle)\n",
    "    vram_total = vram_info.total / 1024**3  # Convert bytes to GB\n",
    "    vram_used = vram_info.used / 1024**3   # Convert bytes to GB\n",
    "\n",
    "    pynvml.nvmlShutdown()\n",
    "    \n",
    "    metrics = GPUMetrics(\n",
    "        gpu_model=gpu_model,\n",
    "        gpu_usage=gpu_usage,\n",
    "        vram_total=vram_total,\n",
    "        vram_used=vram_used\n",
    "    )\n",
    "\n",
    "    return metrics\n",
    "\n",
    "# Example usage:\n",
    "metrics = get_gpu_metrics()\n",
    "print(metrics)"
   ]
  },
  {
   "cell_type": "code",
   "execution_count": 9,
   "id": "d7453f32-858c-4542-bf75-7c6da9b06831",
   "metadata": {
    "execution": {
     "iopub.execute_input": "2025-05-17T21:31:35.119174Z",
     "iopub.status.busy": "2025-05-17T21:31:35.118767Z",
     "iopub.status.idle": "2025-05-17T21:31:35.122779Z",
     "shell.execute_reply": "2025-05-17T21:31:35.122288Z",
     "shell.execute_reply.started": "2025-05-17T21:31:35.119152Z"
    }
   },
   "outputs": [],
   "source": [
    "import os\n",
    "\n",
    "wordslab_home = os.getenv('WORDSLAB_HOME')\n",
    "wordslab_workspace = os.getenv('WORDSLAB_WORKSPACE')\n",
    "wordslab_models = os.getenv('WORDSLAB_MODELS')\n",
    "wordslab_paths = { \"/\", wordslab_home, wordslab_workspace, wordslab_models }"
   ]
  },
  {
   "cell_type": "code",
   "execution_count": 15,
   "id": "5745329b-2749-4cf3-97a1-3a11046a53af",
   "metadata": {
    "execution": {
     "iopub.execute_input": "2025-05-04T13:09:40.233112Z",
     "iopub.status.busy": "2025-05-04T13:09:40.232718Z",
     "iopub.status.idle": "2025-05-04T13:09:40.235678Z",
     "shell.execute_reply": "2025-05-04T13:09:40.235324Z",
     "shell.execute_reply.started": "2025-05-04T13:09:40.233098Z"
    }
   },
   "outputs": [
    {
     "data": {
      "text/plain": [
       "{'/', '/home', '/home/models', '/home/workspace'}"
      ]
     },
     "execution_count": 15,
     "metadata": {},
     "output_type": "execute_result"
    }
   ],
   "source": [
    "wordslab_paths"
   ]
  },
  {
   "cell_type": "code",
   "execution_count": 34,
   "id": "cd835180-78d1-4427-931b-f5b1927282fb",
   "metadata": {
    "execution": {
     "iopub.execute_input": "2025-05-04T13:39:48.352098Z",
     "iopub.status.busy": "2025-05-04T13:39:48.351825Z",
     "iopub.status.idle": "2025-05-04T13:39:48.354777Z",
     "shell.execute_reply": "2025-05-04T13:39:48.354289Z",
     "shell.execute_reply.started": "2025-05-04T13:39:48.352085Z"
    }
   },
   "outputs": [],
   "source": [
    "wordslab_paths_to_env_variable = { \"/\":\"LINUX\", wordslab_home:'WORDSLAB_HOME', wordslab_workspace:'WORDSLAB_WORKSPACE', wordslab_models:'WORDSLAB_MODELS'}"
   ]
  },
  {
   "cell_type": "code",
   "execution_count": 35,
   "id": "c896b9ab-0121-4e89-be5b-5c448e4ca218",
   "metadata": {
    "execution": {
     "iopub.execute_input": "2025-05-04T13:39:49.936258Z",
     "iopub.status.busy": "2025-05-04T13:39:49.936108Z",
     "iopub.status.idle": "2025-05-04T13:39:49.941237Z",
     "shell.execute_reply": "2025-05-04T13:39:49.938770Z",
     "shell.execute_reply.started": "2025-05-04T13:39:49.936248Z"
    }
   },
   "outputs": [
    {
     "data": {
      "text/plain": [
       "{'/': 'LINUX',\n",
       " '/home': 'WORDSLAB_HOME',\n",
       " '/home/workspace': 'WORDSLAB_WORKSPACE',\n",
       " '/home/models': 'WORDSLAB_MODELS'}"
      ]
     },
     "execution_count": 35,
     "metadata": {},
     "output_type": "execute_result"
    }
   ],
   "source": [
    "wordslab_paths_to_env_variable"
   ]
  },
  {
   "cell_type": "code",
   "execution_count": 16,
   "id": "64b2936b-7030-4d6d-b227-e74acae7cc60",
   "metadata": {
    "execution": {
     "iopub.execute_input": "2025-05-04T13:10:19.846867Z",
     "iopub.status.busy": "2025-05-04T13:10:19.846338Z",
     "iopub.status.idle": "2025-05-04T13:10:19.849852Z",
     "shell.execute_reply": "2025-05-04T13:10:19.849449Z",
     "shell.execute_reply.started": "2025-05-04T13:10:19.846854Z"
    }
   },
   "outputs": [],
   "source": [
    "import psutil\n",
    "mountpoints = {part.mountpoint:part.device for part in set(psutil.disk_partitions(all=True)) if part.fstype in {'ext4','xfs','fuse','overlay'} and not any(substring in part.mountpoint for substring in [\"/mnt/\", \"nvidia\", \".so\"])}"
   ]
  },
  {
   "cell_type": "code",
   "execution_count": 17,
   "id": "ff07beec-30bb-4443-b853-2de0b0751f82",
   "metadata": {
    "execution": {
     "iopub.execute_input": "2025-05-04T13:10:20.198791Z",
     "iopub.status.busy": "2025-05-04T13:10:20.198119Z",
     "iopub.status.idle": "2025-05-04T13:10:20.202472Z",
     "shell.execute_reply": "2025-05-04T13:10:20.202098Z",
     "shell.execute_reply.started": "2025-05-04T13:10:20.198773Z"
    }
   },
   "outputs": [
    {
     "data": {
      "text/plain": [
       "{'/home/models': '/dev/sde',\n",
       " '/home/workspace': '/dev/sdc',\n",
       " '/': '/dev/sdd',\n",
       " '/usr/lib/modules/5.15.167.4-microsoft-standard-WSL2': '',\n",
       " '/usr/lib/wsl/lib': '',\n",
       " '/var/lib/docker': '/dev/sdd'}"
      ]
     },
     "execution_count": 17,
     "metadata": {},
     "output_type": "execute_result"
    }
   ],
   "source": [
    "mountpoints"
   ]
  },
  {
   "cell_type": "code",
   "execution_count": 18,
   "id": "9e36f914-b454-4e67-a575-0f2d10bc2a53",
   "metadata": {
    "execution": {
     "iopub.execute_input": "2025-05-04T13:10:57.316411Z",
     "iopub.status.busy": "2025-05-04T13:10:57.316095Z",
     "iopub.status.idle": "2025-05-04T13:10:57.319237Z",
     "shell.execute_reply": "2025-05-04T13:10:57.318687Z",
     "shell.execute_reply.started": "2025-05-04T13:10:57.316376Z"
    }
   },
   "outputs": [],
   "source": [
    "def map_paths_to_devices(wordslab_paths, mountpoints):\n",
    "    wordslab_paths_devices = {}\n",
    "    sorted_mountpoints = sorted(mountpoints.keys(), key=len, reverse=True)\n",
    "    for path in wordslab_paths:\n",
    "        for mountpoint in sorted_mountpoints:\n",
    "            if path.startswith(mountpoint):\n",
    "                device = mountpoints[mountpoint]\n",
    "                if device not in wordslab_paths_devices:\n",
    "                    wordslab_paths_devices[device] = [path]\n",
    "                else:\n",
    "                    wordslab_paths_devices[device].append(path)\n",
    "                break\n",
    "    return wordslab_paths_devices "
   ]
  },
  {
   "cell_type": "code",
   "execution_count": 19,
   "id": "e7086198-1fdf-4673-b497-2440b7af8fd3",
   "metadata": {
    "execution": {
     "iopub.execute_input": "2025-05-04T13:11:01.570662Z",
     "iopub.status.busy": "2025-05-04T13:11:01.570393Z",
     "iopub.status.idle": "2025-05-04T13:11:01.573899Z",
     "shell.execute_reply": "2025-05-04T13:11:01.573520Z",
     "shell.execute_reply.started": "2025-05-04T13:11:01.570651Z"
    }
   },
   "outputs": [
    {
     "data": {
      "text/plain": [
       "{'/dev/sdc': ['/home/workspace'],\n",
       " '/dev/sdd': ['/', '/home'],\n",
       " '/dev/sde': ['/home/models']}"
      ]
     },
     "execution_count": 19,
     "metadata": {},
     "output_type": "execute_result"
    }
   ],
   "source": [
    "wordslab_paths_devices = map_paths_to_devices(wordslab_paths, mountpoints)\n",
    "wordslab_paths_devices "
   ]
  },
  {
   "cell_type": "code",
   "execution_count": 21,
   "id": "eea55070-79a5-4578-a5da-cb40842226e2",
   "metadata": {
    "execution": {
     "iopub.execute_input": "2025-05-04T13:12:07.333545Z",
     "iopub.status.busy": "2025-05-04T13:12:07.333217Z",
     "iopub.status.idle": "2025-05-04T13:12:07.336928Z",
     "shell.execute_reply": "2025-05-04T13:12:07.336570Z",
     "shell.execute_reply.started": "2025-05-04T13:12:07.333534Z"
    }
   },
   "outputs": [
    {
     "data": {
      "text/plain": [
       "{'/dev/sdc': sdiskusage(total=1081101176832, used=1094873088, free=1025013948416, percent=0.1),\n",
       " '/dev/sdd': sdiskusage(total=1081101176832, used=18279911424, free=1007828910080, percent=1.8),\n",
       " '/dev/sde': sdiskusage(total=1081101176832, used=166313140224, free=859795681280, percent=16.2)}"
      ]
     },
     "execution_count": 21,
     "metadata": {},
     "output_type": "execute_result"
    }
   ],
   "source": [
    "wordslab_devices_usage"
   ]
  },
  {
   "cell_type": "code",
   "execution_count": 22,
   "id": "b73fb957-84a8-4d1d-95b8-87e58870c6b2",
   "metadata": {
    "execution": {
     "iopub.execute_input": "2025-05-04T13:18:31.005872Z",
     "iopub.status.busy": "2025-05-04T13:18:31.005713Z",
     "iopub.status.idle": "2025-05-04T13:18:31.008792Z",
     "shell.execute_reply": "2025-05-04T13:18:31.008423Z",
     "shell.execute_reply.started": "2025-05-04T13:18:31.005862Z"
    }
   },
   "outputs": [],
   "source": [
    "@dataclass\n",
    "class DirectoryMetrics: \n",
    "    env_variable: str\n",
    "    path: Path\n",
    "    size_used: float # GB\n",
    "\n",
    "@dataclass\n",
    "class DiskMetrics:\n",
    "    name: str\n",
    "    size_total: float # GB\n",
    "    size_used: float  # GB\n",
    "    directories: list[DirectoryMetrics]"
   ]
  },
  {
   "cell_type": "code",
   "execution_count": 2,
   "id": "b3121164-08ae-4317-aa7f-ac1a9c9bafc1",
   "metadata": {
    "execution": {
     "iopub.execute_input": "2025-05-18T15:24:58.098617Z",
     "iopub.status.busy": "2025-05-18T15:24:58.098357Z",
     "iopub.status.idle": "2025-05-18T15:24:58.105086Z",
     "shell.execute_reply": "2025-05-18T15:24:58.103857Z",
     "shell.execute_reply.started": "2025-05-18T15:24:58.098598Z"
    }
   },
   "outputs": [],
   "source": [
    "import subprocess\n",
    "\n",
    "def get_directory_size(path):\n",
    "   # Use the 'du' command to get the total size of the directory\n",
    "    result = subprocess.run(['du', '-s', '--block-size=1', path], capture_output=True, text=True, check=True)\n",
    "    # The output is in the format: <size>\\t<path>\n",
    "    size = int(result.stdout.split('\\t')[0])\n",
    "    return size\n",
    "\n",
    "def get_disks_metrics():\n",
    "    worsdlab_paths_sizes = {path:get_directory_size(path) for path in [wordslab_home, wordslab_workspace, wordslab_models]}\n",
    "    if wordslab_workspace.startswith(wordslab_home):\n",
    "        worsdlab_paths_sizes[wordslab_home] -= worsdlab_paths_sizes[wordslab_workspace]\n",
    "    if wordslab_models.startswith(wordslab_home):\n",
    "        worsdlab_paths_sizes[wordslab_home] -= worsdlab_paths_sizes[wordslab_models]\n",
    "    wordslab_devices_usage = {item[0]:psutil.disk_usage(item[1][0]) for item in wordslab_paths_devices.items()}\n",
    "    disks_metrics = []\n",
    "    for disk_name,disk_usage in wordslab_devices_usage.items():\n",
    "        disk_metrics = DiskMetrics(\n",
    "            name=disk_name,\n",
    "            size_total=disk_usage.total / 1024**3,\n",
    "            size_used=disk_usage.used / 1024**3,\n",
    "            directories=[] \n",
    "        )\n",
    "        disks_metrics.append(disk_metrics)\n",
    "        already_counted_size = 0\n",
    "        for path in reversed(wordslab_paths_devices[disk_name]):\n",
    "            path_size = worsdlab_paths_sizes[path] if path!='/' else disk_usage.used\n",
    "            path_size = path_size - already_counted_size\n",
    "            dir_metrics = DirectoryMetrics(\n",
    "                env_variable=wordslab_paths_to_env_variable[path],\n",
    "                path=path,\n",
    "                size_used=path_size / 1024**3\n",
    "            )\n",
    "            disk_metrics.directories.append(dir_metrics)\n",
    "            already_counted_size = already_counted_size + path_size\n",
    "    return disks_metrics"
   ]
  },
  {
   "cell_type": "code",
   "execution_count": 51,
   "id": "2bb8e2ca-ddf3-4ad9-b963-279f3d58e585",
   "metadata": {
    "execution": {
     "iopub.execute_input": "2025-05-04T13:55:46.925607Z",
     "iopub.status.busy": "2025-05-04T13:55:46.925326Z",
     "iopub.status.idle": "2025-05-04T13:55:47.236085Z",
     "shell.execute_reply": "2025-05-04T13:55:47.235687Z",
     "shell.execute_reply.started": "2025-05-04T13:55:46.925596Z"
    }
   },
   "outputs": [
    {
     "data": {
      "text/plain": [
       "[DiskMetrics(name='/dev/sdc', size_total=1006.853931427002, size_used=1.0198287963867188, directories=[DirectoryMetrics(env_variable='WORDSLAB_WORKSPACE', path='/home/workspace', size_used=1.0118560791015625)]),\n",
       " DiskMetrics(name='/dev/sdd', size_total=1006.853931427002, size_used=17.024574279785156, directories=[DirectoryMetrics(env_variable='WORDSLAB_HOME', path='/home', size_used=15.093090057373047), DirectoryMetrics(env_variable='LINUX', path='/', size_used=1.9314842224121094)]),\n",
       " DiskMetrics(name='/dev/sde', size_total=1006.853931427002, size_used=154.89118194580078, directories=[DirectoryMetrics(env_variable='WORDSLAB_MODELS', path='/home/models', size_used=154.88320922851562)])]"
      ]
     },
     "execution_count": 51,
     "metadata": {},
     "output_type": "execute_result"
    }
   ],
   "source": [
    "disks_metrics  = get_disks_metrics()\n",
    "disks_metrics"
   ]
  },
  {
   "cell_type": "code",
   "execution_count": 43,
   "id": "1e82ee9f-2921-477a-aece-fc38ba52d8b9",
   "metadata": {
    "execution": {
     "iopub.execute_input": "2025-05-04T13:47:18.622167Z",
     "iopub.status.busy": "2025-05-04T13:47:18.621827Z",
     "iopub.status.idle": "2025-05-04T13:47:18.625082Z",
     "shell.execute_reply": "2025-05-04T13:47:18.624659Z",
     "shell.execute_reply.started": "2025-05-04T13:47:18.622155Z"
    }
   },
   "outputs": [],
   "source": [
    "from pathlib import Path\n",
    "\n",
    "wordslab_platform = os.getenv(\"WORDSLAB_PLATFORM\")\n",
    "windows_disks = wordslab_platform == \"WindowsSubsystemForLinux\"\n",
    "\n",
    "if windows_disks:\n",
    "    wordslab_windows_home = (Path(wordslab_home) / \".WORDSLAB_WINDOWS_HOME\").read_text().strip()\n",
    "    wordslab_windows_workspace = (Path(wordslab_workspace) / \".WORDSLAB_WINDOWS_WORKSPACE\").read_text().strip()\n",
    "    wordslab_windows_models = (Path(wordslab_models) / \".WORDSLAB_WINDOWS_MODELS\").read_text().strip()"
   ]
  },
  {
   "cell_type": "code",
   "execution_count": 44,
   "id": "2e9d163c-e35f-483d-9b49-c7dcbcb5849b",
   "metadata": {
    "execution": {
     "iopub.execute_input": "2025-05-04T13:47:20.264483Z",
     "iopub.status.busy": "2025-05-04T13:47:20.264094Z",
     "iopub.status.idle": "2025-05-04T13:47:20.269032Z",
     "shell.execute_reply": "2025-05-04T13:47:20.267366Z",
     "shell.execute_reply.started": "2025-05-04T13:47:20.264469Z"
    }
   },
   "outputs": [
    {
     "name": "stdout",
     "output_type": "stream",
     "text": [
      "True\n",
      "C:\\wordslab\\virtual-machines\\wordslab-notebooks C:\\wordslab\\virtual-machines\\wordslab-workspace d:\\wordslab\\virtual-machines\\wordslab-models\n"
     ]
    }
   ],
   "source": [
    "print(windows_disks)\n",
    "if windows_disks:\n",
    "    print(wordslab_windows_home,wordslab_windows_workspace,wordslab_windows_models)"
   ]
  },
  {
   "cell_type": "code",
   "execution_count": 52,
   "id": "aa4121c0-7696-4251-8903-ace264d36e70",
   "metadata": {
    "execution": {
     "iopub.execute_input": "2025-05-04T14:03:53.725436Z",
     "iopub.status.busy": "2025-05-04T14:03:53.724861Z",
     "iopub.status.idle": "2025-05-04T14:03:53.732878Z",
     "shell.execute_reply": "2025-05-04T14:03:53.729980Z",
     "shell.execute_reply.started": "2025-05-04T14:03:53.725422Z"
    }
   },
   "outputs": [],
   "source": [
    "def windows_path_to_linux_vm_file(env_variable, windows_path):\n",
    "    # Replace backslashes with forward slashes\n",
    "    windows_path = windows_path.replace('\\\\', '/')\n",
    "    # Replace the drive letter with /mnt/<drive>\n",
    "    if len(windows_path) > 1 and windows_path[1] == ':':\n",
    "        drive_letter = windows_path[0].lower()\n",
    "        drive_path = f\"/mnt/{drive_letter}\"\n",
    "        linux_file = Path(f\"{drive_path}{windows_path[2:]}\") / \"ext4.vhdx\"\n",
    "    return (windows_path[:2], psutil.disk_usage(drive_path), env_variable, f\"{windows_path}\\\\ext4.vhdx\", linux_file.stat().st_size) "
   ]
  },
  {
   "cell_type": "code",
   "execution_count": 53,
   "id": "984440f0-a36f-48f2-9083-74b198dbbb60",
   "metadata": {
    "execution": {
     "iopub.execute_input": "2025-05-04T14:04:41.696346Z",
     "iopub.status.busy": "2025-05-04T14:04:41.696071Z",
     "iopub.status.idle": "2025-05-04T14:04:41.721837Z",
     "shell.execute_reply": "2025-05-04T14:04:41.720903Z",
     "shell.execute_reply.started": "2025-05-04T14:04:41.696335Z"
    }
   },
   "outputs": [],
   "source": [
    "wordslab_windows_home_vm_file = windows_path_to_linux_vm_file(\"WORDSLAB_WINDOWS_HOME\", wordslab_windows_home)\n",
    "wordslab_windows_workspace_vm_file = windows_path_to_linux_vm_file(\"WORDSLAB_WINDOWS_WORKSPACE\", wordslab_windows_workspace)\n",
    "wordslab_windows_models_vm_file = windows_path_to_linux_vm_file(\"WORDSLAB_WINDOWS_MODELS\", wordslab_windows_models)"
   ]
  },
  {
   "cell_type": "code",
   "execution_count": 54,
   "id": "e47cc624-d29a-4d8a-8e65-0a1e50aa0f2f",
   "metadata": {
    "execution": {
     "iopub.execute_input": "2025-05-04T14:04:42.199256Z",
     "iopub.status.busy": "2025-05-04T14:04:42.198875Z",
     "iopub.status.idle": "2025-05-04T14:04:42.202097Z",
     "shell.execute_reply": "2025-05-04T14:04:42.201589Z",
     "shell.execute_reply.started": "2025-05-04T14:04:42.199242Z"
    }
   },
   "outputs": [
    {
     "data": {
      "text/plain": [
       "(('C:',\n",
       "  sdiskusage(total=2047178960896, used=150881116160, free=1896297844736, percent=7.4),\n",
       "  'WORDSLAB_WINDOWS_HOME',\n",
       "  'C:/wordslab/virtual-machines/wordslab-notebooks\\\\ext4.vhdx',\n",
       "  19152240640),\n",
       " ('C:',\n",
       "  sdiskusage(total=2047178960896, used=150881116160, free=1896297844736, percent=7.4),\n",
       "  'WORDSLAB_WINDOWS_WORKSPACE',\n",
       "  'C:/wordslab/virtual-machines/wordslab-workspace\\\\ext4.vhdx',\n",
       "  2160066560),\n",
       " ('d:',\n",
       "  sdiskusage(total=4000768323584, used=796415913984, free=3204352409600, percent=19.9),\n",
       "  'WORDSLAB_WINDOWS_MODELS',\n",
       "  'd:/wordslab/virtual-machines/wordslab-models\\\\ext4.vhdx',\n",
       "  166638649344))"
      ]
     },
     "execution_count": 54,
     "metadata": {},
     "output_type": "execute_result"
    }
   ],
   "source": [
    "wordslab_windows_home_vm_file, wordslab_windows_workspace_vm_file, wordslab_windows_models_vm_file"
   ]
  },
  {
   "cell_type": "code",
   "execution_count": 64,
   "id": "1e15b3bd-6a75-4a15-8107-ed17cb0b01e4",
   "metadata": {
    "execution": {
     "iopub.execute_input": "2025-05-04T14:07:10.196988Z",
     "iopub.status.busy": "2025-05-04T14:07:10.196731Z",
     "iopub.status.idle": "2025-05-04T14:07:10.201584Z",
     "shell.execute_reply": "2025-05-04T14:07:10.199405Z",
     "shell.execute_reply.started": "2025-05-04T14:07:10.196975Z"
    }
   },
   "outputs": [],
   "source": [
    "def get_windows_disks_metrics():\n",
    "    windows_disks_metrics = {}\n",
    "    for disk_letter,disk_usage,env_variable,vm_file_path,file_size in [wordslab_windows_home_vm_file, wordslab_windows_workspace_vm_file, wordslab_windows_models_vm_file]:\n",
    "        if disk_letter in windows_disks_metrics:\n",
    "            windows_disk_metrics = windows_disks_metrics[disk_letter]\n",
    "        else:\n",
    "            windows_disk_metrics = DiskMetrics(\n",
    "                name=disk_letter,\n",
    "                size_total=disk_usage.total / 1024**3,\n",
    "                size_used=disk_usage.used / 1024**3,\n",
    "                directories=[] \n",
    "            )\n",
    "            windows_disks_metrics[disk_letter] = windows_disk_metrics\n",
    "        windows_disk_metrics.directories.append(\n",
    "            DirectoryMetrics(\n",
    "                env_variable=env_variable,\n",
    "                path=vm_file_path,\n",
    "                size_used=file_size / 1024**3\n",
    "            )\n",
    "        )\n",
    "    return windows_disks_metrics"
   ]
  },
  {
   "cell_type": "code",
   "execution_count": 65,
   "id": "39bbea58-5acd-4a9e-a972-1faabef5a6cd",
   "metadata": {
    "execution": {
     "iopub.execute_input": "2025-05-04T14:07:10.835832Z",
     "iopub.status.busy": "2025-05-04T14:07:10.835450Z",
     "iopub.status.idle": "2025-05-04T14:07:10.839678Z",
     "shell.execute_reply": "2025-05-04T14:07:10.839167Z",
     "shell.execute_reply.started": "2025-05-04T14:07:10.835820Z"
    }
   },
   "outputs": [
    {
     "data": {
      "text/plain": [
       "{'C:': DiskMetrics(name='C:', size_total=1906.5839805603027, size_used=140.51898956298828, directories=[DirectoryMetrics(env_variable='WORDSLAB_WINDOWS_HOME', path='C:/wordslab/virtual-machines/wordslab-notebooks\\\\ext4.vhdx', size_used=17.8369140625), DirectoryMetrics(env_variable='WORDSLAB_WINDOWS_WORKSPACE', path='C:/wordslab/virtual-machines/wordslab-workspace\\\\ext4.vhdx', size_used=2.01171875)]),\n",
       " 'd:': DiskMetrics(name='d:', size_total=3726.0058555603027, size_used=741.7201194763184, directories=[DirectoryMetrics(env_variable='WORDSLAB_WINDOWS_MODELS', path='d:/wordslab/virtual-machines/wordslab-models\\\\ext4.vhdx', size_used=155.1943359375)])}"
      ]
     },
     "execution_count": 65,
     "metadata": {},
     "output_type": "execute_result"
    }
   ],
   "source": [
    "windows_disk_metrics = get_windows_disks_metrics()\n",
    "windows_disk_metrics"
   ]
  },
  {
   "cell_type": "markdown",
   "id": "18182e6f-a715-456b-b7a2-a3386e67b8d9",
   "metadata": {},
   "source": [
    "### Jarvislabs\n",
    "- / -> overlay size No\n",
    "- /home -> /dev/rdb0 size Yes\n",
    "\n",
    "import psutil\n",
    "{part.mountpoint:part.device for part in set(psutil.disk_partitions(all=True)) if part.fstype in {'ext4','xfs','fuse','overlay'} and not \"/mnt/\" in part.mountpoint and not \"nvidia\" in part.mountpoint and not \".so\" in part.mountpoint}\n",
    "\n",
    "{'/etc/hostname': '/dev/nvme0n1p3',\n",
    " '/etc/resolv.conf': '/dev/nvme0n1p3',\n",
    " '/home': '/dev/rbd0',\n",
    " '/usr/sbin/docker-init': '/dev/nvme0n1p3',\n",
    " '/': 'overlay',\n",
    " '/etc/hosts': '/dev/nvme0n1p3'}\n",
    "\n",
    "!df -h /\n",
    "\n",
    "Filesystem      Size  Used Avail Use% Mounted on\n",
    "overlay         1.9T  895G  886G  51% /\n",
    "\n",
    "!df -h /home\n",
    "\n",
    "Filesystem      Size  Used Avail Use% Mounted on\n",
    "/dev/rbd1        20G  177M   20G   1% /home\n",
    "\n",
    "!du -sh /* | sort -h\n",
    "\n",
    "0\t/bin\n",
    "0\t/dev\n",
    "0\t/lib\n",
    "0\t/lib32\n",
    "0\t/lib64\n",
    "0\t/libx32\n",
    "0\t/sbin\n",
    "0\t/sys\n",
    "4.0K\t/boot\n",
    "4.0K\t/docker-entrypoint.sh\n",
    "4.0K\t/media\n",
    "4.0K\t/mnt\n",
    "4.0K\t/srv\n",
    "4.0K\t/tmp\n",
    "4.0K\t/workspace\n",
    "8.0K\t/cuda-keyring_1.1-1_all.deb\n",
    "12K\t/proc\n",
    "20K\t/NGC-DL-CONTAINER-LICENSE\n",
    "92K\t/run\n",
    "2.0M\t/home\n",
    "2.3M\t/etc\n",
    "70M\t/var\n",
    "1.4G\t/opt\n",
    "6.4G\t/usr\n",
    "9.2G\t/root\n",
    "\n",
    "### Runpod\n",
    "- / -> overlay size ?\n",
    "- /workspace -> fuse size KO\n",
    "\n",
    "import psutil\n",
    "{part.mountpoint:part.device for part in set(psutil.disk_partitions(all=True)) if part.fstype in {'ext4','xfs','fuse','overlay'} and not \"/mnt/\" in part.mountpoint and not \"nvidia\" in part.mountpoint and not \".so\" in part.mountpoint}\n",
    "\n",
    "{'/usr/sbin/docker-init': '/dev/nvme3n1p3',\n",
    " '/workspace': 'mfs\\\\043eu-cz-1.runpod.net:9421',\n",
    " '/etc/hosts': '/dev/md0p1',\n",
    " '/etc/resolv.conf': '/dev/md0p1',\n",
    " '/etc/hostname': '/dev/md0p1',\n",
    " '/': 'overlay'}\n",
    "\n",
    "!df -h /workspace\n",
    "\n",
    "Filesystem                   Size  Used Avail Use% Mounted on\n",
    "mfs#eu-cz-1.runpod.net:9421  234T  110T  125T  47% /workspace\n",
    "\n",
    "!du -sh /* | sort -h\n",
    "\n",
    "0\t/bin\n",
    "0\t/boot\n",
    "0\t/dev\n",
    "0\t/home\n",
    "0\t/lib\n",
    "0\t/lib32\n",
    "0\t/lib64\n",
    "0\t/libx32\n",
    "0\t/media\n",
    "0\t/mnt\n",
    "0\t/sbin\n",
    "0\t/srv\n",
    "0\t/sys\n",
    "0\t/tmp\n",
    "4.0K\t/start.sh\n",
    "8.0K\t/cuda-keyring_1.0-1_all.deb\n",
    "8.0K\t/jupyter.log\n",
    "12K\t/proc\n",
    "16K\t/run\n",
    "20K\t/NGC-DL-CONTAINER-LICENSE\n",
    "999K\t/workspace\n",
    "1.9M\t/etc\n",
    "2.6M\t/get-pip.py\n",
    "15M\t/var\n",
    "44M\t/root\n",
    "918M\t/opt\n",
    "12G\t/usr\n",
    "\n",
    "\n",
    "### Vast\n",
    "- / -> overlay size OK\n",
    "\n",
    "{'/etc/hosts': '/dev/md127p1',\n",
    " '/': 'overlay',\n",
    " '/etc/resolv.conf': '/dev/md127p1',\n",
    " '/etc/hostname': '/dev/md127p1'}\n",
    "\n",
    "!du -sh /* | sort -h\n",
    "\n",
    "0\t/bin\n",
    "0\t/boot\n",
    "0\t/dev\n",
    "0\t/lib\n",
    "0\t/lib32\n",
    "0\t/lib64\n",
    "0\t/libx32\n",
    "0\t/media\n",
    "0\t/mnt\n",
    "0\t/sbin\n",
    "0\t/srv\n",
    "0\t/sys\n",
    "4.0K\t/Untitled.ipynb\n",
    "8.0K\t/cuda-keyring_1.0-1_all.deb\n",
    "12K\t/proc\n",
    "16K\t/workspace\n",
    "20K\t/NGC-DL-CONTAINER-LICENSE\n",
    "20K\t/run\n",
    "68K\t/home\n",
    "424K\t/tmp\n",
    "2.3M\t/etc\n",
    "21M\t/root\n",
    "108M\t/var\n",
    "1.8G\t/opt\n",
    "5.0G\t/venv\n",
    "12G\t/usr\n",
    "\n",
    "!df -h /\n",
    "\n",
    " Filesystem      Size  Used Avail Use% Mounted on\n",
    "overlay          16G  2.0M   16G   1% /"
   ]
  },
  {
   "cell_type": "code",
   "execution_count": 140,
   "id": "d367ca91-c213-419f-9248-fbc411fe4bb9",
   "metadata": {
    "execution": {
     "iopub.execute_input": "2025-02-10T23:51:57.740251Z",
     "iopub.status.busy": "2025-02-10T23:51:57.739900Z",
     "iopub.status.idle": "2025-02-10T23:51:57.746524Z",
     "shell.execute_reply": "2025-02-10T23:51:57.745543Z",
     "shell.execute_reply.started": "2025-02-10T23:51:57.740225Z"
    }
   },
   "outputs": [],
   "source": [
    "jarvislabs_mountpoints = {'/etc/hostname': '/dev/nvme0n1p3', '/etc/resolv.conf': '/dev/nvme0n1p3', '/home': '/dev/rbd0', '/usr/sbin/docker-init': '/dev/nvme0n1p3', '/': 'overlay', '/etc/hosts': '/dev/nvme0n1p3'}\n",
    "runpod_mountpoints = {'/usr/sbin/docker-init': '/dev/nvme3n1p3', '/workspace': 'mfs\\\\043eu-cz-1.runpod.net:9421', '/etc/hosts': '/dev/md0p1', '/etc/resolv.conf': '/dev/md0p1', '/etc/hostname': '/dev/md0p1', '/': 'overlay'}\n",
    "vast_mountpoints = {'/etc/hosts': '/dev/md127p1', '/': 'overlay', '/etc/resolv.conf': '/dev/md127p1', '/etc/hostname': '/dev/md127p1'}"
   ]
  },
  {
   "cell_type": "code",
   "execution_count": 141,
   "id": "e1d8ad32-fa14-4a23-bb28-87a0d2604bdc",
   "metadata": {
    "execution": {
     "iopub.execute_input": "2025-02-10T23:51:58.431962Z",
     "iopub.status.busy": "2025-02-10T23:51:58.431218Z",
     "iopub.status.idle": "2025-02-10T23:51:58.437349Z",
     "shell.execute_reply": "2025-02-10T23:51:58.436552Z",
     "shell.execute_reply.started": "2025-02-10T23:51:58.431929Z"
    }
   },
   "outputs": [],
   "source": [
    "def map_paths_to_devices(wordslab_paths, mountpoints):\n",
    "    wordslab_paths_devices = {}\n",
    "    sorted_mountpoints = sorted(mountpoints.keys(), key=len, reverse=True)\n",
    "    for path in wordslab_paths:\n",
    "        for mountpoint in sorted_mountpoints:\n",
    "            if path.startswith(mountpoint):\n",
    "                wordslab_paths_devices[path] = mountpoints[mountpoint]\n",
    "                break\n",
    "    return  wordslab_paths_devices   "
   ]
  },
  {
   "cell_type": "code",
   "execution_count": 142,
   "id": "2e26de15-eb74-4d66-a0d0-ac96aa828e03",
   "metadata": {
    "execution": {
     "iopub.execute_input": "2025-02-10T23:52:00.067146Z",
     "iopub.status.busy": "2025-02-10T23:52:00.066922Z",
     "iopub.status.idle": "2025-02-10T23:52:00.071375Z",
     "shell.execute_reply": "2025-02-10T23:52:00.070919Z",
     "shell.execute_reply.started": "2025-02-10T23:52:00.067132Z"
    }
   },
   "outputs": [
    {
     "data": {
      "text/plain": [
       "{'/': '/dev/sdd',\n",
       " '/home': '/dev/sdd',\n",
       " '/home/workspace': '/dev/sdc',\n",
       " '/home/models': '/dev/sde'}"
      ]
     },
     "execution_count": 142,
     "metadata": {},
     "output_type": "execute_result"
    }
   ],
   "source": [
    "map_paths_to_devices(wordslab_paths, wsl_mountpoints)"
   ]
  },
  {
   "cell_type": "code",
   "execution_count": 143,
   "id": "ed565115-274d-48b7-9a00-17442fee3ce6",
   "metadata": {
    "execution": {
     "iopub.execute_input": "2025-02-10T23:52:00.811367Z",
     "iopub.status.busy": "2025-02-10T23:52:00.810924Z",
     "iopub.status.idle": "2025-02-10T23:52:00.817247Z",
     "shell.execute_reply": "2025-02-10T23:52:00.816951Z",
     "shell.execute_reply.started": "2025-02-10T23:52:00.811338Z"
    }
   },
   "outputs": [
    {
     "data": {
      "text/plain": [
       "{'/': 'overlay',\n",
       " '/home': '/dev/rbd0',\n",
       " '/home/workspace': '/dev/rbd0',\n",
       " '/home/models': '/dev/rbd0'}"
      ]
     },
     "execution_count": 143,
     "metadata": {},
     "output_type": "execute_result"
    }
   ],
   "source": [
    "map_paths_to_devices(wordslab_paths, jarvislabs_mountpoints)"
   ]
  },
  {
   "cell_type": "code",
   "execution_count": 144,
   "id": "308bb357-4907-4a1e-9421-9ddc342d82e1",
   "metadata": {
    "execution": {
     "iopub.execute_input": "2025-02-10T23:52:01.382101Z",
     "iopub.status.busy": "2025-02-10T23:52:01.381713Z",
     "iopub.status.idle": "2025-02-10T23:52:01.391195Z",
     "shell.execute_reply": "2025-02-10T23:52:01.390734Z",
     "shell.execute_reply.started": "2025-02-10T23:52:01.382073Z"
    }
   },
   "outputs": [
    {
     "data": {
      "text/plain": [
       "{'/': 'overlay',\n",
       " '/workspace/workspace': 'mfs\\\\043eu-cz-1.runpod.net:9421',\n",
       " '/workspace': 'mfs\\\\043eu-cz-1.runpod.net:9421',\n",
       " '/workspace/models': 'mfs\\\\043eu-cz-1.runpod.net:9421'}"
      ]
     },
     "execution_count": 144,
     "metadata": {},
     "output_type": "execute_result"
    }
   ],
   "source": [
    "map_paths_to_devices({'/', '/workspace', '/workspace/models', '/workspace/workspace'}, runpod_mountpoints)"
   ]
  },
  {
   "cell_type": "code",
   "execution_count": 145,
   "id": "7ed90e7e-6a57-4c9f-adc3-d6e08d4aef77",
   "metadata": {
    "execution": {
     "iopub.execute_input": "2025-02-10T23:52:02.105812Z",
     "iopub.status.busy": "2025-02-10T23:52:02.105149Z",
     "iopub.status.idle": "2025-02-10T23:52:02.112310Z",
     "shell.execute_reply": "2025-02-10T23:52:02.111896Z",
     "shell.execute_reply.started": "2025-02-10T23:52:02.105780Z"
    }
   },
   "outputs": [
    {
     "data": {
      "text/plain": [
       "{'/': 'overlay',\n",
       " '/home': 'overlay',\n",
       " '/home/workspace': 'overlay',\n",
       " '/home/models': 'overlay'}"
      ]
     },
     "execution_count": 145,
     "metadata": {},
     "output_type": "execute_result"
    }
   ],
   "source": [
    "map_paths_to_devices(wordslab_paths, vast_mountpoints)"
   ]
  },
  {
   "cell_type": "code",
   "execution_count": 3,
   "id": "4d17069a-8569-4cb5-82d5-e6eedcbe67b0",
   "metadata": {
    "execution": {
     "iopub.execute_input": "2025-05-18T15:25:04.980834Z",
     "iopub.status.busy": "2025-05-18T15:25:04.980486Z",
     "iopub.status.idle": "2025-05-18T15:25:05.623735Z",
     "shell.execute_reply": "2025-05-18T15:25:05.623144Z",
     "shell.execute_reply.started": "2025-05-18T15:25:04.980814Z"
    }
   },
   "outputs": [
    {
     "data": {
      "text/plain": [
       "1652318208"
      ]
     },
     "execution_count": 3,
     "metadata": {},
     "output_type": "execute_result"
    }
   ],
   "source": [
    "os_size = get_directory_size(\"/usr/bin\")+get_directory_size(\"/usr/lib/x86_64-linux-gnu/\")+get_directory_size(\"/usr/libexec\")+get_directory_size(\"/usr/share\")\n",
    "os_size"
   ]
  },
  {
   "cell_type": "code",
   "execution_count": 4,
   "id": "529e2f70-9f94-464e-bc62-ab5b502a2f0d",
   "metadata": {
    "execution": {
     "iopub.execute_input": "2025-05-18T15:25:06.299567Z",
     "iopub.status.busy": "2025-05-18T15:25:06.299200Z",
     "iopub.status.idle": "2025-05-18T15:25:06.329676Z",
     "shell.execute_reply": "2025-05-18T15:25:06.329018Z",
     "shell.execute_reply.started": "2025-05-18T15:25:06.299550Z"
    }
   },
   "outputs": [
    {
     "data": {
      "text/plain": [
       "193507328"
      ]
     },
     "execution_count": 4,
     "metadata": {},
     "output_type": "execute_result"
    }
   ],
   "source": [
    "root_user_size = get_directory_size(\"/root\")\n",
    "root_user_size"
   ]
  },
  {
   "cell_type": "code",
   "execution_count": 15,
   "id": "0cec6633-31a1-4549-8cc6-410fc9c815d2",
   "metadata": {
    "execution": {
     "iopub.execute_input": "2025-05-17T21:49:48.365238Z",
     "iopub.status.busy": "2025-05-17T21:49:48.364989Z",
     "iopub.status.idle": "2025-05-17T21:49:48.997762Z",
     "shell.execute_reply": "2025-05-17T21:49:48.997251Z",
     "shell.execute_reply.started": "2025-05-17T21:49:48.365223Z"
    }
   },
   "outputs": [
    {
     "data": {
      "text/plain": [
       "[('torch-2.6.0+cu124', 1510.54296875),\n",
       " ('vllm-0.8.5.post1', 1016.3125),\n",
       " ('nvidia_cudnn_cu12-9.1.0.70', 976.01171875),\n",
       " ('triton-3.2.0', 684.0234375),\n",
       " ('nvidia_cublas_cu12-12.4.5.8', 527.375),\n",
       " ('open_webui-0.6.9', 377.6953125),\n",
       " ('nvidia_cufft_cu12-11.2.1.3', 280.4140625),\n",
       " ('nvidia_cusparse_cu12-12.3.1.170', 268.67578125),\n",
       " ('nvidia_nccl_cu12-2.21.5', 240.0546875),\n",
       " ('cupy_cuda12x-13.4.1', 216.01953125),\n",
       " ('hf_xet-1.1.0', 209.6015625),\n",
       " ('nvidia_cusparselt_cu12-0.6.2', 202.8359375),\n",
       " ('nvidia_cusolver_cu12-11.6.1.9', 193.49609375),\n",
       " ('opencv_python-4.11.0.86', 169.109375),\n",
       " ('ray-2.46.0', 165.0390625),\n",
       " ('xformers-0.0.29.post2', 162.80859375),\n",
       " ('tree_sitter_language_pack-0.7.3', 149.046875),\n",
       " ('milvus_lite-2.4.12', 141.47265625),\n",
       " ('opencv_python_headless-4.11.0.86', 135.8671875),\n",
       " ('pyarrow-20.0.0', 134.93359375),\n",
       " ('ctranslate2-4.6.0', 131.24609375),\n",
       " ('llvmlite-0.44.0', 127.421875),\n",
       " ('faiss_cpu-1.11.0', 126.40625),\n",
       " ('playwright-1.49.1', 125.453125),\n",
       " ('scipy-1.15.3', 118.02734375),\n",
       " ('spacy-3.8.4', 110.234375),\n",
       " ('tencentcloud_sdk_python-3.0.1336', 109.80859375),\n",
       " ('nvidia_curand_cu12-10.3.5.147', 94.1875),\n",
       " ('av-14.4.0', 91.5546875),\n",
       " ('google_api_python_client-2.169.0', 82.8515625),\n",
       " ('google_api_python_client-2.169.0', 82.8515625),\n",
       " ('numpy-1.26.4', 62.9921875),\n",
       " ('numpy-1.26.4', 62.98828125),\n",
       " ('nvidia_cuda_nvrtc_cu12-12.4.127', 62.8515625),\n",
       " ('numpy-2.2.5', 55.23046875),\n",
       " ('llguidance-0.7.20', 53.7734375),\n",
       " ('nvidia_nvjitlink_cu12-12.4.127', 51.23046875),\n",
       " ('transformers-4.51.3', 49.56640625),\n",
       " ('pandas-2.2.3', 45.1171875),\n",
       " ('nvidia_cuda_cupti_cu12-12.4.127', 43.046875),\n",
       " ('scikit_learn-1.6.1', 41.7734375),\n",
       " ('jupyterlab-4.4.2', 38.4375),\n",
       " ('onnxruntime-1.20.1', 36.88671875),\n",
       " ('mistral_common-1.5.4', 35.4453125),\n",
       " ('blis-1.3.0', 34.40234375),\n",
       " ('babel-2.17.0', 32.43359375),\n",
       " ('sympy-1.13.1', 28.90625),\n",
       " ('litellm-1.68.1', 25.52734375),\n",
       " ('botocore-1.35.99', 24.89453125),\n",
       " ('zstandard-0.23.0', 22.3359375),\n",
       " ('matplotlib-3.10.3', 22.32421875),\n",
       " ('fonttools-4.58.0', 20.74609375),\n",
       " ('moto-5.1.4', 20.71484375),\n",
       " ('nbdime-4.0.2', 20.43359375),\n",
       " ('apsw-3.49.2.0', 20.05078125),\n",
       " ('debugpy-1.8.14', 20.03515625),\n",
       " ('torchvision-0.21.0+cu124', 19.53125),\n",
       " ('pycountry-24.6.1', 18.31640625),\n",
       " ('kubernetes-32.0.1', 17.76953125),\n",
       " ('numba-0.61.2', 16.96875),\n",
       " ('xgrammar-0.1.18', 16.6484375),\n",
       " ('uvloop-0.21.0', 16.5078125),\n",
       " ('rapidocr_onnxruntime-1.4.4', 15.62890625),\n",
       " ('language_data-1.3.0', 15.42578125),\n",
       " ('thinc-8.3.6', 15.03515625),\n",
       " ('grpcio-1.71.0', 14.05859375),\n",
       " ('grpcio-1.67.1', 13.93359375),\n",
       " ('hf_xet-1.1.2', 13.671875),\n",
       " ('sqlalchemy-2.0.41', 13.08984375),\n",
       " ('SQLAlchemy-2.0.38', 12.87109375),\n",
       " ('torchaudio-2.6.0+cu124', 12.8671875),\n",
       " ('pillow-11.2.1', 12.8046875),\n",
       " ('pillow-11.1.0', 12.40234375),\n",
       " ('langchain_community-0.3.24', 12.07421875),\n",
       " ('langchain_community-0.3.23', 12.0625),\n",
       " ('cryptography-44.0.3', 11.828125),\n",
       " ('jupyter_server_mathjax-0.2.6', 11.39453125),\n",
       " ('rapidfuzz-3.13.0', 11.375),\n",
       " ('lxml-5.4.0', 11.0859375),\n",
       " ('shapely-2.1.0', 10.3828125),\n",
       " ('jedi-0.19.2', 10.2734375)]"
      ]
     },
     "execution_count": 15,
     "metadata": {},
     "output_type": "execute_result"
    }
   ],
   "source": [
    "python_archive = f\"{wordslab_home}/python/archive-v0/\"\n",
    "python_packages = []\n",
    "for entry in os.listdir(python_archive):\n",
    "    full_path = os.path.join(python_archive, entry)\n",
    "    if os.path.isdir(full_path):\n",
    "        for item in os.listdir(full_path):\n",
    "            if item.endswith(\".dist-info\"):\n",
    "                package_name = item[:-len(\".dist-info\")]\n",
    "                size_bytes = get_directory_size(full_path)\n",
    "                size_mb = size_bytes / (1024 * 1024)\n",
    "                if size_mb > 10:\n",
    "                    python_packages.append((package_name, size_mb))\n",
    "                break  # Only process first .dist-info found\n",
    "# Sort by size descending\n",
    "python_packages.sort(key=lambda x: x[1], reverse=True)\n",
    "python_packages"
   ]
  },
  {
   "cell_type": "code",
   "execution_count": 16,
   "id": "af6088e0-6563-4369-a895-3b608fa9c5f1",
   "metadata": {
    "execution": {
     "iopub.execute_input": "2025-05-17T21:52:26.390881Z",
     "iopub.status.busy": "2025-05-17T21:52:26.390613Z",
     "iopub.status.idle": "2025-05-17T21:52:26.798904Z",
     "shell.execute_reply": "2025-05-17T21:52:26.798421Z",
     "shell.execute_reply.started": "2025-05-17T21:52:26.390861Z"
    }
   },
   "outputs": [
    {
     "data": {
      "text/plain": [
       "117841920"
      ]
     },
     "execution_count": 16,
     "metadata": {},
     "output_type": "execute_result"
    }
   ],
   "source": [
    "jupyterlab_size = get_directory_size(f\"{wordslab_home}/jupyterlab\")\n",
    "jupyterlab_size"
   ]
  },
  {
   "cell_type": "code",
   "execution_count": 17,
   "id": "704aa847-f0b0-4126-98da-48519ccad8f2",
   "metadata": {
    "execution": {
     "iopub.execute_input": "2025-05-17T21:52:59.262377Z",
     "iopub.status.busy": "2025-05-17T21:52:59.262115Z",
     "iopub.status.idle": "2025-05-17T21:52:59.551776Z",
     "shell.execute_reply": "2025-05-17T21:52:59.551041Z",
     "shell.execute_reply.started": "2025-05-17T21:52:59.262359Z"
    }
   },
   "outputs": [
    {
     "data": {
      "text/plain": [
       "413532160"
      ]
     },
     "execution_count": 17,
     "metadata": {},
     "output_type": "execute_result"
    }
   ],
   "source": [
    "codeserver_size = get_directory_size(f\"{wordslab_home}/code-server\")\n",
    "codeserver_size"
   ]
  },
  {
   "cell_type": "code",
   "execution_count": 18,
   "id": "55fd5662-c4d0-440e-a87b-d5d702f0aa3c",
   "metadata": {
    "execution": {
     "iopub.execute_input": "2025-05-17T21:53:17.597820Z",
     "iopub.status.busy": "2025-05-17T21:53:17.597565Z",
     "iopub.status.idle": "2025-05-17T21:53:17.618088Z",
     "shell.execute_reply": "2025-05-17T21:53:17.617237Z",
     "shell.execute_reply.started": "2025-05-17T21:53:17.597806Z"
    }
   },
   "outputs": [
    {
     "data": {
      "text/plain": [
       "3365883904"
      ]
     },
     "execution_count": 18,
     "metadata": {},
     "output_type": "execute_result"
    }
   ],
   "source": [
    "ollama_size = get_directory_size(f\"{wordslab_home}/ollama\")\n",
    "ollama_size"
   ]
  },
  {
   "cell_type": "code",
   "execution_count": 20,
   "id": "ea1c6bec-af9a-48e8-b7ed-0244b99a00e3",
   "metadata": {
    "execution": {
     "iopub.execute_input": "2025-05-17T21:53:57.211687Z",
     "iopub.status.busy": "2025-05-17T21:53:57.211100Z",
     "iopub.status.idle": "2025-05-17T21:53:58.318943Z",
     "shell.execute_reply": "2025-05-17T21:53:58.318342Z",
     "shell.execute_reply.started": "2025-05-17T21:53:57.211667Z"
    }
   },
   "outputs": [
    {
     "data": {
      "text/plain": [
       "686034944"
      ]
     },
     "execution_count": 20,
     "metadata": {},
     "output_type": "execute_result"
    }
   ],
   "source": [
    "openwebui_size = get_directory_size(f\"{wordslab_home}/open-webui\")\n",
    "openwebui_size"
   ]
  },
  {
   "cell_type": "code",
   "execution_count": 21,
   "id": "40a77d84-a128-4f2f-ad02-8680c4d68051",
   "metadata": {
    "execution": {
     "iopub.execute_input": "2025-05-17T21:56:15.638272Z",
     "iopub.status.busy": "2025-05-17T21:56:15.637291Z",
     "iopub.status.idle": "2025-05-17T21:56:15.661022Z",
     "shell.execute_reply": "2025-05-17T21:56:15.660017Z",
     "shell.execute_reply.started": "2025-05-17T21:56:15.638252Z"
    }
   },
   "outputs": [
    {
     "data": {
      "text/plain": [
       "180224"
      ]
     },
     "execution_count": 21,
     "metadata": {},
     "output_type": "execute_result"
    }
   ],
   "source": [
    "jupyterlab_data_size = get_directory_size(f\"{wordslab_workspace}/.jupyter\")\n",
    "jupyterlab_data_size"
   ]
  },
  {
   "cell_type": "code",
   "execution_count": 25,
   "id": "466abf73-b3e1-477f-b76f-fb457732393d",
   "metadata": {
    "execution": {
     "iopub.execute_input": "2025-05-17T21:58:29.370549Z",
     "iopub.status.busy": "2025-05-17T21:58:29.370274Z",
     "iopub.status.idle": "2025-05-17T21:58:29.475030Z",
     "shell.execute_reply": "2025-05-17T21:58:29.474331Z",
     "shell.execute_reply.started": "2025-05-17T21:58:29.370532Z"
    }
   },
   "outputs": [
    {
     "data": {
      "text/plain": [
       "318582784"
      ]
     },
     "execution_count": 25,
     "metadata": {},
     "output_type": "execute_result"
    }
   ],
   "source": [
    "codeserver_data_size = get_directory_size(f\"{wordslab_workspace}/.codeserver\")\n",
    "codeserver_data_size"
   ]
  },
  {
   "cell_type": "code",
   "execution_count": 23,
   "id": "bbada007-db81-47cb-962a-f88e10816805",
   "metadata": {
    "execution": {
     "iopub.execute_input": "2025-05-17T21:58:18.412224Z",
     "iopub.status.busy": "2025-05-17T21:58:18.411350Z",
     "iopub.status.idle": "2025-05-17T21:58:18.433990Z",
     "shell.execute_reply": "2025-05-17T21:58:18.432880Z",
     "shell.execute_reply.started": "2025-05-17T21:58:18.412207Z"
    }
   },
   "outputs": [
    {
     "data": {
      "text/plain": [
       "434176"
      ]
     },
     "execution_count": 23,
     "metadata": {},
     "output_type": "execute_result"
    }
   ],
   "source": [
    "openwebui_data_size = get_directory_size(f\"{wordslab_workspace}/.openwebui\")\n",
    "openwebui_data_size"
   ]
  },
  {
   "cell_type": "code",
   "execution_count": 29,
   "id": "5f521808-0270-41e9-a6f8-b76d04725093",
   "metadata": {
    "execution": {
     "iopub.execute_input": "2025-05-17T22:08:44.616308Z",
     "iopub.status.busy": "2025-05-17T22:08:44.615946Z",
     "iopub.status.idle": "2025-05-17T22:08:44.742403Z",
     "shell.execute_reply": "2025-05-17T22:08:44.741717Z",
     "shell.execute_reply.started": "2025-05-17T22:08:44.616287Z"
    }
   },
   "outputs": [
    {
     "data": {
      "text/plain": [
       "[('wordslab-notebooks', 231.5859375),\n",
       " ('wordslab-notebooks-tutorials', 197.6953125)]"
      ]
     },
     "execution_count": 29,
     "metadata": {},
     "output_type": "execute_result"
    }
   ],
   "source": [
    "workspace_projects = []\n",
    "project_dirs = [\n",
    "    name for name in os.listdir(wordslab_workspace)\n",
    "    if not name.startswith('.') and os.path.isdir(os.path.join(wordslab_workspace, name))\n",
    "]\n",
    "for project_dir in project_dirs:\n",
    "    size_bytes = get_directory_size(os.path.join(wordslab_workspace, project_dir))\n",
    "    size_mb = size_bytes / (1024 * 1024)\n",
    "    if size_mb > 10:\n",
    "        workspace_projects.append((project_dir, size_mb))\n",
    "# Sort by size descending\n",
    "workspace_projects.sort(key=lambda x: x[1], reverse=True)\n",
    "workspace_projects"
   ]
  },
  {
   "cell_type": "code",
   "execution_count": 5,
   "id": "750643c3-3003-4f9e-8efa-11fcf00e8065",
   "metadata": {
    "execution": {
     "iopub.execute_input": "2025-05-18T12:38:27.520224Z",
     "iopub.status.busy": "2025-05-18T12:38:27.519871Z",
     "iopub.status.idle": "2025-05-18T12:38:27.528185Z",
     "shell.execute_reply": "2025-05-18T12:38:27.527429Z",
     "shell.execute_reply.started": "2025-05-18T12:38:27.520201Z"
    }
   },
   "outputs": [
    {
     "data": {
      "text/plain": [
       "[Model(model='nomic-embed-text:latest', modified_at=datetime.datetime(2025, 5, 17, 17, 31, 3, 636407, tzinfo=TzInfo(+02:00)), digest='0a109f422b47e3a30ba2b10eca18548e944e8a23073ee3f3e947efcf3c45e59f', size=274302450, details=ModelDetails(parent_model='', format='gguf', family='nomic-bert', families=['nomic-bert'], parameter_size='137M', quantization_level='F16')),\n",
       " Model(model='qwen2.5-coder:1.5b-base', modified_at=datetime.datetime(2025, 5, 17, 17, 30, 54, 646626, tzinfo=TzInfo(+02:00)), digest='02e0f2817a890a6de385d534465c04c5d0980abddc83615c09e79cee2c094446', size=986060385, details=ModelDetails(parent_model='', format='gguf', family='qwen2', families=['qwen2'], parameter_size='1.5B', quantization_level='Q4_K_M')),\n",
       " Model(model='gemma3:4b', modified_at=datetime.datetime(2025, 5, 17, 17, 30, 37, 67247, tzinfo=TzInfo(+02:00)), digest='a2af6cc3eb7fa8be8504abaf9b04e88f17a119ec3f04a3addf55f92841195f5a', size=3338801804, details=ModelDetails(parent_model='', format='gguf', family='gemma3', families=['gemma3'], parameter_size='4.3B', quantization_level='Q4_K_M'))]"
      ]
     },
     "execution_count": 5,
     "metadata": {},
     "output_type": "execute_result"
    }
   ],
   "source": [
    "import ollama\n",
    "models = ollama.list().models\n",
    "models"
   ]
  },
  {
   "cell_type": "code",
   "execution_count": 10,
   "id": "ab7e7960-09e6-407e-9507-90704e6e2527",
   "metadata": {
    "execution": {
     "iopub.execute_input": "2025-05-18T12:42:03.926720Z",
     "iopub.status.busy": "2025-05-18T12:42:03.926436Z",
     "iopub.status.idle": "2025-05-18T12:42:03.931103Z",
     "shell.execute_reply": "2025-05-18T12:42:03.930343Z",
     "shell.execute_reply.started": "2025-05-18T12:42:03.926704Z"
    }
   },
   "outputs": [
    {
     "name": "stdout",
     "output_type": "stream",
     "text": [
      "gemma3:4b Q4_K_M - 4.3B params - 3184.1 GB\n",
      "qwen2.5-coder:1.5b-base Q4_K_M - 1.5B params - 940.4 GB\n",
      "nomic-embed-text:latest F16 - 137M params - 261.6 GB\n"
     ]
    }
   ],
   "source": [
    "models.sort(key=lambda m: m.size, reverse=True)\n",
    "for model in models:\n",
    "    print(f\"{model.model} {model.details.quantization_level} - {model.details.parameter_size} params - {model.size/1024/1024:.1f} GB\")"
   ]
  },
  {
   "cell_type": "code",
   "execution_count": 23,
   "id": "6b6d216e-11a6-4a5b-aac8-e8b9748c3888",
   "metadata": {
    "execution": {
     "iopub.execute_input": "2025-05-18T13:52:54.035018Z",
     "iopub.status.busy": "2025-05-18T13:52:54.034572Z",
     "iopub.status.idle": "2025-05-18T13:52:54.039611Z",
     "shell.execute_reply": "2025-05-18T13:52:54.038966Z",
     "shell.execute_reply.started": "2025-05-18T13:52:54.035002Z"
    }
   },
   "outputs": [
    {
     "data": {
      "text/plain": [
       "PosixPath('/home/models/huggingface')"
      ]
     },
     "execution_count": 23,
     "metadata": {},
     "output_type": "execute_result"
    }
   ],
   "source": [
    "from pathlib import Path\n",
    "import os\n",
    "\n",
    "hf_home = Path(os.getenv(\"HF_HOME\"))\n",
    "hf_home"
   ]
  },
  {
   "cell_type": "code",
   "execution_count": 47,
   "id": "a13a32cd-0aa6-465e-9abc-84fd7b2e092d",
   "metadata": {
    "execution": {
     "iopub.execute_input": "2025-05-18T14:18:02.681195Z",
     "iopub.status.busy": "2025-05-18T14:18:02.680782Z",
     "iopub.status.idle": "2025-05-18T14:18:02.689990Z",
     "shell.execute_reply": "2025-05-18T14:18:02.689552Z",
     "shell.execute_reply.started": "2025-05-18T14:18:02.681180Z"
    }
   },
   "outputs": [
    {
     "data": {
      "text/plain": [
       "[('Qwen/Qwen3-1.7B',\n",
       "  4079501312,\n",
       "  PosixPath('/home/models/huggingface/hub/models--Qwen--Qwen3-1.7B')),\n",
       " ('Qwen/Qwen3-4B-AWQ',\n",
       "  2681970688,\n",
       "  PosixPath('/home/models/huggingface/hub/models--Qwen--Qwen3-4B-AWQ')),\n",
       " ('Models cache', 6187704320, PosixPath('/home/models/huggingface'))]"
      ]
     },
     "execution_count": 47,
     "metadata": {},
     "output_type": "execute_result"
    }
   ],
   "source": [
    "import re\n",
    "\n",
    "def find_hf_models(hf_home):\n",
    "    hf_home_size = get_directory_size(hf_home)\n",
    "    if hf_home_size == 0:\n",
    "        return None\n",
    "    \n",
    "    cache_dir = hf_home / \"hub\"\n",
    "    model_dirs = []\n",
    "    hf_models_size = 0\n",
    "    pattern = re.compile(r\"models--([^/\\\\]+)--([^/\\\\]+)\")\n",
    "    for path in cache_dir.iterdir():\n",
    "        if path.is_dir():\n",
    "            match = pattern.fullmatch(path.name)\n",
    "            if match:\n",
    "                org, model = match.groups()\n",
    "                model_id = f\"{org}/{model}\"\n",
    "                model_size = get_directory_size(path)\n",
    "                hf_models_size += model_size\n",
    "                model_dirs.append((model_id, model_size, path.resolve()))\n",
    "\n",
    "    model_dirs.sort(key=lambda x: x[1], reverse=True)\n",
    "    model_dirs.append((\"Models cache\", hf_home_size-hf_models_size, hf_home))\n",
    "    return model_dirs\n",
    "\n",
    "hf_hub_model_dirs = find_hf_models(hf_home)\n",
    "hf_hub_model_dirs"
   ]
  },
  {
   "cell_type": "code",
   "execution_count": null,
   "id": "321fb1bc-d9aa-407f-812f-95903a21b2a6",
   "metadata": {},
   "outputs": [],
   "source": []
  }
 ],
 "metadata": {
  "kernelspec": {
   "display_name": "dashboard",
   "language": "python",
   "name": "dashboard"
  },
  "language_info": {
   "codemirror_mode": {
    "name": "ipython",
    "version": 3
   },
   "file_extension": ".py",
   "mimetype": "text/x-python",
   "name": "python",
   "nbconvert_exporter": "python",
   "pygments_lexer": "ipython3",
   "version": "3.12.10"
  }
 },
 "nbformat": 4,
 "nbformat_minor": 5
}
