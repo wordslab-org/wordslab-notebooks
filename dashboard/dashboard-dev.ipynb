{
 "cells": [
  {
   "cell_type": "code",
   "execution_count": 1,
   "id": "e5740a11-acd7-4f1d-b044-cca849912fd6",
   "metadata": {
    "execution": {
     "iopub.execute_input": "2025-05-04T13:07:28.861428Z",
     "iopub.status.busy": "2025-05-04T13:07:28.860962Z",
     "iopub.status.idle": "2025-05-04T13:07:28.880315Z",
     "shell.execute_reply": "2025-05-04T13:07:28.879736Z",
     "shell.execute_reply.started": "2025-05-04T13:07:28.861414Z"
    }
   },
   "outputs": [
    {
     "data": {
      "text/plain": [
       "'WindowsSubsystemForLinux'"
      ]
     },
     "execution_count": 1,
     "metadata": {},
     "output_type": "execute_result"
    }
   ],
   "source": [
    "import os\n",
    "import subprocess\n",
    "from pathlib import Path\n",
    "\n",
    "platform = os.getenv('WORDSLAB_PLATFORM', 'UnknownLinux')\n",
    "platform"
   ]
  },
  {
   "cell_type": "code",
   "execution_count": 2,
   "id": "0ece60b2-ab69-458f-91a5-924403ea258a",
   "metadata": {
    "execution": {
     "iopub.execute_input": "2025-05-04T13:07:30.349251Z",
     "iopub.status.busy": "2025-05-04T13:07:30.349075Z",
     "iopub.status.idle": "2025-05-04T13:07:30.353950Z",
     "shell.execute_reply": "2025-05-04T13:07:30.353524Z",
     "shell.execute_reply.started": "2025-05-04T13:07:30.349240Z"
    }
   },
   "outputs": [
    {
     "data": {
      "text/plain": [
       "'Ubuntu 24.04.2 LTS'"
      ]
     },
     "execution_count": 2,
     "metadata": {},
     "output_type": "execute_result"
    }
   ],
   "source": [
    "# Get Ubuntu version\n",
    "try:\n",
    "    # Try reading from /etc/os-release first\n",
    "    with open('/etc/os-release', 'r') as f:\n",
    "        for line in f:\n",
    "            if line.startswith('PRETTY_NAME='):\n",
    "                os_version = line.split('=')[1].strip().strip('\"')\n",
    "                break\n",
    "except:\n",
    "    try:\n",
    "        # Fallback to reading from /etc/issue\n",
    "        with open('/etc/issue', 'r') as f:\n",
    "            os_version = f.read().strip().split('\\\\')[0].strip()\n",
    "    except:\n",
    "        os_version = \"Unknown\"\n",
    "\n",
    "os_version"
   ]
  },
  {
   "cell_type": "code",
   "execution_count": 3,
   "id": "eec8fa41-dbec-4023-81aa-0dab72db77fd",
   "metadata": {
    "execution": {
     "iopub.execute_input": "2025-05-04T13:07:32.973449Z",
     "iopub.status.busy": "2025-05-04T13:07:32.973053Z",
     "iopub.status.idle": "2025-05-04T13:07:32.980558Z",
     "shell.execute_reply": "2025-05-04T13:07:32.979956Z",
     "shell.execute_reply.started": "2025-05-04T13:07:32.973420Z"
    }
   },
   "outputs": [
    {
     "data": {
      "text/plain": [
       "'2025-04'"
      ]
     },
     "execution_count": 3,
     "metadata": {},
     "output_type": "execute_result"
    }
   ],
   "source": [
    "wordslab_version = os.getenv('WORDSLAB_VERSION', 'Unknown')\n",
    "wordslab_version"
   ]
  },
  {
   "cell_type": "code",
   "execution_count": 6,
   "id": "3b3998cb-8d4f-491f-986d-45b67a2c63ff",
   "metadata": {
    "execution": {
     "iopub.execute_input": "2025-05-04T13:08:41.541267Z",
     "iopub.status.busy": "2025-05-04T13:08:41.540973Z",
     "iopub.status.idle": "2025-05-04T13:08:41.629916Z",
     "shell.execute_reply": "2025-05-04T13:08:41.629537Z",
     "shell.execute_reply.started": "2025-05-04T13:08:41.541252Z"
    }
   },
   "outputs": [
    {
     "data": {
      "text/plain": [
       "'12.9'"
      ]
     },
     "execution_count": 6,
     "metadata": {},
     "output_type": "execute_result"
    }
   ],
   "source": [
    "from importlib.metadata import version\n",
    "import pynvml\n",
    "\n",
    "cpu_only_file = Path(os.getenv('WORDSLAB_WORKSPACE', '')) / '.cpu-only'\n",
    "if not cpu_only_file.exists():\n",
    "    try:\n",
    "        pynvml.nvmlInit()\n",
    "        handle = pynvml.nvmlDeviceGetHandleByIndex(0)\n",
    "        driver_cuda_version = pynvml.nvmlSystemGetCudaDriverVersion_v2()\n",
    "        cuda_version = f\"{driver_cuda_version//1000}.{(driver_cuda_version%1000)//10}\"\n",
    "        pynvml.nvmlShutdown()\n",
    "    except:\n",
    "        pass\n",
    "\n",
    "cuda_version"
   ]
  },
  {
   "cell_type": "markdown",
   "id": "ba1bf023-cec1-4716-a7ad-56fef43eb4d4",
   "metadata": {},
   "source": [
    "### Get URL - Windows Subsystem for Linux\n",
    "\n",
    "```\n",
    "- https if the file $WORDSLAB_WORKSPACE/.secrets/certificate.pem exists, http otherwise\n",
    "\n",
    "- windows machine IP address from the file $WORDSLAB_HOME/.WORDSLAB_WINDOWS_IP if it exists, else 127.0.0.1\n",
    "\n",
    "- environment variables for ports\n",
    "\n",
    "JUPYTERLAB_PORT=8880\n",
    "VSCODE_PORT=8881\n",
    "OPENWEBUI_PORT=8882\n",
    "\n",
    "USER_APP1_PORT=8883\n",
    "USER_APP2_PORT=8884\n",
    "USER_APP3_PORT=8885\n",
    "USER_APP4_PORT=8886\n",
    "USER_APP5_PORT=8887\n",
    "\n",
    "DASHBOARD_PORT=8888\n",
    "```"
   ]
  },
  {
   "cell_type": "markdown",
   "id": "6916e046-92a7-4127-9d7d-699c834756b5",
   "metadata": {
    "execution": {
     "iopub.execute_input": "2025-01-28T20:44:30.129566Z",
     "iopub.status.busy": "2025-01-28T20:44:30.128534Z",
     "iopub.status.idle": "2025-01-28T20:44:30.139607Z",
     "shell.execute_reply": "2025-01-28T20:44:30.138498Z",
     "shell.execute_reply.started": "2025-01-28T20:44:30.129494Z"
    }
   },
   "source": [
    "### Get URL - Jarvislabs\n",
    "\n",
    "```\n",
    "MACHINE_NAME=test-install2 (UI)\n",
    "MACHINE_ID=261560 (API)\n",
    "\n",
    "HOSTNAME=98708c9cbe44 (?)\n",
    "\n",
    "reserved ports: 6006,7007\n",
    "\n",
    "Native JUPYTERLAB\n",
    "internal port: 8889\n",
    "https://98708c261555.notebooks.jarvislabs.net/lab\n",
    "\n",
    "ENDPOINTS\n",
    "\n",
    "https://jarvislabs.ai/settings\n",
    "API Tokens\n",
    "[copy]\n",
    "\n",
    "pip install git+https://github.com/jarvislabsai/jlclient.git\n",
    "\n",
    "from jlclient import jarvisclient\n",
    "from jlclient.jarvisclient import *\n",
    "jarvisclient.token = 's7-bNTN1Jhh5XPSxnuVp74ypB8Fbi98jUX3rPRI_zoM'\n",
    "\n",
    "import os\n",
    "\n",
    "machine_id = os.getenv('MACHINE_ID')\n",
    "instance = User.get_instance(machine_id)\n",
    "instance.endpoints\n",
    "\n",
    "['https://1685202829581.notebooks.jarvislabs.net',\n",
    " 'https://1685202829582.notebooks.jarvislabs.net',\n",
    " 'https://1685202829583.notebooks.jarvislabs.net',\n",
    " 'https://1685202829584.notebooks.jarvislabs.net',\n",
    " 'https://1685202829585.notebooks.jarvislabs.net',\n",
    " 'https://1685202829586.notebooks.jarvislabs.net',\n",
    " 'https://1685202829587.notebooks.jarvislabs.net',\n",
    " 'https://1685202829588.notebooks.jarvislabs.net',\n",
    " 'https://1685202829589.notebooks.jarvislabs.net',\n",
    " 'https://16852028295810.notebooks.jarvislabs.net']\n",
    "```"
   ]
  },
  {
   "cell_type": "markdown",
   "id": "2737286a-c8ed-4ec0-8689-a9864ed7ae6d",
   "metadata": {},
   "source": [
    "### Get URL - Runpod\n",
    "\n",
    "```\n",
    "RUNPOD_POD_ID=ebkhet9vq5flt7 (UI + used for URLs)\n",
    "\n",
    "RUNPOD_PUBLIC_IP=69.30.85.49\n",
    "RUNPOD_TCP_PORT_22=22047\n",
    "\n",
    "RUNPOD_DC_ID=CA-MTL-1\n",
    "RUNPOD_POD_HOSTNAME=ebkhet9vq5flt7-644112e4\n",
    "\n",
    "HOSTNAME=5936ba7c007d (?)\n",
    "\n",
    "Native JUPYTERLAB\n",
    "internal port: 8888\n",
    "https://ebkhet9vq5flt7-8888.proxy.runpod.net/lab\n",
    "\n",
    "ENDPOINTS\n",
    "\n",
    "https://$(RUNPOD_POD_ID)-8880.proxy.runpod.net/\n",
    "...\n",
    "https://$(RUNPOD_POD_ID)-8888.proxy.runpod.net/\n",
    "```"
   ]
  },
  {
   "cell_type": "markdown",
   "id": "57da3144-5a8a-48ff-a8ce-02b479d69cc3",
   "metadata": {},
   "source": [
    "### Get URL - Vast.ai\n",
    "\n",
    "```\n",
    "CONTAINER_ID=16855978 (UI)\n",
    "\n",
    "HOSTNAME=9e254447c27d\n",
    "\n",
    "PUBLIC_IPADDR=142.115.158.140\n",
    "VAST_TCP_PORT_22=42790\n",
    "VAST_TCP_PORT_8080=42702\n",
    "\n",
    "Native JUPYTERLAB\n",
    "internal port: 8080\n",
    "https://142.115.158.140:42702/tree\n",
    "\n",
    "Open ports\n",
    "\n",
    "VAST_TCP_PORT_8880=42777\n",
    "VAST_TCP_PORT_8881=42791\n",
    "VAST_TCP_PORT_8882=42623\n",
    "VAST_TCP_PORT_8883=42779\n",
    "VAST_TCP_PORT_8884=42668\n",
    "VAST_TCP_PORT_8885=42663\n",
    "VAST_TCP_PORT_8886=42729\n",
    "VAST_TCP_PORT_8887=42736\n",
    "\n",
    "ENDPOINTS\n",
    "\n",
    "https://$(PUBLIC_IPADDR):$(VAST_TCP_PORT_8880)\n",
    "```"
   ]
  },
  {
   "cell_type": "code",
   "execution_count": 7,
   "id": "72f75fd3-656d-48ba-ba12-d3e2ced8c505",
   "metadata": {
    "execution": {
     "iopub.execute_input": "2025-05-04T13:08:51.735410Z",
     "iopub.status.busy": "2025-05-04T13:08:51.734995Z",
     "iopub.status.idle": "2025-05-04T13:08:51.738737Z",
     "shell.execute_reply": "2025-05-04T13:08:51.738415Z",
     "shell.execute_reply.started": "2025-05-04T13:08:51.735397Z"
    }
   },
   "outputs": [
    {
     "data": {
      "text/plain": [
       "['8880', '8881', '8882', '8883', '8884', '8885', '8886', '8887', '8888']"
      ]
     },
     "execution_count": 7,
     "metadata": {},
     "output_type": "execute_result"
    }
   ],
   "source": [
    "import os\n",
    "\n",
    "# Get wordslab container ports\n",
    "jupyterlab_port = os.getenv(\"JUPYTERLAB_PORT\")\n",
    "vscode_port = os.getenv(\"VSCODE_PORT\")\n",
    "openwebui_port = os.getenv(\"OPENWEBUI_PORT\")\n",
    "user_app1_port = os.getenv(\"USER_APP1_PORT\")\n",
    "user_app2_port = os.getenv(\"USER_APP2_PORT\")\n",
    "user_app3_port = os.getenv(\"USER_APP3_PORT\")\n",
    "user_app4_port = os.getenv(\"USER_APP4_PORT\")\n",
    "user_app5_port = os.getenv(\"USER_APP5_PORT\")\n",
    "dahsboard_port = os.getenv(\"DASHBOARD_PORT\")\n",
    "wordslab_ports = [jupyterlab_port, vscode_port, openwebui_port, user_app1_port, user_app2_port, user_app3_port, user_app4_port, user_app5_port, dahsboard_port]\n",
    "\n",
    "wordslab_ports"
   ]
  },
  {
   "cell_type": "code",
   "execution_count": 8,
   "id": "7b9cbcde-9e00-4a1f-90a3-2d427cf2edad",
   "metadata": {
    "execution": {
     "iopub.execute_input": "2025-05-04T13:08:56.279632Z",
     "iopub.status.busy": "2025-05-04T13:08:56.279331Z",
     "iopub.status.idle": "2025-05-04T13:08:56.282818Z",
     "shell.execute_reply": "2025-05-04T13:08:56.282399Z",
     "shell.execute_reply.started": "2025-05-04T13:08:56.279623Z"
    }
   },
   "outputs": [
    {
     "data": {
      "text/plain": [
       "'https://'"
      ]
     },
     "execution_count": 8,
     "metadata": {},
     "output_type": "execute_result"
    }
   ],
   "source": [
    "from pathlib import Path\n",
    "\n",
    "# Check if apps are exposed as https\n",
    "workspace_path = Path(os.getenv(\"WORDSLAB_WORKSPACE\"))\n",
    "use_https = (workspace_path / \".secrets/certificate.pem\").exists()\n",
    "url_scheme = \"https://\" if use_https else \"http://\"\n",
    "\n",
    "url_scheme"
   ]
  },
  {
   "cell_type": "markdown",
   "id": "ec5720c2-137f-4203-887d-0b740526c0c4",
   "metadata": {},
   "source": [
    "> pip install git+https://github.com/jarvislabsai/jlclient.git"
   ]
  },
  {
   "cell_type": "code",
   "execution_count": 9,
   "id": "00f23db4-3adb-4b5e-848a-b5c5c56fe23c",
   "metadata": {
    "execution": {
     "iopub.execute_input": "2025-05-04T13:09:20.837684Z",
     "iopub.status.busy": "2025-05-04T13:09:20.837438Z",
     "iopub.status.idle": "2025-05-04T13:09:20.853205Z",
     "shell.execute_reply": "2025-05-04T13:09:20.852773Z",
     "shell.execute_reply.started": "2025-05-04T13:09:20.837671Z"
    }
   },
   "outputs": [
    {
     "data": {
      "text/plain": [
       "['https://192.168.1.197:8880',\n",
       " 'https://192.168.1.197:8881',\n",
       " 'https://192.168.1.197:8882',\n",
       " 'https://192.168.1.197:8883',\n",
       " 'https://192.168.1.197:8884',\n",
       " 'https://192.168.1.197:8885',\n",
       " 'https://192.168.1.197:8886',\n",
       " 'https://192.168.1.197:8887',\n",
       " 'https://192.168.1.197:8888']"
      ]
     },
     "execution_count": 9,
     "metadata": {},
     "output_type": "execute_result"
    }
   ],
   "source": [
    "# Get platform and compute wordslab apps endpoints\n",
    "platform = os.getenv(\"WORDSLAB_PLATFORM\")\n",
    "\n",
    "if platform==\"WindowsSubsystemForLinux\":\n",
    "    home_path = Path(os.getenv(\"WORDSLAB_HOME\"))\n",
    "    windows_ip_address_file = home_path / \".WORDSLAB_WINDOWS_IP\"\n",
    "    if windows_ip_address_file.exists():\n",
    "        ip_address = windows_ip_address_file.read_text().strip()\n",
    "    else:\n",
    "        ip_address = \"127.0.0.1\"\n",
    "    endpoints = [f\"{url_scheme}{ip_address}:{port}\" for port in wordslab_ports]\n",
    "\n",
    "elif platform==\"Jarvislabs.ai\":\n",
    "    from jlclient import jarvisclient\n",
    "    from jlclient.jarvisclient import *\n",
    "    jarvislabs_api_token_file = workspace_path / \".secrets/api-token\"\n",
    "    jarvislabs_api_token = jarvislabs_api_token_file.read_text().strip()\n",
    "    jarvisclient.token = jarvislabs_api_token\n",
    "    machine_id = os.getenv(\"MACHINE_ID\")   \n",
    "    instance = User.get_instance(machine_id)\n",
    "    endpoints = instance.endpoints\n",
    "\n",
    "elif platform==\"Runpod.io\": \n",
    "    pod_id = os.getenv(\"RUNPOD_POD_ID\") \n",
    "    endpoints = [f\"{url_scheme}{pod_id}-{port}.proxy.runpod.net\" for port in wordslab_ports]\n",
    "\n",
    "elif platform==\"Vast.ai\": \n",
    "    public_ip = os.getenv(\"PUBLIC_IPADDR\")\n",
    "    public_ports = [os.getenv(f\"VAST_TCP_PORT_{port}\") for port in wordslab_ports]\n",
    "    endpoints = [f\"{url_scheme}{public_ip}:{public_port}\" for public_port in public_ports]\n",
    "\n",
    "elif platform==\"UnknownLinux\":\n",
    "    if use_https:\n",
    "        s = socket.socket(socket.AF_INET, socket.SOCK_DGRAM)\n",
    "        s.connect((\"8.8.8.8\", 80))\n",
    "        ip_address = s.getsockname()[0]\n",
    "        s.close()\n",
    "    else:\n",
    "        ip_address = \"127.0.0.1\"\n",
    "    endpoints = [f\"{url_scheme}{ip_address}:{port}\" for port in wordslab_ports]\n",
    "\n",
    "endpoints"
   ]
  },
  {
   "cell_type": "code",
   "execution_count": 10,
   "id": "b7984907-2833-41f4-8212-f91dcb594c8f",
   "metadata": {
    "execution": {
     "iopub.execute_input": "2025-05-04T13:09:24.746527Z",
     "iopub.status.busy": "2025-05-04T13:09:24.746243Z",
     "iopub.status.idle": "2025-05-04T13:09:24.749704Z",
     "shell.execute_reply": "2025-05-04T13:09:24.749204Z",
     "shell.execute_reply.started": "2025-05-04T13:09:24.746511Z"
    }
   },
   "outputs": [
    {
     "name": "stdout",
     "output_type": "stream",
     "text": [
      "export JUPYTERLAB_URL=https://192.168.1.197:8880\n",
      "export VSCODE_URL=https://192.168.1.197:8881\n",
      "export OPENWEBUI_URL=https://192.168.1.197:8882\n",
      "export USER_APP1_URL=https://192.168.1.197:8883\n",
      "export USER_APP2_URL=https://192.168.1.197:8884\n",
      "export USER_APP3_URL=https://192.168.1.197:8885\n",
      "export USER_APP4_URL=https://192.168.1.197:8886\n",
      "export USER_APP5_URL=https://192.168.1.197:8887\n",
      "export DASHBOARD_URL=https://192.168.1.197:8888\n"
     ]
    }
   ],
   "source": [
    "print(f\"export JUPYTERLAB_URL={endpoints[0]}\")\n",
    "print(f\"export VSCODE_URL={endpoints[1]}\")\n",
    "print(f\"export OPENWEBUI_URL={endpoints[2]}\")\n",
    "print(f\"export USER_APP1_URL={endpoints[3]}\")\n",
    "print(f\"export USER_APP2_URL={endpoints[4]}\")\n",
    "print(f\"export USER_APP3_URL={endpoints[5]}\")\n",
    "print(f\"export USER_APP4_URL={endpoints[6]}\")\n",
    "print(f\"export USER_APP5_URL={endpoints[7]}\")\n",
    "print(f\"export DASHBOARD_URL={endpoints[8]}\")"
   ]
  },
  {
   "cell_type": "code",
   "execution_count": 11,
   "id": "244e5394-bcfb-4ef5-b533-85a0c568ce44",
   "metadata": {
    "execution": {
     "iopub.execute_input": "2025-05-04T13:09:29.908514Z",
     "iopub.status.busy": "2025-05-04T13:09:29.908214Z",
     "iopub.status.idle": "2025-05-04T13:09:29.911713Z",
     "shell.execute_reply": "2025-05-04T13:09:29.911364Z",
     "shell.execute_reply.started": "2025-05-04T13:09:29.908504Z"
    }
   },
   "outputs": [],
   "source": [
    "import psutil\n",
    "import subprocess\n",
    "from dataclasses import dataclass\n",
    "\n",
    "@dataclass \n",
    "class CPUMetrics:\n",
    "    cpu_model: str\n",
    "    cpu_cores: int\n",
    "    cpu_usage: float\n",
    "    ram_total: float  # GB\n",
    "    ram_used: float   # GB\n",
    "\n",
    "def get_cpu_metrics() -> CPUMetrics:\n",
    "    # Get CPU model\n",
    "    try:\n",
    "        with open('/proc/cpuinfo', 'r') as f:\n",
    "            for line in f:\n",
    "                if line.startswith('model name'):\n",
    "                    cpu_model = line.split(':')[1].strip()\n",
    "                    break\n",
    "    except:\n",
    "        cpu_model = \"Unknown\"\n",
    "\n",
    "    cpu_frequency = int(round(psutil.cpu_freq().current, -2))\n",
    "    \n",
    "    # Get number of logical cores\n",
    "    cpu_cores = psutil.cpu_count(logical=True)\n",
    "    \n",
    "    # Get CPU usage percentage\n",
    "    cpu_usage = psutil.cpu_percent()\n",
    "    \n",
    "    # Get RAM info in GB\n",
    "    ram = psutil.virtual_memory()\n",
    "    ram_total = ram.total / (1024**3)  # Convert bytes to GB\n",
    "    ram_used = ram.used / (1024**3)    # Convert bytes to GB\n",
    "    \n",
    "    return CPUMetrics(\n",
    "        cpu_model=f\"{cpu_model} {cpu_frequency} MHz\",\n",
    "        cpu_cores=cpu_cores,\n",
    "        cpu_usage=cpu_usage,\n",
    "        ram_total=ram_total,\n",
    "        ram_used=ram_used\n",
    "    )"
   ]
  },
  {
   "cell_type": "code",
   "execution_count": 12,
   "id": "0092a07c-5d57-488e-bce7-20876c3005cf",
   "metadata": {
    "execution": {
     "iopub.execute_input": "2025-05-04T13:09:30.281130Z",
     "iopub.status.busy": "2025-05-04T13:09:30.280922Z",
     "iopub.status.idle": "2025-05-04T13:09:30.284607Z",
     "shell.execute_reply": "2025-05-04T13:09:30.284276Z",
     "shell.execute_reply.started": "2025-05-04T13:09:30.281119Z"
    }
   },
   "outputs": [
    {
     "data": {
      "text/plain": [
       "CPUMetrics(cpu_model='13th Gen Intel(R) Core(TM) i7-13700K 3400 MHz', cpu_cores=24, cpu_usage=2.7, ram_total=31.036624908447266, ram_used=4.351894378662109)"
      ]
     },
     "execution_count": 12,
     "metadata": {},
     "output_type": "execute_result"
    }
   ],
   "source": [
    "get_cpu_metrics()"
   ]
  },
  {
   "cell_type": "code",
   "execution_count": 13,
   "id": "d2a75431-1d78-49a8-a102-801c4d76b6e1",
   "metadata": {
    "execution": {
     "iopub.execute_input": "2025-05-04T13:09:37.884689Z",
     "iopub.status.busy": "2025-05-04T13:09:37.884543Z",
     "iopub.status.idle": "2025-05-04T13:09:37.902761Z",
     "shell.execute_reply": "2025-05-04T13:09:37.902228Z",
     "shell.execute_reply.started": "2025-05-04T13:09:37.884680Z"
    }
   },
   "outputs": [
    {
     "name": "stdout",
     "output_type": "stream",
     "text": [
      "GPUMetrics(gpu_model='NVIDIA GeForce RTX 4090', gpu_usage=68, vram_total=23.98828125, vram_used=6.340904235839844)\n"
     ]
    }
   ],
   "source": [
    "from dataclasses import dataclass\n",
    "import pynvml\n",
    "\n",
    "@dataclass\n",
    "class GPUMetrics:\n",
    "    gpu_model: str\n",
    "    gpu_usage: float  # percentage\n",
    "    vram_total: float # GB\n",
    "    vram_used: float  # GB\n",
    "\n",
    "def get_gpu_metrics(gpu_id=0):\n",
    "    pynvml.nvmlInit()\n",
    "    handle = pynvml.nvmlDeviceGetHandleByIndex(gpu_id)\n",
    "\n",
    "    gpu_model = pynvml.nvmlDeviceGetName(handle)\n",
    "    utilization = pynvml.nvmlDeviceGetUtilizationRates(handle)\n",
    "    gpu_usage = utilization.gpu\n",
    "    vram_info = pynvml.nvmlDeviceGetMemoryInfo(handle)\n",
    "    vram_total = vram_info.total / 1024**3  # Convert bytes to GB\n",
    "    vram_used = vram_info.used / 1024**3   # Convert bytes to GB\n",
    "\n",
    "    pynvml.nvmlShutdown()\n",
    "    \n",
    "    metrics = GPUMetrics(\n",
    "        gpu_model=gpu_model,\n",
    "        gpu_usage=gpu_usage,\n",
    "        vram_total=vram_total,\n",
    "        vram_used=vram_used\n",
    "    )\n",
    "\n",
    "    return metrics\n",
    "\n",
    "# Example usage:\n",
    "metrics = get_gpu_metrics()\n",
    "print(metrics)"
   ]
  },
  {
   "cell_type": "code",
   "execution_count": 14,
   "id": "d7453f32-858c-4542-bf75-7c6da9b06831",
   "metadata": {
    "execution": {
     "iopub.execute_input": "2025-05-04T13:09:39.956995Z",
     "iopub.status.busy": "2025-05-04T13:09:39.956770Z",
     "iopub.status.idle": "2025-05-04T13:09:39.959394Z",
     "shell.execute_reply": "2025-05-04T13:09:39.958880Z",
     "shell.execute_reply.started": "2025-05-04T13:09:39.956982Z"
    }
   },
   "outputs": [],
   "source": [
    "import os\n",
    "\n",
    "wordslab_home = os.getenv('WORDSLAB_HOME')\n",
    "wordslab_workspace = os.getenv('WORDSLAB_WORKSPACE')\n",
    "wordslab_models = os.getenv('WORDSLAB_MODELS')\n",
    "wordslab_paths = { \"/\", wordslab_home, wordslab_workspace, wordslab_models }"
   ]
  },
  {
   "cell_type": "code",
   "execution_count": 15,
   "id": "5745329b-2749-4cf3-97a1-3a11046a53af",
   "metadata": {
    "execution": {
     "iopub.execute_input": "2025-05-04T13:09:40.233112Z",
     "iopub.status.busy": "2025-05-04T13:09:40.232718Z",
     "iopub.status.idle": "2025-05-04T13:09:40.235678Z",
     "shell.execute_reply": "2025-05-04T13:09:40.235324Z",
     "shell.execute_reply.started": "2025-05-04T13:09:40.233098Z"
    }
   },
   "outputs": [
    {
     "data": {
      "text/plain": [
       "{'/', '/home', '/home/models', '/home/workspace'}"
      ]
     },
     "execution_count": 15,
     "metadata": {},
     "output_type": "execute_result"
    }
   ],
   "source": [
    "wordslab_paths"
   ]
  },
  {
   "cell_type": "code",
   "execution_count": 34,
   "id": "cd835180-78d1-4427-931b-f5b1927282fb",
   "metadata": {
    "execution": {
     "iopub.execute_input": "2025-05-04T13:39:48.352098Z",
     "iopub.status.busy": "2025-05-04T13:39:48.351825Z",
     "iopub.status.idle": "2025-05-04T13:39:48.354777Z",
     "shell.execute_reply": "2025-05-04T13:39:48.354289Z",
     "shell.execute_reply.started": "2025-05-04T13:39:48.352085Z"
    }
   },
   "outputs": [],
   "source": [
    "wordslab_paths_to_env_variable = { \"/\":\"LINUX\", wordslab_home:'WORDSLAB_HOME', wordslab_workspace:'WORDSLAB_WORKSPACE', wordslab_models:'WORDSLAB_MODELS'}"
   ]
  },
  {
   "cell_type": "code",
   "execution_count": 35,
   "id": "c896b9ab-0121-4e89-be5b-5c448e4ca218",
   "metadata": {
    "execution": {
     "iopub.execute_input": "2025-05-04T13:39:49.936258Z",
     "iopub.status.busy": "2025-05-04T13:39:49.936108Z",
     "iopub.status.idle": "2025-05-04T13:39:49.941237Z",
     "shell.execute_reply": "2025-05-04T13:39:49.938770Z",
     "shell.execute_reply.started": "2025-05-04T13:39:49.936248Z"
    }
   },
   "outputs": [
    {
     "data": {
      "text/plain": [
       "{'/': 'LINUX',\n",
       " '/home': 'WORDSLAB_HOME',\n",
       " '/home/workspace': 'WORDSLAB_WORKSPACE',\n",
       " '/home/models': 'WORDSLAB_MODELS'}"
      ]
     },
     "execution_count": 35,
     "metadata": {},
     "output_type": "execute_result"
    }
   ],
   "source": [
    "wordslab_paths_to_env_variable"
   ]
  },
  {
   "cell_type": "code",
   "execution_count": 16,
   "id": "64b2936b-7030-4d6d-b227-e74acae7cc60",
   "metadata": {
    "execution": {
     "iopub.execute_input": "2025-05-04T13:10:19.846867Z",
     "iopub.status.busy": "2025-05-04T13:10:19.846338Z",
     "iopub.status.idle": "2025-05-04T13:10:19.849852Z",
     "shell.execute_reply": "2025-05-04T13:10:19.849449Z",
     "shell.execute_reply.started": "2025-05-04T13:10:19.846854Z"
    }
   },
   "outputs": [],
   "source": [
    "import psutil\n",
    "mountpoints = {part.mountpoint:part.device for part in set(psutil.disk_partitions(all=True)) if part.fstype in {'ext4','xfs','fuse','overlay'} and not any(substring in part.mountpoint for substring in [\"/mnt/\", \"nvidia\", \".so\"])}"
   ]
  },
  {
   "cell_type": "code",
   "execution_count": 17,
   "id": "ff07beec-30bb-4443-b853-2de0b0751f82",
   "metadata": {
    "execution": {
     "iopub.execute_input": "2025-05-04T13:10:20.198791Z",
     "iopub.status.busy": "2025-05-04T13:10:20.198119Z",
     "iopub.status.idle": "2025-05-04T13:10:20.202472Z",
     "shell.execute_reply": "2025-05-04T13:10:20.202098Z",
     "shell.execute_reply.started": "2025-05-04T13:10:20.198773Z"
    }
   },
   "outputs": [
    {
     "data": {
      "text/plain": [
       "{'/home/models': '/dev/sde',\n",
       " '/home/workspace': '/dev/sdc',\n",
       " '/': '/dev/sdd',\n",
       " '/usr/lib/modules/5.15.167.4-microsoft-standard-WSL2': '',\n",
       " '/usr/lib/wsl/lib': '',\n",
       " '/var/lib/docker': '/dev/sdd'}"
      ]
     },
     "execution_count": 17,
     "metadata": {},
     "output_type": "execute_result"
    }
   ],
   "source": [
    "mountpoints"
   ]
  },
  {
   "cell_type": "code",
   "execution_count": 18,
   "id": "9e36f914-b454-4e67-a575-0f2d10bc2a53",
   "metadata": {
    "execution": {
     "iopub.execute_input": "2025-05-04T13:10:57.316411Z",
     "iopub.status.busy": "2025-05-04T13:10:57.316095Z",
     "iopub.status.idle": "2025-05-04T13:10:57.319237Z",
     "shell.execute_reply": "2025-05-04T13:10:57.318687Z",
     "shell.execute_reply.started": "2025-05-04T13:10:57.316376Z"
    }
   },
   "outputs": [],
   "source": [
    "def map_paths_to_devices(wordslab_paths, mountpoints):\n",
    "    wordslab_paths_devices = {}\n",
    "    sorted_mountpoints = sorted(mountpoints.keys(), key=len, reverse=True)\n",
    "    for path in wordslab_paths:\n",
    "        for mountpoint in sorted_mountpoints:\n",
    "            if path.startswith(mountpoint):\n",
    "                device = mountpoints[mountpoint]\n",
    "                if device not in wordslab_paths_devices:\n",
    "                    wordslab_paths_devices[device] = [path]\n",
    "                else:\n",
    "                    wordslab_paths_devices[device].append(path)\n",
    "                break\n",
    "    return wordslab_paths_devices "
   ]
  },
  {
   "cell_type": "code",
   "execution_count": 19,
   "id": "e7086198-1fdf-4673-b497-2440b7af8fd3",
   "metadata": {
    "execution": {
     "iopub.execute_input": "2025-05-04T13:11:01.570662Z",
     "iopub.status.busy": "2025-05-04T13:11:01.570393Z",
     "iopub.status.idle": "2025-05-04T13:11:01.573899Z",
     "shell.execute_reply": "2025-05-04T13:11:01.573520Z",
     "shell.execute_reply.started": "2025-05-04T13:11:01.570651Z"
    }
   },
   "outputs": [
    {
     "data": {
      "text/plain": [
       "{'/dev/sdc': ['/home/workspace'],\n",
       " '/dev/sdd': ['/', '/home'],\n",
       " '/dev/sde': ['/home/models']}"
      ]
     },
     "execution_count": 19,
     "metadata": {},
     "output_type": "execute_result"
    }
   ],
   "source": [
    "wordslab_paths_devices = map_paths_to_devices(wordslab_paths, mountpoints)\n",
    "wordslab_paths_devices "
   ]
  },
  {
   "cell_type": "code",
   "execution_count": 21,
   "id": "eea55070-79a5-4578-a5da-cb40842226e2",
   "metadata": {
    "execution": {
     "iopub.execute_input": "2025-05-04T13:12:07.333545Z",
     "iopub.status.busy": "2025-05-04T13:12:07.333217Z",
     "iopub.status.idle": "2025-05-04T13:12:07.336928Z",
     "shell.execute_reply": "2025-05-04T13:12:07.336570Z",
     "shell.execute_reply.started": "2025-05-04T13:12:07.333534Z"
    }
   },
   "outputs": [
    {
     "data": {
      "text/plain": [
       "{'/dev/sdc': sdiskusage(total=1081101176832, used=1094873088, free=1025013948416, percent=0.1),\n",
       " '/dev/sdd': sdiskusage(total=1081101176832, used=18279911424, free=1007828910080, percent=1.8),\n",
       " '/dev/sde': sdiskusage(total=1081101176832, used=166313140224, free=859795681280, percent=16.2)}"
      ]
     },
     "execution_count": 21,
     "metadata": {},
     "output_type": "execute_result"
    }
   ],
   "source": [
    "wordslab_devices_usage"
   ]
  },
  {
   "cell_type": "code",
   "execution_count": 22,
   "id": "b73fb957-84a8-4d1d-95b8-87e58870c6b2",
   "metadata": {
    "execution": {
     "iopub.execute_input": "2025-05-04T13:18:31.005872Z",
     "iopub.status.busy": "2025-05-04T13:18:31.005713Z",
     "iopub.status.idle": "2025-05-04T13:18:31.008792Z",
     "shell.execute_reply": "2025-05-04T13:18:31.008423Z",
     "shell.execute_reply.started": "2025-05-04T13:18:31.005862Z"
    }
   },
   "outputs": [],
   "source": [
    "@dataclass\n",
    "class DirectoryMetrics: \n",
    "    env_variable: str\n",
    "    path: Path\n",
    "    size_used: float # GB\n",
    "\n",
    "@dataclass\n",
    "class DiskMetrics:\n",
    "    name: str\n",
    "    size_total: float # GB\n",
    "    size_used: float  # GB\n",
    "    directories: list[DirectoryMetrics]"
   ]
  },
  {
   "cell_type": "code",
   "execution_count": 50,
   "id": "b3121164-08ae-4317-aa7f-ac1a9c9bafc1",
   "metadata": {
    "execution": {
     "iopub.execute_input": "2025-05-04T13:55:46.520257Z",
     "iopub.status.busy": "2025-05-04T13:55:46.520095Z",
     "iopub.status.idle": "2025-05-04T13:55:46.526151Z",
     "shell.execute_reply": "2025-05-04T13:55:46.525797Z",
     "shell.execute_reply.started": "2025-05-04T13:55:46.520247Z"
    }
   },
   "outputs": [],
   "source": [
    "import subprocess\n",
    "\n",
    "def get_directory_size(path):\n",
    "   # Use the 'du' command to get the total size of the directory\n",
    "    result = subprocess.run(['du', '-s', '--block-size=1', path], capture_output=True, text=True, check=True)\n",
    "    # The output is in the format: <size>\\t<path>\n",
    "    size = int(result.stdout.split('\\t')[0])\n",
    "    return size\n",
    "\n",
    "def get_disks_metrics():\n",
    "    worsdlab_paths_sizes = {path:get_directory_size(path) for path in [wordslab_home, wordslab_workspace, wordslab_models]}\n",
    "    if wordslab_workspace.startswith(wordslab_home):\n",
    "        worsdlab_paths_sizes[wordslab_home] -= worsdlab_paths_sizes[wordslab_workspace]\n",
    "    if wordslab_models.startswith(wordslab_home):\n",
    "        worsdlab_paths_sizes[wordslab_home] -= worsdlab_paths_sizes[wordslab_models]\n",
    "    wordslab_devices_usage = {item[0]:psutil.disk_usage(item[1][0]) for item in wordslab_paths_devices.items()}\n",
    "    disks_metrics = []\n",
    "    for disk_name,disk_usage in wordslab_devices_usage.items():\n",
    "        disk_metrics = DiskMetrics(\n",
    "            name=disk_name,\n",
    "            size_total=disk_usage.total / 1024**3,\n",
    "            size_used=disk_usage.used / 1024**3,\n",
    "            directories=[] \n",
    "        )\n",
    "        disks_metrics.append(disk_metrics)\n",
    "        already_counted_size = 0\n",
    "        for path in reversed(wordslab_paths_devices[disk_name]):\n",
    "            path_size = worsdlab_paths_sizes[path] if path!='/' else disk_usage.used\n",
    "            path_size = path_size - already_counted_size\n",
    "            dir_metrics = DirectoryMetrics(\n",
    "                env_variable=wordslab_paths_to_env_variable[path],\n",
    "                path=path,\n",
    "                size_used=path_size / 1024**3\n",
    "            )\n",
    "            disk_metrics.directories.append(dir_metrics)\n",
    "            already_counted_size = already_counted_size + path_size\n",
    "    return disks_metrics"
   ]
  },
  {
   "cell_type": "code",
   "execution_count": 51,
   "id": "2bb8e2ca-ddf3-4ad9-b963-279f3d58e585",
   "metadata": {
    "execution": {
     "iopub.execute_input": "2025-05-04T13:55:46.925607Z",
     "iopub.status.busy": "2025-05-04T13:55:46.925326Z",
     "iopub.status.idle": "2025-05-04T13:55:47.236085Z",
     "shell.execute_reply": "2025-05-04T13:55:47.235687Z",
     "shell.execute_reply.started": "2025-05-04T13:55:46.925596Z"
    }
   },
   "outputs": [
    {
     "data": {
      "text/plain": [
       "[DiskMetrics(name='/dev/sdc', size_total=1006.853931427002, size_used=1.0198287963867188, directories=[DirectoryMetrics(env_variable='WORDSLAB_WORKSPACE', path='/home/workspace', size_used=1.0118560791015625)]),\n",
       " DiskMetrics(name='/dev/sdd', size_total=1006.853931427002, size_used=17.024574279785156, directories=[DirectoryMetrics(env_variable='WORDSLAB_HOME', path='/home', size_used=15.093090057373047), DirectoryMetrics(env_variable='LINUX', path='/', size_used=1.9314842224121094)]),\n",
       " DiskMetrics(name='/dev/sde', size_total=1006.853931427002, size_used=154.89118194580078, directories=[DirectoryMetrics(env_variable='WORDSLAB_MODELS', path='/home/models', size_used=154.88320922851562)])]"
      ]
     },
     "execution_count": 51,
     "metadata": {},
     "output_type": "execute_result"
    }
   ],
   "source": [
    "disks_metrics  = get_disks_metrics()\n",
    "disks_metrics"
   ]
  },
  {
   "cell_type": "code",
   "execution_count": 43,
   "id": "1e82ee9f-2921-477a-aece-fc38ba52d8b9",
   "metadata": {
    "execution": {
     "iopub.execute_input": "2025-05-04T13:47:18.622167Z",
     "iopub.status.busy": "2025-05-04T13:47:18.621827Z",
     "iopub.status.idle": "2025-05-04T13:47:18.625082Z",
     "shell.execute_reply": "2025-05-04T13:47:18.624659Z",
     "shell.execute_reply.started": "2025-05-04T13:47:18.622155Z"
    }
   },
   "outputs": [],
   "source": [
    "from pathlib import Path\n",
    "\n",
    "wordslab_platform = os.getenv(\"WORDSLAB_PLATFORM\")\n",
    "windows_disks = wordslab_platform == \"WindowsSubsystemForLinux\"\n",
    "\n",
    "if windows_disks:\n",
    "    wordslab_windows_home = (Path(wordslab_home) / \".WORDSLAB_WINDOWS_HOME\").read_text().strip()\n",
    "    wordslab_windows_workspace = (Path(wordslab_workspace) / \".WORDSLAB_WINDOWS_WORKSPACE\").read_text().strip()\n",
    "    wordslab_windows_models = (Path(wordslab_models) / \".WORDSLAB_WINDOWS_MODELS\").read_text().strip()"
   ]
  },
  {
   "cell_type": "code",
   "execution_count": 44,
   "id": "2e9d163c-e35f-483d-9b49-c7dcbcb5849b",
   "metadata": {
    "execution": {
     "iopub.execute_input": "2025-05-04T13:47:20.264483Z",
     "iopub.status.busy": "2025-05-04T13:47:20.264094Z",
     "iopub.status.idle": "2025-05-04T13:47:20.269032Z",
     "shell.execute_reply": "2025-05-04T13:47:20.267366Z",
     "shell.execute_reply.started": "2025-05-04T13:47:20.264469Z"
    }
   },
   "outputs": [
    {
     "name": "stdout",
     "output_type": "stream",
     "text": [
      "True\n",
      "C:\\wordslab\\virtual-machines\\wordslab-notebooks C:\\wordslab\\virtual-machines\\wordslab-workspace d:\\wordslab\\virtual-machines\\wordslab-models\n"
     ]
    }
   ],
   "source": [
    "print(windows_disks)\n",
    "if windows_disks:\n",
    "    print(wordslab_windows_home,wordslab_windows_workspace,wordslab_windows_models)"
   ]
  },
  {
   "cell_type": "code",
   "execution_count": 52,
   "id": "aa4121c0-7696-4251-8903-ace264d36e70",
   "metadata": {
    "execution": {
     "iopub.execute_input": "2025-05-04T14:03:53.725436Z",
     "iopub.status.busy": "2025-05-04T14:03:53.724861Z",
     "iopub.status.idle": "2025-05-04T14:03:53.732878Z",
     "shell.execute_reply": "2025-05-04T14:03:53.729980Z",
     "shell.execute_reply.started": "2025-05-04T14:03:53.725422Z"
    }
   },
   "outputs": [],
   "source": [
    "def windows_path_to_linux_vm_file(env_variable, windows_path):\n",
    "    # Replace backslashes with forward slashes\n",
    "    windows_path = windows_path.replace('\\\\', '/')\n",
    "    # Replace the drive letter with /mnt/<drive>\n",
    "    if len(windows_path) > 1 and windows_path[1] == ':':\n",
    "        drive_letter = windows_path[0].lower()\n",
    "        drive_path = f\"/mnt/{drive_letter}\"\n",
    "        linux_file = Path(f\"{drive_path}{windows_path[2:]}\") / \"ext4.vhdx\"\n",
    "    return (windows_path[:2], psutil.disk_usage(drive_path), env_variable, f\"{windows_path}\\\\ext4.vhdx\", linux_file.stat().st_size) "
   ]
  },
  {
   "cell_type": "code",
   "execution_count": 53,
   "id": "984440f0-a36f-48f2-9083-74b198dbbb60",
   "metadata": {
    "execution": {
     "iopub.execute_input": "2025-05-04T14:04:41.696346Z",
     "iopub.status.busy": "2025-05-04T14:04:41.696071Z",
     "iopub.status.idle": "2025-05-04T14:04:41.721837Z",
     "shell.execute_reply": "2025-05-04T14:04:41.720903Z",
     "shell.execute_reply.started": "2025-05-04T14:04:41.696335Z"
    }
   },
   "outputs": [],
   "source": [
    "wordslab_windows_home_vm_file = windows_path_to_linux_vm_file(\"WORDSLAB_WINDOWS_HOME\", wordslab_windows_home)\n",
    "wordslab_windows_workspace_vm_file = windows_path_to_linux_vm_file(\"WORDSLAB_WINDOWS_WORKSPACE\", wordslab_windows_workspace)\n",
    "wordslab_windows_models_vm_file = windows_path_to_linux_vm_file(\"WORDSLAB_WINDOWS_MODELS\", wordslab_windows_models)"
   ]
  },
  {
   "cell_type": "code",
   "execution_count": 54,
   "id": "e47cc624-d29a-4d8a-8e65-0a1e50aa0f2f",
   "metadata": {
    "execution": {
     "iopub.execute_input": "2025-05-04T14:04:42.199256Z",
     "iopub.status.busy": "2025-05-04T14:04:42.198875Z",
     "iopub.status.idle": "2025-05-04T14:04:42.202097Z",
     "shell.execute_reply": "2025-05-04T14:04:42.201589Z",
     "shell.execute_reply.started": "2025-05-04T14:04:42.199242Z"
    }
   },
   "outputs": [
    {
     "data": {
      "text/plain": [
       "(('C:',\n",
       "  sdiskusage(total=2047178960896, used=150881116160, free=1896297844736, percent=7.4),\n",
       "  'WORDSLAB_WINDOWS_HOME',\n",
       "  'C:/wordslab/virtual-machines/wordslab-notebooks\\\\ext4.vhdx',\n",
       "  19152240640),\n",
       " ('C:',\n",
       "  sdiskusage(total=2047178960896, used=150881116160, free=1896297844736, percent=7.4),\n",
       "  'WORDSLAB_WINDOWS_WORKSPACE',\n",
       "  'C:/wordslab/virtual-machines/wordslab-workspace\\\\ext4.vhdx',\n",
       "  2160066560),\n",
       " ('d:',\n",
       "  sdiskusage(total=4000768323584, used=796415913984, free=3204352409600, percent=19.9),\n",
       "  'WORDSLAB_WINDOWS_MODELS',\n",
       "  'd:/wordslab/virtual-machines/wordslab-models\\\\ext4.vhdx',\n",
       "  166638649344))"
      ]
     },
     "execution_count": 54,
     "metadata": {},
     "output_type": "execute_result"
    }
   ],
   "source": [
    "wordslab_windows_home_vm_file, wordslab_windows_workspace_vm_file, wordslab_windows_models_vm_file"
   ]
  },
  {
   "cell_type": "code",
   "execution_count": 64,
   "id": "1e15b3bd-6a75-4a15-8107-ed17cb0b01e4",
   "metadata": {
    "execution": {
     "iopub.execute_input": "2025-05-04T14:07:10.196988Z",
     "iopub.status.busy": "2025-05-04T14:07:10.196731Z",
     "iopub.status.idle": "2025-05-04T14:07:10.201584Z",
     "shell.execute_reply": "2025-05-04T14:07:10.199405Z",
     "shell.execute_reply.started": "2025-05-04T14:07:10.196975Z"
    }
   },
   "outputs": [],
   "source": [
    "def get_windows_disks_metrics():\n",
    "    windows_disks_metrics = {}\n",
    "    for disk_letter,disk_usage,env_variable,vm_file_path,file_size in [wordslab_windows_home_vm_file, wordslab_windows_workspace_vm_file, wordslab_windows_models_vm_file]:\n",
    "        if disk_letter in windows_disks_metrics:\n",
    "            windows_disk_metrics = windows_disks_metrics[disk_letter]\n",
    "        else:\n",
    "            windows_disk_metrics = DiskMetrics(\n",
    "                name=disk_letter,\n",
    "                size_total=disk_usage.total / 1024**3,\n",
    "                size_used=disk_usage.used / 1024**3,\n",
    "                directories=[] \n",
    "            )\n",
    "            windows_disks_metrics[disk_letter] = windows_disk_metrics\n",
    "        windows_disk_metrics.directories.append(\n",
    "            DirectoryMetrics(\n",
    "                env_variable=env_variable,\n",
    "                path=vm_file_path,\n",
    "                size_used=file_size / 1024**3\n",
    "            )\n",
    "        )\n",
    "    return windows_disks_metrics"
   ]
  },
  {
   "cell_type": "code",
   "execution_count": 65,
   "id": "39bbea58-5acd-4a9e-a972-1faabef5a6cd",
   "metadata": {
    "execution": {
     "iopub.execute_input": "2025-05-04T14:07:10.835832Z",
     "iopub.status.busy": "2025-05-04T14:07:10.835450Z",
     "iopub.status.idle": "2025-05-04T14:07:10.839678Z",
     "shell.execute_reply": "2025-05-04T14:07:10.839167Z",
     "shell.execute_reply.started": "2025-05-04T14:07:10.835820Z"
    }
   },
   "outputs": [
    {
     "data": {
      "text/plain": [
       "{'C:': DiskMetrics(name='C:', size_total=1906.5839805603027, size_used=140.51898956298828, directories=[DirectoryMetrics(env_variable='WORDSLAB_WINDOWS_HOME', path='C:/wordslab/virtual-machines/wordslab-notebooks\\\\ext4.vhdx', size_used=17.8369140625), DirectoryMetrics(env_variable='WORDSLAB_WINDOWS_WORKSPACE', path='C:/wordslab/virtual-machines/wordslab-workspace\\\\ext4.vhdx', size_used=2.01171875)]),\n",
       " 'd:': DiskMetrics(name='d:', size_total=3726.0058555603027, size_used=741.7201194763184, directories=[DirectoryMetrics(env_variable='WORDSLAB_WINDOWS_MODELS', path='d:/wordslab/virtual-machines/wordslab-models\\\\ext4.vhdx', size_used=155.1943359375)])}"
      ]
     },
     "execution_count": 65,
     "metadata": {},
     "output_type": "execute_result"
    }
   ],
   "source": [
    "windows_disk_metrics = get_windows_disks_metrics()\n",
    "windows_disk_metrics"
   ]
  },
  {
   "cell_type": "markdown",
   "id": "18182e6f-a715-456b-b7a2-a3386e67b8d9",
   "metadata": {},
   "source": [
    "### Jarvislabs\n",
    "- / -> overlay size No\n",
    "- /home -> /dev/rdb0 size Yes\n",
    "\n",
    "import psutil\n",
    "{part.mountpoint:part.device for part in set(psutil.disk_partitions(all=True)) if part.fstype in {'ext4','xfs','fuse','overlay'} and not \"/mnt/\" in part.mountpoint and not \"nvidia\" in part.mountpoint and not \".so\" in part.mountpoint}\n",
    "\n",
    "{'/etc/hostname': '/dev/nvme0n1p3',\n",
    " '/etc/resolv.conf': '/dev/nvme0n1p3',\n",
    " '/home': '/dev/rbd0',\n",
    " '/usr/sbin/docker-init': '/dev/nvme0n1p3',\n",
    " '/': 'overlay',\n",
    " '/etc/hosts': '/dev/nvme0n1p3'}\n",
    "\n",
    "!df -h /\n",
    "\n",
    "Filesystem      Size  Used Avail Use% Mounted on\n",
    "overlay         1.9T  895G  886G  51% /\n",
    "\n",
    "!df -h /home\n",
    "\n",
    "Filesystem      Size  Used Avail Use% Mounted on\n",
    "/dev/rbd1        20G  177M   20G   1% /home\n",
    "\n",
    "!du -sh /* | sort -h\n",
    "\n",
    "0\t/bin\n",
    "0\t/dev\n",
    "0\t/lib\n",
    "0\t/lib32\n",
    "0\t/lib64\n",
    "0\t/libx32\n",
    "0\t/sbin\n",
    "0\t/sys\n",
    "4.0K\t/boot\n",
    "4.0K\t/docker-entrypoint.sh\n",
    "4.0K\t/media\n",
    "4.0K\t/mnt\n",
    "4.0K\t/srv\n",
    "4.0K\t/tmp\n",
    "4.0K\t/workspace\n",
    "8.0K\t/cuda-keyring_1.1-1_all.deb\n",
    "12K\t/proc\n",
    "20K\t/NGC-DL-CONTAINER-LICENSE\n",
    "92K\t/run\n",
    "2.0M\t/home\n",
    "2.3M\t/etc\n",
    "70M\t/var\n",
    "1.4G\t/opt\n",
    "6.4G\t/usr\n",
    "9.2G\t/root\n",
    "\n",
    "### Runpod\n",
    "- / -> overlay size ?\n",
    "- /workspace -> fuse size KO\n",
    "\n",
    "import psutil\n",
    "{part.mountpoint:part.device for part in set(psutil.disk_partitions(all=True)) if part.fstype in {'ext4','xfs','fuse','overlay'} and not \"/mnt/\" in part.mountpoint and not \"nvidia\" in part.mountpoint and not \".so\" in part.mountpoint}\n",
    "\n",
    "{'/usr/sbin/docker-init': '/dev/nvme3n1p3',\n",
    " '/workspace': 'mfs\\\\043eu-cz-1.runpod.net:9421',\n",
    " '/etc/hosts': '/dev/md0p1',\n",
    " '/etc/resolv.conf': '/dev/md0p1',\n",
    " '/etc/hostname': '/dev/md0p1',\n",
    " '/': 'overlay'}\n",
    "\n",
    "!df -h /workspace\n",
    "\n",
    "Filesystem                   Size  Used Avail Use% Mounted on\n",
    "mfs#eu-cz-1.runpod.net:9421  234T  110T  125T  47% /workspace\n",
    "\n",
    "!du -sh /* | sort -h\n",
    "\n",
    "0\t/bin\n",
    "0\t/boot\n",
    "0\t/dev\n",
    "0\t/home\n",
    "0\t/lib\n",
    "0\t/lib32\n",
    "0\t/lib64\n",
    "0\t/libx32\n",
    "0\t/media\n",
    "0\t/mnt\n",
    "0\t/sbin\n",
    "0\t/srv\n",
    "0\t/sys\n",
    "0\t/tmp\n",
    "4.0K\t/start.sh\n",
    "8.0K\t/cuda-keyring_1.0-1_all.deb\n",
    "8.0K\t/jupyter.log\n",
    "12K\t/proc\n",
    "16K\t/run\n",
    "20K\t/NGC-DL-CONTAINER-LICENSE\n",
    "999K\t/workspace\n",
    "1.9M\t/etc\n",
    "2.6M\t/get-pip.py\n",
    "15M\t/var\n",
    "44M\t/root\n",
    "918M\t/opt\n",
    "12G\t/usr\n",
    "\n",
    "\n",
    "### Vast\n",
    "- / -> overlay size OK\n",
    "\n",
    "{'/etc/hosts': '/dev/md127p1',\n",
    " '/': 'overlay',\n",
    " '/etc/resolv.conf': '/dev/md127p1',\n",
    " '/etc/hostname': '/dev/md127p1'}\n",
    "\n",
    "!du -sh /* | sort -h\n",
    "\n",
    "0\t/bin\n",
    "0\t/boot\n",
    "0\t/dev\n",
    "0\t/lib\n",
    "0\t/lib32\n",
    "0\t/lib64\n",
    "0\t/libx32\n",
    "0\t/media\n",
    "0\t/mnt\n",
    "0\t/sbin\n",
    "0\t/srv\n",
    "0\t/sys\n",
    "4.0K\t/Untitled.ipynb\n",
    "8.0K\t/cuda-keyring_1.0-1_all.deb\n",
    "12K\t/proc\n",
    "16K\t/workspace\n",
    "20K\t/NGC-DL-CONTAINER-LICENSE\n",
    "20K\t/run\n",
    "68K\t/home\n",
    "424K\t/tmp\n",
    "2.3M\t/etc\n",
    "21M\t/root\n",
    "108M\t/var\n",
    "1.8G\t/opt\n",
    "5.0G\t/venv\n",
    "12G\t/usr\n",
    "\n",
    "!df -h /\n",
    "\n",
    " Filesystem      Size  Used Avail Use% Mounted on\n",
    "overlay          16G  2.0M   16G   1% /"
   ]
  },
  {
   "cell_type": "code",
   "execution_count": 140,
   "id": "d367ca91-c213-419f-9248-fbc411fe4bb9",
   "metadata": {
    "execution": {
     "iopub.execute_input": "2025-02-10T23:51:57.740251Z",
     "iopub.status.busy": "2025-02-10T23:51:57.739900Z",
     "iopub.status.idle": "2025-02-10T23:51:57.746524Z",
     "shell.execute_reply": "2025-02-10T23:51:57.745543Z",
     "shell.execute_reply.started": "2025-02-10T23:51:57.740225Z"
    }
   },
   "outputs": [],
   "source": [
    "jarvislabs_mountpoints = {'/etc/hostname': '/dev/nvme0n1p3', '/etc/resolv.conf': '/dev/nvme0n1p3', '/home': '/dev/rbd0', '/usr/sbin/docker-init': '/dev/nvme0n1p3', '/': 'overlay', '/etc/hosts': '/dev/nvme0n1p3'}\n",
    "runpod_mountpoints = {'/usr/sbin/docker-init': '/dev/nvme3n1p3', '/workspace': 'mfs\\\\043eu-cz-1.runpod.net:9421', '/etc/hosts': '/dev/md0p1', '/etc/resolv.conf': '/dev/md0p1', '/etc/hostname': '/dev/md0p1', '/': 'overlay'}\n",
    "vast_mountpoints = {'/etc/hosts': '/dev/md127p1', '/': 'overlay', '/etc/resolv.conf': '/dev/md127p1', '/etc/hostname': '/dev/md127p1'}"
   ]
  },
  {
   "cell_type": "code",
   "execution_count": 141,
   "id": "e1d8ad32-fa14-4a23-bb28-87a0d2604bdc",
   "metadata": {
    "execution": {
     "iopub.execute_input": "2025-02-10T23:51:58.431962Z",
     "iopub.status.busy": "2025-02-10T23:51:58.431218Z",
     "iopub.status.idle": "2025-02-10T23:51:58.437349Z",
     "shell.execute_reply": "2025-02-10T23:51:58.436552Z",
     "shell.execute_reply.started": "2025-02-10T23:51:58.431929Z"
    }
   },
   "outputs": [],
   "source": [
    "def map_paths_to_devices(wordslab_paths, mountpoints):\n",
    "    wordslab_paths_devices = {}\n",
    "    sorted_mountpoints = sorted(mountpoints.keys(), key=len, reverse=True)\n",
    "    for path in wordslab_paths:\n",
    "        for mountpoint in sorted_mountpoints:\n",
    "            if path.startswith(mountpoint):\n",
    "                wordslab_paths_devices[path] = mountpoints[mountpoint]\n",
    "                break\n",
    "    return  wordslab_paths_devices   "
   ]
  },
  {
   "cell_type": "code",
   "execution_count": 142,
   "id": "2e26de15-eb74-4d66-a0d0-ac96aa828e03",
   "metadata": {
    "execution": {
     "iopub.execute_input": "2025-02-10T23:52:00.067146Z",
     "iopub.status.busy": "2025-02-10T23:52:00.066922Z",
     "iopub.status.idle": "2025-02-10T23:52:00.071375Z",
     "shell.execute_reply": "2025-02-10T23:52:00.070919Z",
     "shell.execute_reply.started": "2025-02-10T23:52:00.067132Z"
    }
   },
   "outputs": [
    {
     "data": {
      "text/plain": [
       "{'/': '/dev/sdd',\n",
       " '/home': '/dev/sdd',\n",
       " '/home/workspace': '/dev/sdc',\n",
       " '/home/models': '/dev/sde'}"
      ]
     },
     "execution_count": 142,
     "metadata": {},
     "output_type": "execute_result"
    }
   ],
   "source": [
    "map_paths_to_devices(wordslab_paths, wsl_mountpoints)"
   ]
  },
  {
   "cell_type": "code",
   "execution_count": 143,
   "id": "ed565115-274d-48b7-9a00-17442fee3ce6",
   "metadata": {
    "execution": {
     "iopub.execute_input": "2025-02-10T23:52:00.811367Z",
     "iopub.status.busy": "2025-02-10T23:52:00.810924Z",
     "iopub.status.idle": "2025-02-10T23:52:00.817247Z",
     "shell.execute_reply": "2025-02-10T23:52:00.816951Z",
     "shell.execute_reply.started": "2025-02-10T23:52:00.811338Z"
    }
   },
   "outputs": [
    {
     "data": {
      "text/plain": [
       "{'/': 'overlay',\n",
       " '/home': '/dev/rbd0',\n",
       " '/home/workspace': '/dev/rbd0',\n",
       " '/home/models': '/dev/rbd0'}"
      ]
     },
     "execution_count": 143,
     "metadata": {},
     "output_type": "execute_result"
    }
   ],
   "source": [
    "map_paths_to_devices(wordslab_paths, jarvislabs_mountpoints)"
   ]
  },
  {
   "cell_type": "code",
   "execution_count": 144,
   "id": "308bb357-4907-4a1e-9421-9ddc342d82e1",
   "metadata": {
    "execution": {
     "iopub.execute_input": "2025-02-10T23:52:01.382101Z",
     "iopub.status.busy": "2025-02-10T23:52:01.381713Z",
     "iopub.status.idle": "2025-02-10T23:52:01.391195Z",
     "shell.execute_reply": "2025-02-10T23:52:01.390734Z",
     "shell.execute_reply.started": "2025-02-10T23:52:01.382073Z"
    }
   },
   "outputs": [
    {
     "data": {
      "text/plain": [
       "{'/': 'overlay',\n",
       " '/workspace/workspace': 'mfs\\\\043eu-cz-1.runpod.net:9421',\n",
       " '/workspace': 'mfs\\\\043eu-cz-1.runpod.net:9421',\n",
       " '/workspace/models': 'mfs\\\\043eu-cz-1.runpod.net:9421'}"
      ]
     },
     "execution_count": 144,
     "metadata": {},
     "output_type": "execute_result"
    }
   ],
   "source": [
    "map_paths_to_devices({'/', '/workspace', '/workspace/models', '/workspace/workspace'}, runpod_mountpoints)"
   ]
  },
  {
   "cell_type": "code",
   "execution_count": 145,
   "id": "7ed90e7e-6a57-4c9f-adc3-d6e08d4aef77",
   "metadata": {
    "execution": {
     "iopub.execute_input": "2025-02-10T23:52:02.105812Z",
     "iopub.status.busy": "2025-02-10T23:52:02.105149Z",
     "iopub.status.idle": "2025-02-10T23:52:02.112310Z",
     "shell.execute_reply": "2025-02-10T23:52:02.111896Z",
     "shell.execute_reply.started": "2025-02-10T23:52:02.105780Z"
    }
   },
   "outputs": [
    {
     "data": {
      "text/plain": [
       "{'/': 'overlay',\n",
       " '/home': 'overlay',\n",
       " '/home/workspace': 'overlay',\n",
       " '/home/models': 'overlay'}"
      ]
     },
     "execution_count": 145,
     "metadata": {},
     "output_type": "execute_result"
    }
   ],
   "source": [
    "map_paths_to_devices(wordslab_paths, vast_mountpoints)"
   ]
  },
  {
   "cell_type": "code",
   "execution_count": null,
   "id": "529e2f70-9f94-464e-bc62-ab5b502a2f0d",
   "metadata": {},
   "outputs": [],
   "source": []
  }
 ],
 "metadata": {
  "kernelspec": {
   "display_name": "dashboard",
   "language": "python",
   "name": "dashboard"
  },
  "language_info": {
   "codemirror_mode": {
    "name": "ipython",
    "version": 3
   },
   "file_extension": ".py",
   "mimetype": "text/x-python",
   "name": "python",
   "nbconvert_exporter": "python",
   "pygments_lexer": "ipython3",
   "version": "3.12.10"
  }
 },
 "nbformat": 4,
 "nbformat_minor": 5
}
